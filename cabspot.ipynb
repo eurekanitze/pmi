{
 "cells": [
  {
   "cell_type": "code",
   "execution_count": 1,
   "metadata": {},
   "outputs": [],
   "source": [
    "import pandas as pd\n",
    "import numpy as np\n",
    "import tarfile\n",
    "from datetime import datetime\n",
    "import pygeohash as pgh\n",
    "import haversine as hs\n",
    "from haversine import Unit\n",
    "import pytz\n",
    "import geopy.distance\n",
    "import winsound\n",
    "\n",
    "def alert():\n",
    "    frequency = 2500  # Set Frequency To 2500 Hertz\n",
    "    duration = 1000  # Set Duration To 1000 ms == 1 second\n",
    "    winsound.Beep(frequency, duration)"
   ]
  },
  {
   "cell_type": "markdown",
   "metadata": {},
   "source": [
    "# Data exploration"
   ]
  },
  {
   "cell_type": "code",
   "execution_count": 2,
   "metadata": {},
   "outputs": [],
   "source": [
    "#peeking at a random data sample of new_abnovkak.txt\n",
    "peek_1 = pd.read_csv('new_agdrea.txt', header=None, sep=' ')"
   ]
  },
  {
   "cell_type": "code",
   "execution_count": 3,
   "metadata": {},
   "outputs": [
    {
     "data": {
      "text/html": [
       "<div>\n",
       "<style scoped>\n",
       "    .dataframe tbody tr th:only-of-type {\n",
       "        vertical-align: middle;\n",
       "    }\n",
       "\n",
       "    .dataframe tbody tr th {\n",
       "        vertical-align: top;\n",
       "    }\n",
       "\n",
       "    .dataframe thead th {\n",
       "        text-align: right;\n",
       "    }\n",
       "</style>\n",
       "<table border=\"1\" class=\"dataframe\">\n",
       "  <thead>\n",
       "    <tr style=\"text-align: right;\">\n",
       "      <th></th>\n",
       "      <th>0</th>\n",
       "      <th>1</th>\n",
       "      <th>2</th>\n",
       "      <th>3</th>\n",
       "    </tr>\n",
       "  </thead>\n",
       "  <tbody>\n",
       "    <tr>\n",
       "      <th>0</th>\n",
       "      <td>37.65060</td>\n",
       "      <td>-122.41837</td>\n",
       "      <td>0</td>\n",
       "      <td>1211035143</td>\n",
       "    </tr>\n",
       "    <tr>\n",
       "      <th>1</th>\n",
       "      <td>37.65059</td>\n",
       "      <td>-122.41832</td>\n",
       "      <td>0</td>\n",
       "      <td>1211035214</td>\n",
       "    </tr>\n",
       "    <tr>\n",
       "      <th>2</th>\n",
       "      <td>37.65060</td>\n",
       "      <td>-122.41833</td>\n",
       "      <td>0</td>\n",
       "      <td>1211035265</td>\n",
       "    </tr>\n",
       "    <tr>\n",
       "      <th>3</th>\n",
       "      <td>37.65063</td>\n",
       "      <td>-122.41836</td>\n",
       "      <td>0</td>\n",
       "      <td>1211035325</td>\n",
       "    </tr>\n",
       "    <tr>\n",
       "      <th>4</th>\n",
       "      <td>37.65063</td>\n",
       "      <td>-122.41838</td>\n",
       "      <td>0</td>\n",
       "      <td>1211035386</td>\n",
       "    </tr>\n",
       "  </tbody>\n",
       "</table>\n",
       "</div>"
      ],
      "text/plain": [
       "          0          1  2           3\n",
       "0  37.65060 -122.41837  0  1211035143\n",
       "1  37.65059 -122.41832  0  1211035214\n",
       "2  37.65060 -122.41833  0  1211035265\n",
       "3  37.65063 -122.41836  0  1211035325\n",
       "4  37.65063 -122.41838  0  1211035386"
      ]
     },
     "execution_count": 3,
     "metadata": {},
     "output_type": "execute_result"
    }
   ],
   "source": [
    "peek_1.head()"
   ]
  },
  {
   "cell_type": "code",
   "execution_count": 4,
   "metadata": {},
   "outputs": [],
   "source": [
    "peek_1[3] = pd.to_datetime(peek_1[3], unit='s', utc=True).dt.tz_convert('America/Los_Angeles')"
   ]
  },
  {
   "cell_type": "code",
   "execution_count": 5,
   "metadata": {},
   "outputs": [
    {
     "data": {
      "text/html": [
       "<div>\n",
       "<style scoped>\n",
       "    .dataframe tbody tr th:only-of-type {\n",
       "        vertical-align: middle;\n",
       "    }\n",
       "\n",
       "    .dataframe tbody tr th {\n",
       "        vertical-align: top;\n",
       "    }\n",
       "\n",
       "    .dataframe thead th {\n",
       "        text-align: right;\n",
       "    }\n",
       "</style>\n",
       "<table border=\"1\" class=\"dataframe\">\n",
       "  <thead>\n",
       "    <tr style=\"text-align: right;\">\n",
       "      <th></th>\n",
       "      <th>0</th>\n",
       "      <th>1</th>\n",
       "      <th>2</th>\n",
       "      <th>3</th>\n",
       "    </tr>\n",
       "  </thead>\n",
       "  <tbody>\n",
       "    <tr>\n",
       "      <th>0</th>\n",
       "      <td>37.65060</td>\n",
       "      <td>-122.41837</td>\n",
       "      <td>0</td>\n",
       "      <td>2008-05-17 07:39:03-07:00</td>\n",
       "    </tr>\n",
       "    <tr>\n",
       "      <th>1</th>\n",
       "      <td>37.65059</td>\n",
       "      <td>-122.41832</td>\n",
       "      <td>0</td>\n",
       "      <td>2008-05-17 07:40:14-07:00</td>\n",
       "    </tr>\n",
       "    <tr>\n",
       "      <th>2</th>\n",
       "      <td>37.65060</td>\n",
       "      <td>-122.41833</td>\n",
       "      <td>0</td>\n",
       "      <td>2008-05-17 07:41:05-07:00</td>\n",
       "    </tr>\n",
       "    <tr>\n",
       "      <th>3</th>\n",
       "      <td>37.65063</td>\n",
       "      <td>-122.41836</td>\n",
       "      <td>0</td>\n",
       "      <td>2008-05-17 07:42:05-07:00</td>\n",
       "    </tr>\n",
       "    <tr>\n",
       "      <th>4</th>\n",
       "      <td>37.65063</td>\n",
       "      <td>-122.41838</td>\n",
       "      <td>0</td>\n",
       "      <td>2008-05-17 07:43:06-07:00</td>\n",
       "    </tr>\n",
       "  </tbody>\n",
       "</table>\n",
       "</div>"
      ],
      "text/plain": [
       "          0          1  2                         3\n",
       "0  37.65060 -122.41837  0 2008-05-17 07:39:03-07:00\n",
       "1  37.65059 -122.41832  0 2008-05-17 07:40:14-07:00\n",
       "2  37.65060 -122.41833  0 2008-05-17 07:41:05-07:00\n",
       "3  37.65063 -122.41836  0 2008-05-17 07:42:05-07:00\n",
       "4  37.65063 -122.41838  0 2008-05-17 07:43:06-07:00"
      ]
     },
     "execution_count": 5,
     "metadata": {},
     "output_type": "execute_result"
    }
   ],
   "source": [
    "peek_1.head()"
   ]
  },
  {
   "cell_type": "code",
   "execution_count": 6,
   "metadata": {},
   "outputs": [
    {
     "data": {
      "text/html": [
       "<div>\n",
       "<style scoped>\n",
       "    .dataframe tbody tr th:only-of-type {\n",
       "        vertical-align: middle;\n",
       "    }\n",
       "\n",
       "    .dataframe tbody tr th {\n",
       "        vertical-align: top;\n",
       "    }\n",
       "\n",
       "    .dataframe thead th {\n",
       "        text-align: right;\n",
       "    }\n",
       "</style>\n",
       "<table border=\"1\" class=\"dataframe\">\n",
       "  <thead>\n",
       "    <tr style=\"text-align: right;\">\n",
       "      <th></th>\n",
       "      <th>0</th>\n",
       "      <th>1</th>\n",
       "      <th>2</th>\n",
       "      <th>3</th>\n",
       "    </tr>\n",
       "  </thead>\n",
       "  <tbody>\n",
       "    <tr>\n",
       "      <th>23725</th>\n",
       "      <td>37.61763</td>\n",
       "      <td>-122.38505</td>\n",
       "      <td>0</td>\n",
       "      <td>2008-06-09 11:27:01-07:00</td>\n",
       "    </tr>\n",
       "    <tr>\n",
       "      <th>23726</th>\n",
       "      <td>37.61767</td>\n",
       "      <td>-122.38499</td>\n",
       "      <td>0</td>\n",
       "      <td>2008-06-09 11:28:01-07:00</td>\n",
       "    </tr>\n",
       "    <tr>\n",
       "      <th>23727</th>\n",
       "      <td>37.61764</td>\n",
       "      <td>-122.38730</td>\n",
       "      <td>0</td>\n",
       "      <td>2008-06-09 11:29:01-07:00</td>\n",
       "    </tr>\n",
       "    <tr>\n",
       "      <th>23728</th>\n",
       "      <td>37.61486</td>\n",
       "      <td>-122.39220</td>\n",
       "      <td>0</td>\n",
       "      <td>2008-06-09 11:30:01-07:00</td>\n",
       "    </tr>\n",
       "    <tr>\n",
       "      <th>23729</th>\n",
       "      <td>37.61574</td>\n",
       "      <td>-122.38810</td>\n",
       "      <td>0</td>\n",
       "      <td>2008-06-09 11:31:16-07:00</td>\n",
       "    </tr>\n",
       "  </tbody>\n",
       "</table>\n",
       "</div>"
      ],
      "text/plain": [
       "              0          1  2                         3\n",
       "23725  37.61763 -122.38505  0 2008-06-09 11:27:01-07:00\n",
       "23726  37.61767 -122.38499  0 2008-06-09 11:28:01-07:00\n",
       "23727  37.61764 -122.38730  0 2008-06-09 11:29:01-07:00\n",
       "23728  37.61486 -122.39220  0 2008-06-09 11:30:01-07:00\n",
       "23729  37.61574 -122.38810  0 2008-06-09 11:31:16-07:00"
      ]
     },
     "execution_count": 6,
     "metadata": {},
     "output_type": "execute_result"
    }
   ],
   "source": [
    "peek_1.tail()"
   ]
  },
  {
   "cell_type": "code",
   "execution_count": 7,
   "metadata": {},
   "outputs": [
    {
     "data": {
      "text/plain": [
       "0                                float64\n",
       "1                                float64\n",
       "2                                  int64\n",
       "3    datetime64[ns, America/Los_Angeles]\n",
       "dtype: object"
      ]
     },
     "execution_count": 7,
     "metadata": {},
     "output_type": "execute_result"
    }
   ],
   "source": [
    "peek_1.dtypes"
   ]
  },
  {
   "cell_type": "markdown",
   "metadata": {},
   "source": [
    "From this first peek, we can see that columns:\n",
    "0: latitude; 1: longitude; 2: occupancy; 3: UNIX time with no timezone\n",
    "\n",
    "It is seen that rows are sorted ascending by time (column index 3). Let's peek at a second file."
   ]
  },
  {
   "cell_type": "code",
   "execution_count": 8,
   "metadata": {},
   "outputs": [],
   "source": [
    "peek_2 = pd.read_csv('new_ayshowg.txt', header=None, sep=' ')"
   ]
  },
  {
   "cell_type": "code",
   "execution_count": 9,
   "metadata": {},
   "outputs": [
    {
     "data": {
      "text/html": [
       "<div>\n",
       "<style scoped>\n",
       "    .dataframe tbody tr th:only-of-type {\n",
       "        vertical-align: middle;\n",
       "    }\n",
       "\n",
       "    .dataframe tbody tr th {\n",
       "        vertical-align: top;\n",
       "    }\n",
       "\n",
       "    .dataframe thead th {\n",
       "        text-align: right;\n",
       "    }\n",
       "</style>\n",
       "<table border=\"1\" class=\"dataframe\">\n",
       "  <thead>\n",
       "    <tr style=\"text-align: right;\">\n",
       "      <th></th>\n",
       "      <th>0</th>\n",
       "      <th>1</th>\n",
       "      <th>2</th>\n",
       "      <th>3</th>\n",
       "    </tr>\n",
       "  </thead>\n",
       "  <tbody>\n",
       "    <tr>\n",
       "      <th>0</th>\n",
       "      <td>37.72950</td>\n",
       "      <td>-122.43056</td>\n",
       "      <td>0</td>\n",
       "      <td>1211018452</td>\n",
       "    </tr>\n",
       "    <tr>\n",
       "      <th>1</th>\n",
       "      <td>37.73574</td>\n",
       "      <td>-122.42454</td>\n",
       "      <td>0</td>\n",
       "      <td>1211018512</td>\n",
       "    </tr>\n",
       "    <tr>\n",
       "      <th>2</th>\n",
       "      <td>37.73961</td>\n",
       "      <td>-122.42364</td>\n",
       "      <td>0</td>\n",
       "      <td>1211018576</td>\n",
       "    </tr>\n",
       "    <tr>\n",
       "      <th>3</th>\n",
       "      <td>37.74335</td>\n",
       "      <td>-122.42127</td>\n",
       "      <td>0</td>\n",
       "      <td>1211018632</td>\n",
       "    </tr>\n",
       "    <tr>\n",
       "      <th>4</th>\n",
       "      <td>37.74692</td>\n",
       "      <td>-122.41903</td>\n",
       "      <td>0</td>\n",
       "      <td>1211018705</td>\n",
       "    </tr>\n",
       "  </tbody>\n",
       "</table>\n",
       "</div>"
      ],
      "text/plain": [
       "          0          1  2           3\n",
       "0  37.72950 -122.43056  0  1211018452\n",
       "1  37.73574 -122.42454  0  1211018512\n",
       "2  37.73961 -122.42364  0  1211018576\n",
       "3  37.74335 -122.42127  0  1211018632\n",
       "4  37.74692 -122.41903  0  1211018705"
      ]
     },
     "execution_count": 9,
     "metadata": {},
     "output_type": "execute_result"
    }
   ],
   "source": [
    "peek_2.head()"
   ]
  },
  {
   "cell_type": "code",
   "execution_count": 10,
   "metadata": {},
   "outputs": [
    {
     "data": {
      "text/html": [
       "<div>\n",
       "<style scoped>\n",
       "    .dataframe tbody tr th:only-of-type {\n",
       "        vertical-align: middle;\n",
       "    }\n",
       "\n",
       "    .dataframe tbody tr th {\n",
       "        vertical-align: top;\n",
       "    }\n",
       "\n",
       "    .dataframe thead th {\n",
       "        text-align: right;\n",
       "    }\n",
       "</style>\n",
       "<table border=\"1\" class=\"dataframe\">\n",
       "  <thead>\n",
       "    <tr style=\"text-align: right;\">\n",
       "      <th></th>\n",
       "      <th>0</th>\n",
       "      <th>1</th>\n",
       "      <th>2</th>\n",
       "      <th>3</th>\n",
       "    </tr>\n",
       "  </thead>\n",
       "  <tbody>\n",
       "    <tr>\n",
       "      <th>7780</th>\n",
       "      <td>37.58710</td>\n",
       "      <td>-122.34678</td>\n",
       "      <td>0</td>\n",
       "      <td>1213037654</td>\n",
       "    </tr>\n",
       "    <tr>\n",
       "      <th>7781</th>\n",
       "      <td>37.59098</td>\n",
       "      <td>-122.36260</td>\n",
       "      <td>0</td>\n",
       "      <td>1213037698</td>\n",
       "    </tr>\n",
       "    <tr>\n",
       "      <th>7782</th>\n",
       "      <td>37.59941</td>\n",
       "      <td>-122.37542</td>\n",
       "      <td>0</td>\n",
       "      <td>1213037753</td>\n",
       "    </tr>\n",
       "    <tr>\n",
       "      <th>7783</th>\n",
       "      <td>37.60796</td>\n",
       "      <td>-122.38811</td>\n",
       "      <td>0</td>\n",
       "      <td>1213037791</td>\n",
       "    </tr>\n",
       "    <tr>\n",
       "      <th>7784</th>\n",
       "      <td>37.61564</td>\n",
       "      <td>-122.38822</td>\n",
       "      <td>0</td>\n",
       "      <td>1213037982</td>\n",
       "    </tr>\n",
       "  </tbody>\n",
       "</table>\n",
       "</div>"
      ],
      "text/plain": [
       "             0          1  2           3\n",
       "7780  37.58710 -122.34678  0  1213037654\n",
       "7781  37.59098 -122.36260  0  1213037698\n",
       "7782  37.59941 -122.37542  0  1213037753\n",
       "7783  37.60796 -122.38811  0  1213037791\n",
       "7784  37.61564 -122.38822  0  1213037982"
      ]
     },
     "execution_count": 10,
     "metadata": {},
     "output_type": "execute_result"
    }
   ],
   "source": [
    "peek_2.tail()"
   ]
  },
  {
   "cell_type": "code",
   "execution_count": 11,
   "metadata": {},
   "outputs": [
    {
     "data": {
      "text/plain": [
       "0    float64\n",
       "1    float64\n",
       "2      int64\n",
       "3      int64\n",
       "dtype: object"
      ]
     },
     "execution_count": 11,
     "metadata": {},
     "output_type": "execute_result"
    }
   ],
   "source": [
    "peek_2.dtypes"
   ]
  },
  {
   "cell_type": "markdown",
   "metadata": {},
   "source": [
    "Same findings as in first peek. Now let's load the whole dataset."
   ]
  },
  {
   "cell_type": "code",
   "execution_count": 12,
   "metadata": {},
   "outputs": [],
   "source": [
    "tar_file = tarfile.open('cabspottingdata.tar.gz')"
   ]
  },
  {
   "cell_type": "code",
   "execution_count": 13,
   "metadata": {},
   "outputs": [],
   "source": [
    "txt_files = [f.name for f in tar_file.getmembers() if f.name.endswith('.txt')]"
   ]
  },
  {
   "cell_type": "code",
   "execution_count": 14,
   "metadata": {},
   "outputs": [
    {
     "data": {
      "text/plain": [
       "537"
      ]
     },
     "execution_count": 14,
     "metadata": {},
     "output_type": "execute_result"
    }
   ],
   "source": [
    "#to get how many txt files have been read (it should be 537, as per visually/manually counted)\n",
    "len(txt_files)"
   ]
  },
  {
   "cell_type": "code",
   "execution_count": 15,
   "metadata": {},
   "outputs": [],
   "source": [
    "#creating functions to calculate distance, duration, speed and to create hash\n",
    "\n",
    "def hash(x):\n",
    "    return pgh.encode(x[0],x[1],precision=6)\n",
    "\n",
    "def distance(x): #in miles\n",
    "    coord1 = (x.latitude,x.longitude)\n",
    "    coord2 = (x.prev_latitude,x.prev_longitude)\n",
    "    dist = np.nan\n",
    "    try:\n",
    "        dist = geopy.distance.distance(coord1,coord2).miles\n",
    "    except:\n",
    "        pass\n",
    "    return dist\n",
    "\n",
    "def duration(x): #in hours\n",
    "    return (x.time-x.prev_time)/3600*1.000\n",
    "\n",
    "def speed(x): #in miles per hour\n",
    "    speed = np.nan\n",
    "    try:\n",
    "        speed = x.distance/x.duration\n",
    "    except:\n",
    "        pass\n",
    "    return speed"
   ]
  },
  {
   "cell_type": "code",
   "execution_count": 17,
   "metadata": {},
   "outputs": [
    {
     "name": "stdout",
     "output_type": "stream",
     "text": [
      "Wall time: 5min 27s\n"
     ]
    }
   ],
   "source": [
    "%%time\n",
    "\n",
    "#converting the text files to pandas dataframes, and adding some necessary columns\n",
    "\n",
    "df_array = []\n",
    "\n",
    "for file in txt_files:\n",
    "    \n",
    "    #reading the txt file as pandas dataframe\n",
    "    data = pd.read_csv(file,header=None,sep=' ')\n",
    "    \n",
    "    #adding cab_id column\n",
    "    data['cab_id'] = file.split('/')[2]\n",
    "    data['cab_id'] = data['cab_id'].str.replace('new_','')\n",
    "    data['cab_id'] = data['cab_id'].str.replace('.txt','')\n",
    "    \n",
    "    #removing rows outside of geographic boundary\n",
    "    upper_left = (37.50099307206452, -122.5040592173577)\n",
    "    bottom_right = (37.05005488367874, -121.98034438258429)\n",
    "    \n",
    "    data.drop(data[data[0] < 37.05005488367874].index, inplace=True)\n",
    "    data.drop(data[data[1] < -122.5040592173577].index, inplace=True)\n",
    "    \n",
    "    \n",
    "    #making datetime, day of week, hour of day, and geohash columns\n",
    "    data['datetime'] = pd.to_datetime(data[3], unit='s', utc=True).dt.tz_convert('America/Los_Angeles')\n",
    "#     data['datetime'] = data[3].apply(lambda x: datetime.utcfromtimestamp(x).strftime('%Y-%m-%d %H:%M:%S'))\n",
    "    data['dow'] = data['datetime'].dt.weekday\n",
    "#     data['dow'] = data[3].apply(lambda x: datetime.utcfromtimestamp(x).weekday())\n",
    "    data['hod'] = data['datetime'].dt.hour\n",
    "#     data['hod'] = data[3].apply(lambda x: datetime.utcfromtimestamp(x).hour)\n",
    "    data['geohash'] = data.apply(hash,axis=1)\n",
    "    \n",
    "    #sorting dataframe by time\n",
    "    data.sort_values(3,inplace=True)\n",
    "    \n",
    "    #after sorted by time, we can get the row-by-row previous values for duration, distance, and speed calculation \n",
    "    data['prev_latitude'] = data.groupby(['cab_id'])[0].shift()\n",
    "    data['prev_longitude'] = data.groupby(['cab_id'])[1].shift()\n",
    "    data['prev_time'] = data.groupby(['cab_id'])[3].shift()\n",
    "    data['prev_dow'] = data.groupby(['cab_id'])['dow'].shift()\n",
    "    data['prev_hour'] = data.groupby(['cab_id'])['hod'].shift()\n",
    "    \n",
    "    #appending \n",
    "    df_array.append(data)"
   ]
  },
  {
   "cell_type": "code",
   "execution_count": 19,
   "metadata": {},
   "outputs": [
    {
     "data": {
      "text/plain": [
       "537"
      ]
     },
     "execution_count": 19,
     "metadata": {},
     "output_type": "execute_result"
    }
   ],
   "source": [
    "#checking if array has same number of elements (it should be 537)\n",
    "len(df_array)"
   ]
  },
  {
   "cell_type": "code",
   "execution_count": 20,
   "metadata": {},
   "outputs": [
    {
     "data": {
      "text/html": [
       "<div>\n",
       "<style scoped>\n",
       "    .dataframe tbody tr th:only-of-type {\n",
       "        vertical-align: middle;\n",
       "    }\n",
       "\n",
       "    .dataframe tbody tr th {\n",
       "        vertical-align: top;\n",
       "    }\n",
       "\n",
       "    .dataframe thead th {\n",
       "        text-align: right;\n",
       "    }\n",
       "</style>\n",
       "<table border=\"1\" class=\"dataframe\">\n",
       "  <thead>\n",
       "    <tr style=\"text-align: right;\">\n",
       "      <th></th>\n",
       "      <th>0</th>\n",
       "      <th>1</th>\n",
       "      <th>2</th>\n",
       "      <th>3</th>\n",
       "      <th>cab_id</th>\n",
       "      <th>datetime</th>\n",
       "      <th>dow</th>\n",
       "      <th>hod</th>\n",
       "      <th>geohash</th>\n",
       "      <th>prev_latitude</th>\n",
       "      <th>prev_longitude</th>\n",
       "      <th>prev_time</th>\n",
       "      <th>prev_dow</th>\n",
       "      <th>prev_hour</th>\n",
       "    </tr>\n",
       "  </thead>\n",
       "  <tbody>\n",
       "    <tr>\n",
       "      <th>22219</th>\n",
       "      <td>37.70789</td>\n",
       "      <td>-122.39480</td>\n",
       "      <td>0</td>\n",
       "      <td>1213033087</td>\n",
       "      <td>uvreoipy</td>\n",
       "      <td>2008-06-09 10:38:07-07:00</td>\n",
       "      <td>0</td>\n",
       "      <td>10</td>\n",
       "      <td>9q8ywb</td>\n",
       "      <td>37.69465</td>\n",
       "      <td>-122.39180</td>\n",
       "      <td>1.213033e+09</td>\n",
       "      <td>0.0</td>\n",
       "      <td>10.0</td>\n",
       "    </tr>\n",
       "    <tr>\n",
       "      <th>22220</th>\n",
       "      <td>37.72095</td>\n",
       "      <td>-122.40007</td>\n",
       "      <td>0</td>\n",
       "      <td>1213033128</td>\n",
       "      <td>uvreoipy</td>\n",
       "      <td>2008-06-09 10:38:48-07:00</td>\n",
       "      <td>0</td>\n",
       "      <td>10</td>\n",
       "      <td>9q8ywd</td>\n",
       "      <td>37.70789</td>\n",
       "      <td>-122.39480</td>\n",
       "      <td>1.213033e+09</td>\n",
       "      <td>0.0</td>\n",
       "      <td>10.0</td>\n",
       "    </tr>\n",
       "    <tr>\n",
       "      <th>22221</th>\n",
       "      <td>37.73351</td>\n",
       "      <td>-122.40562</td>\n",
       "      <td>0</td>\n",
       "      <td>1213033182</td>\n",
       "      <td>uvreoipy</td>\n",
       "      <td>2008-06-09 10:39:42-07:00</td>\n",
       "      <td>0</td>\n",
       "      <td>10</td>\n",
       "      <td>9q8ywt</td>\n",
       "      <td>37.72095</td>\n",
       "      <td>-122.40007</td>\n",
       "      <td>1.213033e+09</td>\n",
       "      <td>0.0</td>\n",
       "      <td>10.0</td>\n",
       "    </tr>\n",
       "    <tr>\n",
       "      <th>22222</th>\n",
       "      <td>37.74880</td>\n",
       "      <td>-122.40430</td>\n",
       "      <td>0</td>\n",
       "      <td>1213033292</td>\n",
       "      <td>uvreoipy</td>\n",
       "      <td>2008-06-09 10:41:32-07:00</td>\n",
       "      <td>0</td>\n",
       "      <td>10</td>\n",
       "      <td>9q8ywx</td>\n",
       "      <td>37.73351</td>\n",
       "      <td>-122.40562</td>\n",
       "      <td>1.213033e+09</td>\n",
       "      <td>0.0</td>\n",
       "      <td>10.0</td>\n",
       "    </tr>\n",
       "    <tr>\n",
       "      <th>22223</th>\n",
       "      <td>37.74858</td>\n",
       "      <td>-122.40748</td>\n",
       "      <td>0</td>\n",
       "      <td>1213033330</td>\n",
       "      <td>uvreoipy</td>\n",
       "      <td>2008-06-09 10:42:10-07:00</td>\n",
       "      <td>0</td>\n",
       "      <td>10</td>\n",
       "      <td>9q8ywx</td>\n",
       "      <td>37.74880</td>\n",
       "      <td>-122.40430</td>\n",
       "      <td>1.213033e+09</td>\n",
       "      <td>0.0</td>\n",
       "      <td>10.0</td>\n",
       "    </tr>\n",
       "    <tr>\n",
       "      <th>22224</th>\n",
       "      <td>37.74835</td>\n",
       "      <td>-122.41132</td>\n",
       "      <td>0</td>\n",
       "      <td>1213033359</td>\n",
       "      <td>uvreoipy</td>\n",
       "      <td>2008-06-09 10:42:39-07:00</td>\n",
       "      <td>0</td>\n",
       "      <td>10</td>\n",
       "      <td>9q8ywr</td>\n",
       "      <td>37.74858</td>\n",
       "      <td>-122.40748</td>\n",
       "      <td>1.213033e+09</td>\n",
       "      <td>0.0</td>\n",
       "      <td>10.0</td>\n",
       "    </tr>\n",
       "    <tr>\n",
       "      <th>22225</th>\n",
       "      <td>37.74831</td>\n",
       "      <td>-122.41349</td>\n",
       "      <td>0</td>\n",
       "      <td>1213033421</td>\n",
       "      <td>uvreoipy</td>\n",
       "      <td>2008-06-09 10:43:41-07:00</td>\n",
       "      <td>0</td>\n",
       "      <td>10</td>\n",
       "      <td>9q8ywr</td>\n",
       "      <td>37.74835</td>\n",
       "      <td>-122.41132</td>\n",
       "      <td>1.213033e+09</td>\n",
       "      <td>0.0</td>\n",
       "      <td>10.0</td>\n",
       "    </tr>\n",
       "    <tr>\n",
       "      <th>22226</th>\n",
       "      <td>37.74821</td>\n",
       "      <td>-122.41955</td>\n",
       "      <td>0</td>\n",
       "      <td>1213033475</td>\n",
       "      <td>uvreoipy</td>\n",
       "      <td>2008-06-09 10:44:35-07:00</td>\n",
       "      <td>0</td>\n",
       "      <td>10</td>\n",
       "      <td>9q8ywr</td>\n",
       "      <td>37.74831</td>\n",
       "      <td>-122.41349</td>\n",
       "      <td>1.213033e+09</td>\n",
       "      <td>0.0</td>\n",
       "      <td>10.0</td>\n",
       "    </tr>\n",
       "    <tr>\n",
       "      <th>22227</th>\n",
       "      <td>37.74791</td>\n",
       "      <td>-122.42394</td>\n",
       "      <td>0</td>\n",
       "      <td>1213033543</td>\n",
       "      <td>uvreoipy</td>\n",
       "      <td>2008-06-09 10:45:43-07:00</td>\n",
       "      <td>0</td>\n",
       "      <td>10</td>\n",
       "      <td>9q8ywp</td>\n",
       "      <td>37.74821</td>\n",
       "      <td>-122.41955</td>\n",
       "      <td>1.213033e+09</td>\n",
       "      <td>0.0</td>\n",
       "      <td>10.0</td>\n",
       "    </tr>\n",
       "    <tr>\n",
       "      <th>22228</th>\n",
       "      <td>37.74774</td>\n",
       "      <td>-122.42690</td>\n",
       "      <td>0</td>\n",
       "      <td>1213033567</td>\n",
       "      <td>uvreoipy</td>\n",
       "      <td>2008-06-09 10:46:07-07:00</td>\n",
       "      <td>0</td>\n",
       "      <td>10</td>\n",
       "      <td>9q8ywp</td>\n",
       "      <td>37.74791</td>\n",
       "      <td>-122.42394</td>\n",
       "      <td>1.213034e+09</td>\n",
       "      <td>0.0</td>\n",
       "      <td>10.0</td>\n",
       "    </tr>\n",
       "    <tr>\n",
       "      <th>22229</th>\n",
       "      <td>37.74849</td>\n",
       "      <td>-122.43160</td>\n",
       "      <td>0</td>\n",
       "      <td>1213033620</td>\n",
       "      <td>uvreoipy</td>\n",
       "      <td>2008-06-09 10:47:00-07:00</td>\n",
       "      <td>0</td>\n",
       "      <td>10</td>\n",
       "      <td>9q8ywp</td>\n",
       "      <td>37.74774</td>\n",
       "      <td>-122.42690</td>\n",
       "      <td>1.213034e+09</td>\n",
       "      <td>0.0</td>\n",
       "      <td>10.0</td>\n",
       "    </tr>\n",
       "    <tr>\n",
       "      <th>22230</th>\n",
       "      <td>37.74887</td>\n",
       "      <td>-122.43451</td>\n",
       "      <td>0</td>\n",
       "      <td>1213033656</td>\n",
       "      <td>uvreoipy</td>\n",
       "      <td>2008-06-09 10:47:36-07:00</td>\n",
       "      <td>0</td>\n",
       "      <td>10</td>\n",
       "      <td>9q8ytz</td>\n",
       "      <td>37.74849</td>\n",
       "      <td>-122.43160</td>\n",
       "      <td>1.213034e+09</td>\n",
       "      <td>0.0</td>\n",
       "      <td>10.0</td>\n",
       "    </tr>\n",
       "    <tr>\n",
       "      <th>22231</th>\n",
       "      <td>37.74887</td>\n",
       "      <td>-122.43451</td>\n",
       "      <td>0</td>\n",
       "      <td>1213033670</td>\n",
       "      <td>uvreoipy</td>\n",
       "      <td>2008-06-09 10:47:50-07:00</td>\n",
       "      <td>0</td>\n",
       "      <td>10</td>\n",
       "      <td>9q8ytz</td>\n",
       "      <td>37.74887</td>\n",
       "      <td>-122.43451</td>\n",
       "      <td>1.213034e+09</td>\n",
       "      <td>0.0</td>\n",
       "      <td>10.0</td>\n",
       "    </tr>\n",
       "    <tr>\n",
       "      <th>22232</th>\n",
       "      <td>37.75175</td>\n",
       "      <td>-122.43857</td>\n",
       "      <td>0</td>\n",
       "      <td>1213033748</td>\n",
       "      <td>uvreoipy</td>\n",
       "      <td>2008-06-09 10:49:08-07:00</td>\n",
       "      <td>0</td>\n",
       "      <td>10</td>\n",
       "      <td>9q8yvb</td>\n",
       "      <td>37.74887</td>\n",
       "      <td>-122.43451</td>\n",
       "      <td>1.213034e+09</td>\n",
       "      <td>0.0</td>\n",
       "      <td>10.0</td>\n",
       "    </tr>\n",
       "    <tr>\n",
       "      <th>22233</th>\n",
       "      <td>37.75178</td>\n",
       "      <td>-122.43970</td>\n",
       "      <td>0</td>\n",
       "      <td>1213033810</td>\n",
       "      <td>uvreoipy</td>\n",
       "      <td>2008-06-09 10:50:10-07:00</td>\n",
       "      <td>0</td>\n",
       "      <td>10</td>\n",
       "      <td>9q8yvb</td>\n",
       "      <td>37.75175</td>\n",
       "      <td>-122.43857</td>\n",
       "      <td>1.213034e+09</td>\n",
       "      <td>0.0</td>\n",
       "      <td>10.0</td>\n",
       "    </tr>\n",
       "    <tr>\n",
       "      <th>22234</th>\n",
       "      <td>37.75179</td>\n",
       "      <td>-122.43968</td>\n",
       "      <td>0</td>\n",
       "      <td>1213033861</td>\n",
       "      <td>uvreoipy</td>\n",
       "      <td>2008-06-09 10:51:01-07:00</td>\n",
       "      <td>0</td>\n",
       "      <td>10</td>\n",
       "      <td>9q8yvb</td>\n",
       "      <td>37.75178</td>\n",
       "      <td>-122.43970</td>\n",
       "      <td>1.213034e+09</td>\n",
       "      <td>0.0</td>\n",
       "      <td>10.0</td>\n",
       "    </tr>\n",
       "    <tr>\n",
       "      <th>22235</th>\n",
       "      <td>37.75178</td>\n",
       "      <td>-122.43973</td>\n",
       "      <td>0</td>\n",
       "      <td>1213033927</td>\n",
       "      <td>uvreoipy</td>\n",
       "      <td>2008-06-09 10:52:07-07:00</td>\n",
       "      <td>0</td>\n",
       "      <td>10</td>\n",
       "      <td>9q8yvb</td>\n",
       "      <td>37.75179</td>\n",
       "      <td>-122.43968</td>\n",
       "      <td>1.213034e+09</td>\n",
       "      <td>0.0</td>\n",
       "      <td>10.0</td>\n",
       "    </tr>\n",
       "    <tr>\n",
       "      <th>22236</th>\n",
       "      <td>37.75178</td>\n",
       "      <td>-122.43971</td>\n",
       "      <td>0</td>\n",
       "      <td>1213033983</td>\n",
       "      <td>uvreoipy</td>\n",
       "      <td>2008-06-09 10:53:03-07:00</td>\n",
       "      <td>0</td>\n",
       "      <td>10</td>\n",
       "      <td>9q8yvb</td>\n",
       "      <td>37.75178</td>\n",
       "      <td>-122.43973</td>\n",
       "      <td>1.213034e+09</td>\n",
       "      <td>0.0</td>\n",
       "      <td>10.0</td>\n",
       "    </tr>\n",
       "    <tr>\n",
       "      <th>22237</th>\n",
       "      <td>37.75180</td>\n",
       "      <td>-122.43968</td>\n",
       "      <td>0</td>\n",
       "      <td>1213034019</td>\n",
       "      <td>uvreoipy</td>\n",
       "      <td>2008-06-09 10:53:39-07:00</td>\n",
       "      <td>0</td>\n",
       "      <td>10</td>\n",
       "      <td>9q8yvb</td>\n",
       "      <td>37.75178</td>\n",
       "      <td>-122.43971</td>\n",
       "      <td>1.213034e+09</td>\n",
       "      <td>0.0</td>\n",
       "      <td>10.0</td>\n",
       "    </tr>\n",
       "    <tr>\n",
       "      <th>22238</th>\n",
       "      <td>37.75400</td>\n",
       "      <td>-122.43876</td>\n",
       "      <td>0</td>\n",
       "      <td>1213034082</td>\n",
       "      <td>uvreoipy</td>\n",
       "      <td>2008-06-09 10:54:42-07:00</td>\n",
       "      <td>0</td>\n",
       "      <td>10</td>\n",
       "      <td>9q8yvb</td>\n",
       "      <td>37.75180</td>\n",
       "      <td>-122.43968</td>\n",
       "      <td>1.213034e+09</td>\n",
       "      <td>0.0</td>\n",
       "      <td>10.0</td>\n",
       "    </tr>\n",
       "    <tr>\n",
       "      <th>22239</th>\n",
       "      <td>37.75593</td>\n",
       "      <td>-122.43687</td>\n",
       "      <td>0</td>\n",
       "      <td>1213034142</td>\n",
       "      <td>uvreoipy</td>\n",
       "      <td>2008-06-09 10:55:42-07:00</td>\n",
       "      <td>0</td>\n",
       "      <td>10</td>\n",
       "      <td>9q8yvc</td>\n",
       "      <td>37.75400</td>\n",
       "      <td>-122.43876</td>\n",
       "      <td>1.213034e+09</td>\n",
       "      <td>0.0</td>\n",
       "      <td>10.0</td>\n",
       "    </tr>\n",
       "    <tr>\n",
       "      <th>22240</th>\n",
       "      <td>37.75607</td>\n",
       "      <td>-122.43609</td>\n",
       "      <td>1</td>\n",
       "      <td>1213034191</td>\n",
       "      <td>uvreoipy</td>\n",
       "      <td>2008-06-09 10:56:31-07:00</td>\n",
       "      <td>0</td>\n",
       "      <td>10</td>\n",
       "      <td>9q8yvc</td>\n",
       "      <td>37.75593</td>\n",
       "      <td>-122.43687</td>\n",
       "      <td>1.213034e+09</td>\n",
       "      <td>0.0</td>\n",
       "      <td>10.0</td>\n",
       "    </tr>\n",
       "    <tr>\n",
       "      <th>22241</th>\n",
       "      <td>37.75886</td>\n",
       "      <td>-122.43700</td>\n",
       "      <td>1</td>\n",
       "      <td>1213034250</td>\n",
       "      <td>uvreoipy</td>\n",
       "      <td>2008-06-09 10:57:30-07:00</td>\n",
       "      <td>0</td>\n",
       "      <td>10</td>\n",
       "      <td>9q8yvc</td>\n",
       "      <td>37.75607</td>\n",
       "      <td>-122.43609</td>\n",
       "      <td>1.213034e+09</td>\n",
       "      <td>0.0</td>\n",
       "      <td>10.0</td>\n",
       "    </tr>\n",
       "    <tr>\n",
       "      <th>22242</th>\n",
       "      <td>37.75988</td>\n",
       "      <td>-122.43708</td>\n",
       "      <td>1</td>\n",
       "      <td>1213034289</td>\n",
       "      <td>uvreoipy</td>\n",
       "      <td>2008-06-09 10:58:09-07:00</td>\n",
       "      <td>0</td>\n",
       "      <td>10</td>\n",
       "      <td>9q8yvc</td>\n",
       "      <td>37.75886</td>\n",
       "      <td>-122.43700</td>\n",
       "      <td>1.213034e+09</td>\n",
       "      <td>0.0</td>\n",
       "      <td>10.0</td>\n",
       "    </tr>\n",
       "    <tr>\n",
       "      <th>22243</th>\n",
       "      <td>37.75988</td>\n",
       "      <td>-122.43708</td>\n",
       "      <td>0</td>\n",
       "      <td>1213034290</td>\n",
       "      <td>uvreoipy</td>\n",
       "      <td>2008-06-09 10:58:10-07:00</td>\n",
       "      <td>0</td>\n",
       "      <td>10</td>\n",
       "      <td>9q8yvc</td>\n",
       "      <td>37.75988</td>\n",
       "      <td>-122.43708</td>\n",
       "      <td>1.213034e+09</td>\n",
       "      <td>0.0</td>\n",
       "      <td>10.0</td>\n",
       "    </tr>\n",
       "    <tr>\n",
       "      <th>22244</th>\n",
       "      <td>37.76085</td>\n",
       "      <td>-122.43519</td>\n",
       "      <td>0</td>\n",
       "      <td>1213034376</td>\n",
       "      <td>uvreoipy</td>\n",
       "      <td>2008-06-09 10:59:36-07:00</td>\n",
       "      <td>0</td>\n",
       "      <td>10</td>\n",
       "      <td>9q8yvf</td>\n",
       "      <td>37.75988</td>\n",
       "      <td>-122.43708</td>\n",
       "      <td>1.213034e+09</td>\n",
       "      <td>0.0</td>\n",
       "      <td>10.0</td>\n",
       "    </tr>\n",
       "    <tr>\n",
       "      <th>22245</th>\n",
       "      <td>37.75917</td>\n",
       "      <td>-122.43697</td>\n",
       "      <td>0</td>\n",
       "      <td>1213034436</td>\n",
       "      <td>uvreoipy</td>\n",
       "      <td>2008-06-09 11:00:36-07:00</td>\n",
       "      <td>0</td>\n",
       "      <td>11</td>\n",
       "      <td>9q8yvc</td>\n",
       "      <td>37.76085</td>\n",
       "      <td>-122.43519</td>\n",
       "      <td>1.213034e+09</td>\n",
       "      <td>0.0</td>\n",
       "      <td>10.0</td>\n",
       "    </tr>\n",
       "    <tr>\n",
       "      <th>22246</th>\n",
       "      <td>37.75902</td>\n",
       "      <td>-122.44102</td>\n",
       "      <td>0</td>\n",
       "      <td>1213034516</td>\n",
       "      <td>uvreoipy</td>\n",
       "      <td>2008-06-09 11:01:56-07:00</td>\n",
       "      <td>0</td>\n",
       "      <td>11</td>\n",
       "      <td>9q8yvc</td>\n",
       "      <td>37.75917</td>\n",
       "      <td>-122.43697</td>\n",
       "      <td>1.213034e+09</td>\n",
       "      <td>0.0</td>\n",
       "      <td>11.0</td>\n",
       "    </tr>\n",
       "    <tr>\n",
       "      <th>22247</th>\n",
       "      <td>37.75902</td>\n",
       "      <td>-122.44099</td>\n",
       "      <td>0</td>\n",
       "      <td>1213034590</td>\n",
       "      <td>uvreoipy</td>\n",
       "      <td>2008-06-09 11:03:10-07:00</td>\n",
       "      <td>0</td>\n",
       "      <td>11</td>\n",
       "      <td>9q8yvc</td>\n",
       "      <td>37.75902</td>\n",
       "      <td>-122.44102</td>\n",
       "      <td>1.213035e+09</td>\n",
       "      <td>0.0</td>\n",
       "      <td>11.0</td>\n",
       "    </tr>\n",
       "    <tr>\n",
       "      <th>22248</th>\n",
       "      <td>37.75899</td>\n",
       "      <td>-122.44103</td>\n",
       "      <td>0</td>\n",
       "      <td>1213034677</td>\n",
       "      <td>uvreoipy</td>\n",
       "      <td>2008-06-09 11:04:37-07:00</td>\n",
       "      <td>0</td>\n",
       "      <td>11</td>\n",
       "      <td>9q8yvc</td>\n",
       "      <td>37.75902</td>\n",
       "      <td>-122.44099</td>\n",
       "      <td>1.213035e+09</td>\n",
       "      <td>0.0</td>\n",
       "      <td>11.0</td>\n",
       "    </tr>\n",
       "    <tr>\n",
       "      <th>22249</th>\n",
       "      <td>37.75899</td>\n",
       "      <td>-122.44103</td>\n",
       "      <td>0</td>\n",
       "      <td>1213034743</td>\n",
       "      <td>uvreoipy</td>\n",
       "      <td>2008-06-09 11:05:43-07:00</td>\n",
       "      <td>0</td>\n",
       "      <td>11</td>\n",
       "      <td>9q8yvc</td>\n",
       "      <td>37.75899</td>\n",
       "      <td>-122.44103</td>\n",
       "      <td>1.213035e+09</td>\n",
       "      <td>0.0</td>\n",
       "      <td>11.0</td>\n",
       "    </tr>\n",
       "    <tr>\n",
       "      <th>22250</th>\n",
       "      <td>37.75902</td>\n",
       "      <td>-122.44068</td>\n",
       "      <td>1</td>\n",
       "      <td>1213034779</td>\n",
       "      <td>uvreoipy</td>\n",
       "      <td>2008-06-09 11:06:19-07:00</td>\n",
       "      <td>0</td>\n",
       "      <td>11</td>\n",
       "      <td>9q8yvc</td>\n",
       "      <td>37.75899</td>\n",
       "      <td>-122.44103</td>\n",
       "      <td>1.213035e+09</td>\n",
       "      <td>0.0</td>\n",
       "      <td>11.0</td>\n",
       "    </tr>\n",
       "    <tr>\n",
       "      <th>22251</th>\n",
       "      <td>37.75895</td>\n",
       "      <td>-122.44211</td>\n",
       "      <td>1</td>\n",
       "      <td>1213034832</td>\n",
       "      <td>uvreoipy</td>\n",
       "      <td>2008-06-09 11:07:12-07:00</td>\n",
       "      <td>0</td>\n",
       "      <td>11</td>\n",
       "      <td>9q8yvc</td>\n",
       "      <td>37.75902</td>\n",
       "      <td>-122.44068</td>\n",
       "      <td>1.213035e+09</td>\n",
       "      <td>0.0</td>\n",
       "      <td>11.0</td>\n",
       "    </tr>\n",
       "    <tr>\n",
       "      <th>22252</th>\n",
       "      <td>37.75653</td>\n",
       "      <td>-122.44174</td>\n",
       "      <td>1</td>\n",
       "      <td>1213034892</td>\n",
       "      <td>uvreoipy</td>\n",
       "      <td>2008-06-09 11:08:12-07:00</td>\n",
       "      <td>0</td>\n",
       "      <td>11</td>\n",
       "      <td>9q8yvc</td>\n",
       "      <td>37.75895</td>\n",
       "      <td>-122.44211</td>\n",
       "      <td>1.213035e+09</td>\n",
       "      <td>0.0</td>\n",
       "      <td>11.0</td>\n",
       "    </tr>\n",
       "    <tr>\n",
       "      <th>22253</th>\n",
       "      <td>37.74834</td>\n",
       "      <td>-122.44431</td>\n",
       "      <td>1</td>\n",
       "      <td>1213034955</td>\n",
       "      <td>uvreoipy</td>\n",
       "      <td>2008-06-09 11:09:15-07:00</td>\n",
       "      <td>0</td>\n",
       "      <td>11</td>\n",
       "      <td>9q8ytx</td>\n",
       "      <td>37.75653</td>\n",
       "      <td>-122.44174</td>\n",
       "      <td>1.213035e+09</td>\n",
       "      <td>0.0</td>\n",
       "      <td>11.0</td>\n",
       "    </tr>\n",
       "    <tr>\n",
       "      <th>22254</th>\n",
       "      <td>37.75049</td>\n",
       "      <td>-122.44574</td>\n",
       "      <td>1</td>\n",
       "      <td>1213035023</td>\n",
       "      <td>uvreoipy</td>\n",
       "      <td>2008-06-09 11:10:23-07:00</td>\n",
       "      <td>0</td>\n",
       "      <td>11</td>\n",
       "      <td>9q8yv8</td>\n",
       "      <td>37.74834</td>\n",
       "      <td>-122.44431</td>\n",
       "      <td>1.213035e+09</td>\n",
       "      <td>0.0</td>\n",
       "      <td>11.0</td>\n",
       "    </tr>\n",
       "    <tr>\n",
       "      <th>22255</th>\n",
       "      <td>37.75283</td>\n",
       "      <td>-122.44541</td>\n",
       "      <td>1</td>\n",
       "      <td>1213035056</td>\n",
       "      <td>uvreoipy</td>\n",
       "      <td>2008-06-09 11:10:56-07:00</td>\n",
       "      <td>0</td>\n",
       "      <td>11</td>\n",
       "      <td>9q8yv8</td>\n",
       "      <td>37.75049</td>\n",
       "      <td>-122.44574</td>\n",
       "      <td>1.213035e+09</td>\n",
       "      <td>0.0</td>\n",
       "      <td>11.0</td>\n",
       "    </tr>\n",
       "    <tr>\n",
       "      <th>22256</th>\n",
       "      <td>37.75283</td>\n",
       "      <td>-122.44541</td>\n",
       "      <td>0</td>\n",
       "      <td>1213035057</td>\n",
       "      <td>uvreoipy</td>\n",
       "      <td>2008-06-09 11:10:57-07:00</td>\n",
       "      <td>0</td>\n",
       "      <td>11</td>\n",
       "      <td>9q8yv8</td>\n",
       "      <td>37.75283</td>\n",
       "      <td>-122.44541</td>\n",
       "      <td>1.213035e+09</td>\n",
       "      <td>0.0</td>\n",
       "      <td>11.0</td>\n",
       "    </tr>\n",
       "    <tr>\n",
       "      <th>22257</th>\n",
       "      <td>37.75309</td>\n",
       "      <td>-122.44540</td>\n",
       "      <td>0</td>\n",
       "      <td>1213035102</td>\n",
       "      <td>uvreoipy</td>\n",
       "      <td>2008-06-09 11:11:42-07:00</td>\n",
       "      <td>0</td>\n",
       "      <td>11</td>\n",
       "      <td>9q8yv8</td>\n",
       "      <td>37.75283</td>\n",
       "      <td>-122.44541</td>\n",
       "      <td>1.213035e+09</td>\n",
       "      <td>0.0</td>\n",
       "      <td>11.0</td>\n",
       "    </tr>\n",
       "    <tr>\n",
       "      <th>22258</th>\n",
       "      <td>37.75298</td>\n",
       "      <td>-122.44538</td>\n",
       "      <td>0</td>\n",
       "      <td>1213035162</td>\n",
       "      <td>uvreoipy</td>\n",
       "      <td>2008-06-09 11:12:42-07:00</td>\n",
       "      <td>0</td>\n",
       "      <td>11</td>\n",
       "      <td>9q8yv8</td>\n",
       "      <td>37.75309</td>\n",
       "      <td>-122.44540</td>\n",
       "      <td>1.213035e+09</td>\n",
       "      <td>0.0</td>\n",
       "      <td>11.0</td>\n",
       "    </tr>\n",
       "    <tr>\n",
       "      <th>22259</th>\n",
       "      <td>37.75248</td>\n",
       "      <td>-122.44543</td>\n",
       "      <td>0</td>\n",
       "      <td>1213035223</td>\n",
       "      <td>uvreoipy</td>\n",
       "      <td>2008-06-09 11:13:43-07:00</td>\n",
       "      <td>0</td>\n",
       "      <td>11</td>\n",
       "      <td>9q8yv8</td>\n",
       "      <td>37.75298</td>\n",
       "      <td>-122.44538</td>\n",
       "      <td>1.213035e+09</td>\n",
       "      <td>0.0</td>\n",
       "      <td>11.0</td>\n",
       "    </tr>\n",
       "    <tr>\n",
       "      <th>22260</th>\n",
       "      <td>37.74929</td>\n",
       "      <td>-122.44482</td>\n",
       "      <td>0</td>\n",
       "      <td>1213035286</td>\n",
       "      <td>uvreoipy</td>\n",
       "      <td>2008-06-09 11:14:46-07:00</td>\n",
       "      <td>0</td>\n",
       "      <td>11</td>\n",
       "      <td>9q8yv8</td>\n",
       "      <td>37.75248</td>\n",
       "      <td>-122.44543</td>\n",
       "      <td>1.213035e+09</td>\n",
       "      <td>0.0</td>\n",
       "      <td>11.0</td>\n",
       "    </tr>\n",
       "    <tr>\n",
       "      <th>22261</th>\n",
       "      <td>37.74607</td>\n",
       "      <td>-122.44432</td>\n",
       "      <td>0</td>\n",
       "      <td>1213035343</td>\n",
       "      <td>uvreoipy</td>\n",
       "      <td>2008-06-09 11:15:43-07:00</td>\n",
       "      <td>0</td>\n",
       "      <td>11</td>\n",
       "      <td>9q8ytx</td>\n",
       "      <td>37.74929</td>\n",
       "      <td>-122.44482</td>\n",
       "      <td>1.213035e+09</td>\n",
       "      <td>0.0</td>\n",
       "      <td>11.0</td>\n",
       "    </tr>\n",
       "    <tr>\n",
       "      <th>22262</th>\n",
       "      <td>37.74510</td>\n",
       "      <td>-122.44435</td>\n",
       "      <td>0</td>\n",
       "      <td>1213035404</td>\n",
       "      <td>uvreoipy</td>\n",
       "      <td>2008-06-09 11:16:44-07:00</td>\n",
       "      <td>0</td>\n",
       "      <td>11</td>\n",
       "      <td>9q8ytx</td>\n",
       "      <td>37.74607</td>\n",
       "      <td>-122.44432</td>\n",
       "      <td>1.213035e+09</td>\n",
       "      <td>0.0</td>\n",
       "      <td>11.0</td>\n",
       "    </tr>\n",
       "    <tr>\n",
       "      <th>22263</th>\n",
       "      <td>37.74501</td>\n",
       "      <td>-122.44424</td>\n",
       "      <td>1</td>\n",
       "      <td>1213035433</td>\n",
       "      <td>uvreoipy</td>\n",
       "      <td>2008-06-09 11:17:13-07:00</td>\n",
       "      <td>0</td>\n",
       "      <td>11</td>\n",
       "      <td>9q8ytx</td>\n",
       "      <td>37.74510</td>\n",
       "      <td>-122.44435</td>\n",
       "      <td>1.213035e+09</td>\n",
       "      <td>0.0</td>\n",
       "      <td>11.0</td>\n",
       "    </tr>\n",
       "    <tr>\n",
       "      <th>22264</th>\n",
       "      <td>37.74654</td>\n",
       "      <td>-122.44338</td>\n",
       "      <td>1</td>\n",
       "      <td>1213035491</td>\n",
       "      <td>uvreoipy</td>\n",
       "      <td>2008-06-09 11:18:11-07:00</td>\n",
       "      <td>0</td>\n",
       "      <td>11</td>\n",
       "      <td>9q8ytx</td>\n",
       "      <td>37.74501</td>\n",
       "      <td>-122.44424</td>\n",
       "      <td>1.213035e+09</td>\n",
       "      <td>0.0</td>\n",
       "      <td>11.0</td>\n",
       "    </tr>\n",
       "    <tr>\n",
       "      <th>22265</th>\n",
       "      <td>37.75140</td>\n",
       "      <td>-122.44296</td>\n",
       "      <td>1</td>\n",
       "      <td>1213035548</td>\n",
       "      <td>uvreoipy</td>\n",
       "      <td>2008-06-09 11:19:08-07:00</td>\n",
       "      <td>0</td>\n",
       "      <td>11</td>\n",
       "      <td>9q8yv8</td>\n",
       "      <td>37.74654</td>\n",
       "      <td>-122.44338</td>\n",
       "      <td>1.213035e+09</td>\n",
       "      <td>0.0</td>\n",
       "      <td>11.0</td>\n",
       "    </tr>\n",
       "    <tr>\n",
       "      <th>22266</th>\n",
       "      <td>37.75686</td>\n",
       "      <td>-122.44239</td>\n",
       "      <td>1</td>\n",
       "      <td>1213035612</td>\n",
       "      <td>uvreoipy</td>\n",
       "      <td>2008-06-09 11:20:12-07:00</td>\n",
       "      <td>0</td>\n",
       "      <td>11</td>\n",
       "      <td>9q8yvc</td>\n",
       "      <td>37.75140</td>\n",
       "      <td>-122.44296</td>\n",
       "      <td>1.213036e+09</td>\n",
       "      <td>0.0</td>\n",
       "      <td>11.0</td>\n",
       "    </tr>\n",
       "    <tr>\n",
       "      <th>22267</th>\n",
       "      <td>37.76047</td>\n",
       "      <td>-122.44215</td>\n",
       "      <td>1</td>\n",
       "      <td>1213035668</td>\n",
       "      <td>uvreoipy</td>\n",
       "      <td>2008-06-09 11:21:08-07:00</td>\n",
       "      <td>0</td>\n",
       "      <td>11</td>\n",
       "      <td>9q8yvf</td>\n",
       "      <td>37.75686</td>\n",
       "      <td>-122.44239</td>\n",
       "      <td>1.213036e+09</td>\n",
       "      <td>0.0</td>\n",
       "      <td>11.0</td>\n",
       "    </tr>\n",
       "    <tr>\n",
       "      <th>22268</th>\n",
       "      <td>37.76075</td>\n",
       "      <td>-122.43687</td>\n",
       "      <td>1</td>\n",
       "      <td>1213035729</td>\n",
       "      <td>uvreoipy</td>\n",
       "      <td>2008-06-09 11:22:09-07:00</td>\n",
       "      <td>0</td>\n",
       "      <td>11</td>\n",
       "      <td>9q8yvf</td>\n",
       "      <td>37.76047</td>\n",
       "      <td>-122.44215</td>\n",
       "      <td>1.213036e+09</td>\n",
       "      <td>0.0</td>\n",
       "      <td>11.0</td>\n",
       "    </tr>\n",
       "  </tbody>\n",
       "</table>\n",
       "</div>"
      ],
      "text/plain": [
       "              0          1  2           3    cab_id                  datetime  \\\n",
       "22219  37.70789 -122.39480  0  1213033087  uvreoipy 2008-06-09 10:38:07-07:00   \n",
       "22220  37.72095 -122.40007  0  1213033128  uvreoipy 2008-06-09 10:38:48-07:00   \n",
       "22221  37.73351 -122.40562  0  1213033182  uvreoipy 2008-06-09 10:39:42-07:00   \n",
       "22222  37.74880 -122.40430  0  1213033292  uvreoipy 2008-06-09 10:41:32-07:00   \n",
       "22223  37.74858 -122.40748  0  1213033330  uvreoipy 2008-06-09 10:42:10-07:00   \n",
       "22224  37.74835 -122.41132  0  1213033359  uvreoipy 2008-06-09 10:42:39-07:00   \n",
       "22225  37.74831 -122.41349  0  1213033421  uvreoipy 2008-06-09 10:43:41-07:00   \n",
       "22226  37.74821 -122.41955  0  1213033475  uvreoipy 2008-06-09 10:44:35-07:00   \n",
       "22227  37.74791 -122.42394  0  1213033543  uvreoipy 2008-06-09 10:45:43-07:00   \n",
       "22228  37.74774 -122.42690  0  1213033567  uvreoipy 2008-06-09 10:46:07-07:00   \n",
       "22229  37.74849 -122.43160  0  1213033620  uvreoipy 2008-06-09 10:47:00-07:00   \n",
       "22230  37.74887 -122.43451  0  1213033656  uvreoipy 2008-06-09 10:47:36-07:00   \n",
       "22231  37.74887 -122.43451  0  1213033670  uvreoipy 2008-06-09 10:47:50-07:00   \n",
       "22232  37.75175 -122.43857  0  1213033748  uvreoipy 2008-06-09 10:49:08-07:00   \n",
       "22233  37.75178 -122.43970  0  1213033810  uvreoipy 2008-06-09 10:50:10-07:00   \n",
       "22234  37.75179 -122.43968  0  1213033861  uvreoipy 2008-06-09 10:51:01-07:00   \n",
       "22235  37.75178 -122.43973  0  1213033927  uvreoipy 2008-06-09 10:52:07-07:00   \n",
       "22236  37.75178 -122.43971  0  1213033983  uvreoipy 2008-06-09 10:53:03-07:00   \n",
       "22237  37.75180 -122.43968  0  1213034019  uvreoipy 2008-06-09 10:53:39-07:00   \n",
       "22238  37.75400 -122.43876  0  1213034082  uvreoipy 2008-06-09 10:54:42-07:00   \n",
       "22239  37.75593 -122.43687  0  1213034142  uvreoipy 2008-06-09 10:55:42-07:00   \n",
       "22240  37.75607 -122.43609  1  1213034191  uvreoipy 2008-06-09 10:56:31-07:00   \n",
       "22241  37.75886 -122.43700  1  1213034250  uvreoipy 2008-06-09 10:57:30-07:00   \n",
       "22242  37.75988 -122.43708  1  1213034289  uvreoipy 2008-06-09 10:58:09-07:00   \n",
       "22243  37.75988 -122.43708  0  1213034290  uvreoipy 2008-06-09 10:58:10-07:00   \n",
       "22244  37.76085 -122.43519  0  1213034376  uvreoipy 2008-06-09 10:59:36-07:00   \n",
       "22245  37.75917 -122.43697  0  1213034436  uvreoipy 2008-06-09 11:00:36-07:00   \n",
       "22246  37.75902 -122.44102  0  1213034516  uvreoipy 2008-06-09 11:01:56-07:00   \n",
       "22247  37.75902 -122.44099  0  1213034590  uvreoipy 2008-06-09 11:03:10-07:00   \n",
       "22248  37.75899 -122.44103  0  1213034677  uvreoipy 2008-06-09 11:04:37-07:00   \n",
       "22249  37.75899 -122.44103  0  1213034743  uvreoipy 2008-06-09 11:05:43-07:00   \n",
       "22250  37.75902 -122.44068  1  1213034779  uvreoipy 2008-06-09 11:06:19-07:00   \n",
       "22251  37.75895 -122.44211  1  1213034832  uvreoipy 2008-06-09 11:07:12-07:00   \n",
       "22252  37.75653 -122.44174  1  1213034892  uvreoipy 2008-06-09 11:08:12-07:00   \n",
       "22253  37.74834 -122.44431  1  1213034955  uvreoipy 2008-06-09 11:09:15-07:00   \n",
       "22254  37.75049 -122.44574  1  1213035023  uvreoipy 2008-06-09 11:10:23-07:00   \n",
       "22255  37.75283 -122.44541  1  1213035056  uvreoipy 2008-06-09 11:10:56-07:00   \n",
       "22256  37.75283 -122.44541  0  1213035057  uvreoipy 2008-06-09 11:10:57-07:00   \n",
       "22257  37.75309 -122.44540  0  1213035102  uvreoipy 2008-06-09 11:11:42-07:00   \n",
       "22258  37.75298 -122.44538  0  1213035162  uvreoipy 2008-06-09 11:12:42-07:00   \n",
       "22259  37.75248 -122.44543  0  1213035223  uvreoipy 2008-06-09 11:13:43-07:00   \n",
       "22260  37.74929 -122.44482  0  1213035286  uvreoipy 2008-06-09 11:14:46-07:00   \n",
       "22261  37.74607 -122.44432  0  1213035343  uvreoipy 2008-06-09 11:15:43-07:00   \n",
       "22262  37.74510 -122.44435  0  1213035404  uvreoipy 2008-06-09 11:16:44-07:00   \n",
       "22263  37.74501 -122.44424  1  1213035433  uvreoipy 2008-06-09 11:17:13-07:00   \n",
       "22264  37.74654 -122.44338  1  1213035491  uvreoipy 2008-06-09 11:18:11-07:00   \n",
       "22265  37.75140 -122.44296  1  1213035548  uvreoipy 2008-06-09 11:19:08-07:00   \n",
       "22266  37.75686 -122.44239  1  1213035612  uvreoipy 2008-06-09 11:20:12-07:00   \n",
       "22267  37.76047 -122.44215  1  1213035668  uvreoipy 2008-06-09 11:21:08-07:00   \n",
       "22268  37.76075 -122.43687  1  1213035729  uvreoipy 2008-06-09 11:22:09-07:00   \n",
       "\n",
       "       dow  hod geohash  prev_latitude  prev_longitude     prev_time  \\\n",
       "22219    0   10  9q8ywb       37.69465      -122.39180  1.213033e+09   \n",
       "22220    0   10  9q8ywd       37.70789      -122.39480  1.213033e+09   \n",
       "22221    0   10  9q8ywt       37.72095      -122.40007  1.213033e+09   \n",
       "22222    0   10  9q8ywx       37.73351      -122.40562  1.213033e+09   \n",
       "22223    0   10  9q8ywx       37.74880      -122.40430  1.213033e+09   \n",
       "22224    0   10  9q8ywr       37.74858      -122.40748  1.213033e+09   \n",
       "22225    0   10  9q8ywr       37.74835      -122.41132  1.213033e+09   \n",
       "22226    0   10  9q8ywr       37.74831      -122.41349  1.213033e+09   \n",
       "22227    0   10  9q8ywp       37.74821      -122.41955  1.213033e+09   \n",
       "22228    0   10  9q8ywp       37.74791      -122.42394  1.213034e+09   \n",
       "22229    0   10  9q8ywp       37.74774      -122.42690  1.213034e+09   \n",
       "22230    0   10  9q8ytz       37.74849      -122.43160  1.213034e+09   \n",
       "22231    0   10  9q8ytz       37.74887      -122.43451  1.213034e+09   \n",
       "22232    0   10  9q8yvb       37.74887      -122.43451  1.213034e+09   \n",
       "22233    0   10  9q8yvb       37.75175      -122.43857  1.213034e+09   \n",
       "22234    0   10  9q8yvb       37.75178      -122.43970  1.213034e+09   \n",
       "22235    0   10  9q8yvb       37.75179      -122.43968  1.213034e+09   \n",
       "22236    0   10  9q8yvb       37.75178      -122.43973  1.213034e+09   \n",
       "22237    0   10  9q8yvb       37.75178      -122.43971  1.213034e+09   \n",
       "22238    0   10  9q8yvb       37.75180      -122.43968  1.213034e+09   \n",
       "22239    0   10  9q8yvc       37.75400      -122.43876  1.213034e+09   \n",
       "22240    0   10  9q8yvc       37.75593      -122.43687  1.213034e+09   \n",
       "22241    0   10  9q8yvc       37.75607      -122.43609  1.213034e+09   \n",
       "22242    0   10  9q8yvc       37.75886      -122.43700  1.213034e+09   \n",
       "22243    0   10  9q8yvc       37.75988      -122.43708  1.213034e+09   \n",
       "22244    0   10  9q8yvf       37.75988      -122.43708  1.213034e+09   \n",
       "22245    0   11  9q8yvc       37.76085      -122.43519  1.213034e+09   \n",
       "22246    0   11  9q8yvc       37.75917      -122.43697  1.213034e+09   \n",
       "22247    0   11  9q8yvc       37.75902      -122.44102  1.213035e+09   \n",
       "22248    0   11  9q8yvc       37.75902      -122.44099  1.213035e+09   \n",
       "22249    0   11  9q8yvc       37.75899      -122.44103  1.213035e+09   \n",
       "22250    0   11  9q8yvc       37.75899      -122.44103  1.213035e+09   \n",
       "22251    0   11  9q8yvc       37.75902      -122.44068  1.213035e+09   \n",
       "22252    0   11  9q8yvc       37.75895      -122.44211  1.213035e+09   \n",
       "22253    0   11  9q8ytx       37.75653      -122.44174  1.213035e+09   \n",
       "22254    0   11  9q8yv8       37.74834      -122.44431  1.213035e+09   \n",
       "22255    0   11  9q8yv8       37.75049      -122.44574  1.213035e+09   \n",
       "22256    0   11  9q8yv8       37.75283      -122.44541  1.213035e+09   \n",
       "22257    0   11  9q8yv8       37.75283      -122.44541  1.213035e+09   \n",
       "22258    0   11  9q8yv8       37.75309      -122.44540  1.213035e+09   \n",
       "22259    0   11  9q8yv8       37.75298      -122.44538  1.213035e+09   \n",
       "22260    0   11  9q8yv8       37.75248      -122.44543  1.213035e+09   \n",
       "22261    0   11  9q8ytx       37.74929      -122.44482  1.213035e+09   \n",
       "22262    0   11  9q8ytx       37.74607      -122.44432  1.213035e+09   \n",
       "22263    0   11  9q8ytx       37.74510      -122.44435  1.213035e+09   \n",
       "22264    0   11  9q8ytx       37.74501      -122.44424  1.213035e+09   \n",
       "22265    0   11  9q8yv8       37.74654      -122.44338  1.213035e+09   \n",
       "22266    0   11  9q8yvc       37.75140      -122.44296  1.213036e+09   \n",
       "22267    0   11  9q8yvf       37.75686      -122.44239  1.213036e+09   \n",
       "22268    0   11  9q8yvf       37.76047      -122.44215  1.213036e+09   \n",
       "\n",
       "       prev_dow  prev_hour  \n",
       "22219       0.0       10.0  \n",
       "22220       0.0       10.0  \n",
       "22221       0.0       10.0  \n",
       "22222       0.0       10.0  \n",
       "22223       0.0       10.0  \n",
       "22224       0.0       10.0  \n",
       "22225       0.0       10.0  \n",
       "22226       0.0       10.0  \n",
       "22227       0.0       10.0  \n",
       "22228       0.0       10.0  \n",
       "22229       0.0       10.0  \n",
       "22230       0.0       10.0  \n",
       "22231       0.0       10.0  \n",
       "22232       0.0       10.0  \n",
       "22233       0.0       10.0  \n",
       "22234       0.0       10.0  \n",
       "22235       0.0       10.0  \n",
       "22236       0.0       10.0  \n",
       "22237       0.0       10.0  \n",
       "22238       0.0       10.0  \n",
       "22239       0.0       10.0  \n",
       "22240       0.0       10.0  \n",
       "22241       0.0       10.0  \n",
       "22242       0.0       10.0  \n",
       "22243       0.0       10.0  \n",
       "22244       0.0       10.0  \n",
       "22245       0.0       10.0  \n",
       "22246       0.0       11.0  \n",
       "22247       0.0       11.0  \n",
       "22248       0.0       11.0  \n",
       "22249       0.0       11.0  \n",
       "22250       0.0       11.0  \n",
       "22251       0.0       11.0  \n",
       "22252       0.0       11.0  \n",
       "22253       0.0       11.0  \n",
       "22254       0.0       11.0  \n",
       "22255       0.0       11.0  \n",
       "22256       0.0       11.0  \n",
       "22257       0.0       11.0  \n",
       "22258       0.0       11.0  \n",
       "22259       0.0       11.0  \n",
       "22260       0.0       11.0  \n",
       "22261       0.0       11.0  \n",
       "22262       0.0       11.0  \n",
       "22263       0.0       11.0  \n",
       "22264       0.0       11.0  \n",
       "22265       0.0       11.0  \n",
       "22266       0.0       11.0  \n",
       "22267       0.0       11.0  \n",
       "22268       0.0       11.0  "
      ]
     },
     "execution_count": 20,
     "metadata": {},
     "output_type": "execute_result"
    }
   ],
   "source": [
    "#just to get a peek at one of the dataframes in the array\n",
    "df_array[536].tail(50)"
   ]
  },
  {
   "cell_type": "code",
   "execution_count": 21,
   "metadata": {},
   "outputs": [],
   "source": [
    "#combining the list of dataframes to a single dataframe, and renaming some columns\n",
    "combined_df = pd.DataFrame()\n",
    "df = combined_df.append(df_array, True)\n",
    "df = df.rename(columns={0:\"latitude\",1:\"longitude\",2:\"occupancy\",3:\"time\"})"
   ]
  },
  {
   "cell_type": "code",
   "execution_count": 22,
   "metadata": {},
   "outputs": [],
   "source": [
    "#saving locally for future use\n",
    "df.to_csv('combined.csv',index=False)"
   ]
  },
  {
   "cell_type": "code",
   "execution_count": 24,
   "metadata": {},
   "outputs": [],
   "source": [
    "# df = pd.read_csv('combined.csv')"
   ]
  },
  {
   "cell_type": "code",
   "execution_count": 25,
   "metadata": {},
   "outputs": [
    {
     "data": {
      "text/html": [
       "<div>\n",
       "<style scoped>\n",
       "    .dataframe tbody tr th:only-of-type {\n",
       "        vertical-align: middle;\n",
       "    }\n",
       "\n",
       "    .dataframe tbody tr th {\n",
       "        vertical-align: top;\n",
       "    }\n",
       "\n",
       "    .dataframe thead th {\n",
       "        text-align: right;\n",
       "    }\n",
       "</style>\n",
       "<table border=\"1\" class=\"dataframe\">\n",
       "  <thead>\n",
       "    <tr style=\"text-align: right;\">\n",
       "      <th></th>\n",
       "      <th>latitude</th>\n",
       "      <th>longitude</th>\n",
       "      <th>occupancy</th>\n",
       "      <th>time</th>\n",
       "      <th>cab_id</th>\n",
       "      <th>datetime</th>\n",
       "      <th>dow</th>\n",
       "      <th>hod</th>\n",
       "      <th>geohash</th>\n",
       "      <th>prev_latitude</th>\n",
       "      <th>prev_longitude</th>\n",
       "      <th>prev_time</th>\n",
       "      <th>prev_dow</th>\n",
       "      <th>prev_hour</th>\n",
       "    </tr>\n",
       "  </thead>\n",
       "  <tbody>\n",
       "    <tr>\n",
       "      <th>11189249</th>\n",
       "      <td>37.74654</td>\n",
       "      <td>-122.44338</td>\n",
       "      <td>1</td>\n",
       "      <td>1213035491</td>\n",
       "      <td>uvreoipy</td>\n",
       "      <td>2008-06-09 11:18:11-07:00</td>\n",
       "      <td>0</td>\n",
       "      <td>11</td>\n",
       "      <td>9q8ytx</td>\n",
       "      <td>37.74501</td>\n",
       "      <td>-122.44424</td>\n",
       "      <td>1.213035e+09</td>\n",
       "      <td>0.0</td>\n",
       "      <td>11.0</td>\n",
       "    </tr>\n",
       "    <tr>\n",
       "      <th>11189250</th>\n",
       "      <td>37.75140</td>\n",
       "      <td>-122.44296</td>\n",
       "      <td>1</td>\n",
       "      <td>1213035548</td>\n",
       "      <td>uvreoipy</td>\n",
       "      <td>2008-06-09 11:19:08-07:00</td>\n",
       "      <td>0</td>\n",
       "      <td>11</td>\n",
       "      <td>9q8yv8</td>\n",
       "      <td>37.74654</td>\n",
       "      <td>-122.44338</td>\n",
       "      <td>1.213035e+09</td>\n",
       "      <td>0.0</td>\n",
       "      <td>11.0</td>\n",
       "    </tr>\n",
       "    <tr>\n",
       "      <th>11189251</th>\n",
       "      <td>37.75686</td>\n",
       "      <td>-122.44239</td>\n",
       "      <td>1</td>\n",
       "      <td>1213035612</td>\n",
       "      <td>uvreoipy</td>\n",
       "      <td>2008-06-09 11:20:12-07:00</td>\n",
       "      <td>0</td>\n",
       "      <td>11</td>\n",
       "      <td>9q8yvc</td>\n",
       "      <td>37.75140</td>\n",
       "      <td>-122.44296</td>\n",
       "      <td>1.213036e+09</td>\n",
       "      <td>0.0</td>\n",
       "      <td>11.0</td>\n",
       "    </tr>\n",
       "    <tr>\n",
       "      <th>11189252</th>\n",
       "      <td>37.76047</td>\n",
       "      <td>-122.44215</td>\n",
       "      <td>1</td>\n",
       "      <td>1213035668</td>\n",
       "      <td>uvreoipy</td>\n",
       "      <td>2008-06-09 11:21:08-07:00</td>\n",
       "      <td>0</td>\n",
       "      <td>11</td>\n",
       "      <td>9q8yvf</td>\n",
       "      <td>37.75686</td>\n",
       "      <td>-122.44239</td>\n",
       "      <td>1.213036e+09</td>\n",
       "      <td>0.0</td>\n",
       "      <td>11.0</td>\n",
       "    </tr>\n",
       "    <tr>\n",
       "      <th>11189253</th>\n",
       "      <td>37.76075</td>\n",
       "      <td>-122.43687</td>\n",
       "      <td>1</td>\n",
       "      <td>1213035729</td>\n",
       "      <td>uvreoipy</td>\n",
       "      <td>2008-06-09 11:22:09-07:00</td>\n",
       "      <td>0</td>\n",
       "      <td>11</td>\n",
       "      <td>9q8yvf</td>\n",
       "      <td>37.76047</td>\n",
       "      <td>-122.44215</td>\n",
       "      <td>1.213036e+09</td>\n",
       "      <td>0.0</td>\n",
       "      <td>11.0</td>\n",
       "    </tr>\n",
       "  </tbody>\n",
       "</table>\n",
       "</div>"
      ],
      "text/plain": [
       "          latitude  longitude  occupancy        time    cab_id  \\\n",
       "11189249  37.74654 -122.44338          1  1213035491  uvreoipy   \n",
       "11189250  37.75140 -122.44296          1  1213035548  uvreoipy   \n",
       "11189251  37.75686 -122.44239          1  1213035612  uvreoipy   \n",
       "11189252  37.76047 -122.44215          1  1213035668  uvreoipy   \n",
       "11189253  37.76075 -122.43687          1  1213035729  uvreoipy   \n",
       "\n",
       "                          datetime  dow  hod geohash  prev_latitude  \\\n",
       "11189249 2008-06-09 11:18:11-07:00    0   11  9q8ytx       37.74501   \n",
       "11189250 2008-06-09 11:19:08-07:00    0   11  9q8yv8       37.74654   \n",
       "11189251 2008-06-09 11:20:12-07:00    0   11  9q8yvc       37.75140   \n",
       "11189252 2008-06-09 11:21:08-07:00    0   11  9q8yvf       37.75686   \n",
       "11189253 2008-06-09 11:22:09-07:00    0   11  9q8yvf       37.76047   \n",
       "\n",
       "          prev_longitude     prev_time  prev_dow  prev_hour  \n",
       "11189249      -122.44424  1.213035e+09       0.0       11.0  \n",
       "11189250      -122.44338  1.213035e+09       0.0       11.0  \n",
       "11189251      -122.44296  1.213036e+09       0.0       11.0  \n",
       "11189252      -122.44239  1.213036e+09       0.0       11.0  \n",
       "11189253      -122.44215  1.213036e+09       0.0       11.0  "
      ]
     },
     "execution_count": 25,
     "metadata": {},
     "output_type": "execute_result"
    }
   ],
   "source": [
    "df.tail()"
   ]
  },
  {
   "cell_type": "code",
   "execution_count": 26,
   "metadata": {},
   "outputs": [
    {
     "name": "stdout",
     "output_type": "stream",
     "text": [
      "Wall time: 43min 50s\n"
     ]
    }
   ],
   "source": [
    "%%time\n",
    "#creating duration, distance, and speed columns\n",
    "df['duration'] = df.apply(duration, axis=1)\n",
    "df['distance'] = df.apply(distance, axis=1)\n",
    "df['speed'] = df.apply(speed, axis = 1)\n",
    "alert()"
   ]
  },
  {
   "cell_type": "code",
   "execution_count": 27,
   "metadata": {},
   "outputs": [],
   "source": [
    "#saving locally for future use\n",
    "df.to_csv('calculated.csv',index=False)"
   ]
  },
  {
   "cell_type": "code",
   "execution_count": null,
   "metadata": {},
   "outputs": [],
   "source": [
    "# df = pd.read_csv('calculated.csv')"
   ]
  },
  {
   "cell_type": "code",
   "execution_count": 28,
   "metadata": {
    "scrolled": true
   },
   "outputs": [
    {
     "data": {
      "text/html": [
       "<div>\n",
       "<style scoped>\n",
       "    .dataframe tbody tr th:only-of-type {\n",
       "        vertical-align: middle;\n",
       "    }\n",
       "\n",
       "    .dataframe tbody tr th {\n",
       "        vertical-align: top;\n",
       "    }\n",
       "\n",
       "    .dataframe thead th {\n",
       "        text-align: right;\n",
       "    }\n",
       "</style>\n",
       "<table border=\"1\" class=\"dataframe\">\n",
       "  <thead>\n",
       "    <tr style=\"text-align: right;\">\n",
       "      <th></th>\n",
       "      <th>latitude</th>\n",
       "      <th>longitude</th>\n",
       "      <th>occupancy</th>\n",
       "      <th>time</th>\n",
       "      <th>cab_id</th>\n",
       "      <th>datetime</th>\n",
       "      <th>dow</th>\n",
       "      <th>hod</th>\n",
       "      <th>geohash</th>\n",
       "      <th>prev_latitude</th>\n",
       "      <th>prev_longitude</th>\n",
       "      <th>prev_time</th>\n",
       "      <th>prev_dow</th>\n",
       "      <th>prev_hour</th>\n",
       "      <th>duration</th>\n",
       "      <th>distance</th>\n",
       "      <th>speed</th>\n",
       "    </tr>\n",
       "  </thead>\n",
       "  <tbody>\n",
       "    <tr>\n",
       "      <th>11189249</th>\n",
       "      <td>37.74654</td>\n",
       "      <td>-122.44338</td>\n",
       "      <td>1</td>\n",
       "      <td>1213035491</td>\n",
       "      <td>uvreoipy</td>\n",
       "      <td>2008-06-09 11:18:11-07:00</td>\n",
       "      <td>0</td>\n",
       "      <td>11</td>\n",
       "      <td>9q8ytx</td>\n",
       "      <td>37.74501</td>\n",
       "      <td>-122.44424</td>\n",
       "      <td>1.213035e+09</td>\n",
       "      <td>0.0</td>\n",
       "      <td>11.0</td>\n",
       "      <td>0.016111</td>\n",
       "      <td>0.115553</td>\n",
       "      <td>7.172267</td>\n",
       "    </tr>\n",
       "    <tr>\n",
       "      <th>11189250</th>\n",
       "      <td>37.75140</td>\n",
       "      <td>-122.44296</td>\n",
       "      <td>1</td>\n",
       "      <td>1213035548</td>\n",
       "      <td>uvreoipy</td>\n",
       "      <td>2008-06-09 11:19:08-07:00</td>\n",
       "      <td>0</td>\n",
       "      <td>11</td>\n",
       "      <td>9q8yv8</td>\n",
       "      <td>37.74654</td>\n",
       "      <td>-122.44338</td>\n",
       "      <td>1.213035e+09</td>\n",
       "      <td>0.0</td>\n",
       "      <td>11.0</td>\n",
       "      <td>0.015833</td>\n",
       "      <td>0.335968</td>\n",
       "      <td>21.219040</td>\n",
       "    </tr>\n",
       "    <tr>\n",
       "      <th>11189251</th>\n",
       "      <td>37.75686</td>\n",
       "      <td>-122.44239</td>\n",
       "      <td>1</td>\n",
       "      <td>1213035612</td>\n",
       "      <td>uvreoipy</td>\n",
       "      <td>2008-06-09 11:20:12-07:00</td>\n",
       "      <td>0</td>\n",
       "      <td>11</td>\n",
       "      <td>9q8yvc</td>\n",
       "      <td>37.75140</td>\n",
       "      <td>-122.44296</td>\n",
       "      <td>1.213036e+09</td>\n",
       "      <td>0.0</td>\n",
       "      <td>11.0</td>\n",
       "      <td>0.017778</td>\n",
       "      <td>0.377852</td>\n",
       "      <td>21.254166</td>\n",
       "    </tr>\n",
       "    <tr>\n",
       "      <th>11189252</th>\n",
       "      <td>37.76047</td>\n",
       "      <td>-122.44215</td>\n",
       "      <td>1</td>\n",
       "      <td>1213035668</td>\n",
       "      <td>uvreoipy</td>\n",
       "      <td>2008-06-09 11:21:08-07:00</td>\n",
       "      <td>0</td>\n",
       "      <td>11</td>\n",
       "      <td>9q8yvf</td>\n",
       "      <td>37.75686</td>\n",
       "      <td>-122.44239</td>\n",
       "      <td>1.213036e+09</td>\n",
       "      <td>0.0</td>\n",
       "      <td>11.0</td>\n",
       "      <td>0.015556</td>\n",
       "      <td>0.249318</td>\n",
       "      <td>16.027591</td>\n",
       "    </tr>\n",
       "    <tr>\n",
       "      <th>11189253</th>\n",
       "      <td>37.76075</td>\n",
       "      <td>-122.43687</td>\n",
       "      <td>1</td>\n",
       "      <td>1213035729</td>\n",
       "      <td>uvreoipy</td>\n",
       "      <td>2008-06-09 11:22:09-07:00</td>\n",
       "      <td>0</td>\n",
       "      <td>11</td>\n",
       "      <td>9q8yvf</td>\n",
       "      <td>37.76047</td>\n",
       "      <td>-122.44215</td>\n",
       "      <td>1.213036e+09</td>\n",
       "      <td>0.0</td>\n",
       "      <td>11.0</td>\n",
       "      <td>0.016944</td>\n",
       "      <td>0.289743</td>\n",
       "      <td>17.099568</td>\n",
       "    </tr>\n",
       "  </tbody>\n",
       "</table>\n",
       "</div>"
      ],
      "text/plain": [
       "          latitude  longitude  occupancy        time    cab_id  \\\n",
       "11189249  37.74654 -122.44338          1  1213035491  uvreoipy   \n",
       "11189250  37.75140 -122.44296          1  1213035548  uvreoipy   \n",
       "11189251  37.75686 -122.44239          1  1213035612  uvreoipy   \n",
       "11189252  37.76047 -122.44215          1  1213035668  uvreoipy   \n",
       "11189253  37.76075 -122.43687          1  1213035729  uvreoipy   \n",
       "\n",
       "                          datetime  dow  hod geohash  prev_latitude  \\\n",
       "11189249 2008-06-09 11:18:11-07:00    0   11  9q8ytx       37.74501   \n",
       "11189250 2008-06-09 11:19:08-07:00    0   11  9q8yv8       37.74654   \n",
       "11189251 2008-06-09 11:20:12-07:00    0   11  9q8yvc       37.75140   \n",
       "11189252 2008-06-09 11:21:08-07:00    0   11  9q8yvf       37.75686   \n",
       "11189253 2008-06-09 11:22:09-07:00    0   11  9q8yvf       37.76047   \n",
       "\n",
       "          prev_longitude     prev_time  prev_dow  prev_hour  duration  \\\n",
       "11189249      -122.44424  1.213035e+09       0.0       11.0  0.016111   \n",
       "11189250      -122.44338  1.213035e+09       0.0       11.0  0.015833   \n",
       "11189251      -122.44296  1.213036e+09       0.0       11.0  0.017778   \n",
       "11189252      -122.44239  1.213036e+09       0.0       11.0  0.015556   \n",
       "11189253      -122.44215  1.213036e+09       0.0       11.0  0.016944   \n",
       "\n",
       "          distance      speed  \n",
       "11189249  0.115553   7.172267  \n",
       "11189250  0.335968  21.219040  \n",
       "11189251  0.377852  21.254166  \n",
       "11189252  0.249318  16.027591  \n",
       "11189253  0.289743  17.099568  "
      ]
     },
     "execution_count": 28,
     "metadata": {},
     "output_type": "execute_result"
    }
   ],
   "source": [
    "df.tail()"
   ]
  },
  {
   "cell_type": "code",
   "execution_count": 29,
   "metadata": {},
   "outputs": [
    {
     "data": {
      "text/html": [
       "<div>\n",
       "<style scoped>\n",
       "    .dataframe tbody tr th:only-of-type {\n",
       "        vertical-align: middle;\n",
       "    }\n",
       "\n",
       "    .dataframe tbody tr th {\n",
       "        vertical-align: top;\n",
       "    }\n",
       "\n",
       "    .dataframe thead th {\n",
       "        text-align: right;\n",
       "    }\n",
       "</style>\n",
       "<table border=\"1\" class=\"dataframe\">\n",
       "  <thead>\n",
       "    <tr style=\"text-align: right;\">\n",
       "      <th></th>\n",
       "      <th>latitude</th>\n",
       "      <th>longitude</th>\n",
       "      <th>occupancy</th>\n",
       "      <th>time</th>\n",
       "      <th>dow</th>\n",
       "      <th>hod</th>\n",
       "      <th>prev_latitude</th>\n",
       "      <th>prev_longitude</th>\n",
       "      <th>prev_time</th>\n",
       "      <th>prev_dow</th>\n",
       "      <th>prev_hour</th>\n",
       "      <th>duration</th>\n",
       "      <th>distance</th>\n",
       "      <th>speed</th>\n",
       "    </tr>\n",
       "  </thead>\n",
       "  <tbody>\n",
       "    <tr>\n",
       "      <th>count</th>\n",
       "      <td>1.118925e+07</td>\n",
       "      <td>1.118925e+07</td>\n",
       "      <td>1.118925e+07</td>\n",
       "      <td>1.118925e+07</td>\n",
       "      <td>1.118925e+07</td>\n",
       "      <td>1.118925e+07</td>\n",
       "      <td>1.118872e+07</td>\n",
       "      <td>1.118872e+07</td>\n",
       "      <td>1.118872e+07</td>\n",
       "      <td>1.118872e+07</td>\n",
       "      <td>1.118872e+07</td>\n",
       "      <td>1.118872e+07</td>\n",
       "      <td>1.118872e+07</td>\n",
       "      <td>1.118872e+07</td>\n",
       "    </tr>\n",
       "    <tr>\n",
       "      <th>mean</th>\n",
       "      <td>3.776347e+01</td>\n",
       "      <td>-1.224121e+02</td>\n",
       "      <td>4.473416e-01</td>\n",
       "      <td>1.212036e+09</td>\n",
       "      <td>3.185797e+00</td>\n",
       "      <td>1.253388e+01</td>\n",
       "      <td>3.776347e+01</td>\n",
       "      <td>-1.224121e+02</td>\n",
       "      <td>1.212036e+09</td>\n",
       "      <td>3.185926e+00</td>\n",
       "      <td>1.253401e+01</td>\n",
       "      <td>2.539242e-02</td>\n",
       "      <td>2.540274e-01</td>\n",
       "      <td>2.092766e+01</td>\n",
       "    </tr>\n",
       "    <tr>\n",
       "      <th>std</th>\n",
       "      <td>5.342377e-02</td>\n",
       "      <td>3.508617e-02</td>\n",
       "      <td>4.972194e-01</td>\n",
       "      <td>5.885492e+05</td>\n",
       "      <td>2.056311e+00</td>\n",
       "      <td>6.762166e+00</td>\n",
       "      <td>5.342228e-02</td>\n",
       "      <td>3.508516e-02</td>\n",
       "      <td>5.885236e+05</td>\n",
       "      <td>2.056257e+00</td>\n",
       "      <td>6.762212e+00</td>\n",
       "      <td>4.366744e-01</td>\n",
       "      <td>1.274472e+00</td>\n",
       "      <td>5.392003e+02</td>\n",
       "    </tr>\n",
       "    <tr>\n",
       "      <th>min</th>\n",
       "      <td>3.708165e+01</td>\n",
       "      <td>-1.225041e+02</td>\n",
       "      <td>0.000000e+00</td>\n",
       "      <td>1.211018e+09</td>\n",
       "      <td>0.000000e+00</td>\n",
       "      <td>0.000000e+00</td>\n",
       "      <td>3.708165e+01</td>\n",
       "      <td>-1.225041e+02</td>\n",
       "      <td>1.211018e+09</td>\n",
       "      <td>0.000000e+00</td>\n",
       "      <td>0.000000e+00</td>\n",
       "      <td>2.777778e-04</td>\n",
       "      <td>0.000000e+00</td>\n",
       "      <td>0.000000e+00</td>\n",
       "    </tr>\n",
       "    <tr>\n",
       "      <th>25%</th>\n",
       "      <td>3.775503e+01</td>\n",
       "      <td>-1.224251e+02</td>\n",
       "      <td>0.000000e+00</td>\n",
       "      <td>1.211523e+09</td>\n",
       "      <td>1.000000e+00</td>\n",
       "      <td>7.000000e+00</td>\n",
       "      <td>3.775503e+01</td>\n",
       "      <td>-1.224251e+02</td>\n",
       "      <td>1.211523e+09</td>\n",
       "      <td>1.000000e+00</td>\n",
       "      <td>7.000000e+00</td>\n",
       "      <td>1.444444e-02</td>\n",
       "      <td>2.016508e-02</td>\n",
       "      <td>1.749008e+00</td>\n",
       "    </tr>\n",
       "    <tr>\n",
       "      <th>50%</th>\n",
       "      <td>3.778109e+01</td>\n",
       "      <td>-1.224110e+02</td>\n",
       "      <td>0.000000e+00</td>\n",
       "      <td>1.212043e+09</td>\n",
       "      <td>3.000000e+00</td>\n",
       "      <td>1.300000e+01</td>\n",
       "      <td>3.778109e+01</td>\n",
       "      <td>-1.224110e+02</td>\n",
       "      <td>1.212043e+09</td>\n",
       "      <td>3.000000e+00</td>\n",
       "      <td>1.300000e+01</td>\n",
       "      <td>1.666667e-02</td>\n",
       "      <td>1.450966e-01</td>\n",
       "      <td>9.124998e+00</td>\n",
       "    </tr>\n",
       "    <tr>\n",
       "      <th>75%</th>\n",
       "      <td>3.779043e+01</td>\n",
       "      <td>-1.224002e+02</td>\n",
       "      <td>1.000000e+00</td>\n",
       "      <td>1.212549e+09</td>\n",
       "      <td>5.000000e+00</td>\n",
       "      <td>1.800000e+01</td>\n",
       "      <td>3.779043e+01</td>\n",
       "      <td>-1.224002e+02</td>\n",
       "      <td>1.212549e+09</td>\n",
       "      <td>5.000000e+00</td>\n",
       "      <td>1.800000e+01</td>\n",
       "      <td>1.722222e-02</td>\n",
       "      <td>2.856424e-01</td>\n",
       "      <td>1.712971e+01</td>\n",
       "    </tr>\n",
       "    <tr>\n",
       "      <th>max</th>\n",
       "      <td>5.030546e+01</td>\n",
       "      <td>-1.155622e+02</td>\n",
       "      <td>1.000000e+00</td>\n",
       "      <td>1.213090e+09</td>\n",
       "      <td>6.000000e+00</td>\n",
       "      <td>2.300000e+01</td>\n",
       "      <td>5.030546e+01</td>\n",
       "      <td>-1.155622e+02</td>\n",
       "      <td>1.213090e+09</td>\n",
       "      <td>6.000000e+00</td>\n",
       "      <td>2.300000e+01</td>\n",
       "      <td>4.135228e+02</td>\n",
       "      <td>8.764583e+02</td>\n",
       "      <td>1.554486e+06</td>\n",
       "    </tr>\n",
       "  </tbody>\n",
       "</table>\n",
       "</div>"
      ],
      "text/plain": [
       "           latitude     longitude     occupancy          time           dow  \\\n",
       "count  1.118925e+07  1.118925e+07  1.118925e+07  1.118925e+07  1.118925e+07   \n",
       "mean   3.776347e+01 -1.224121e+02  4.473416e-01  1.212036e+09  3.185797e+00   \n",
       "std    5.342377e-02  3.508617e-02  4.972194e-01  5.885492e+05  2.056311e+00   \n",
       "min    3.708165e+01 -1.225041e+02  0.000000e+00  1.211018e+09  0.000000e+00   \n",
       "25%    3.775503e+01 -1.224251e+02  0.000000e+00  1.211523e+09  1.000000e+00   \n",
       "50%    3.778109e+01 -1.224110e+02  0.000000e+00  1.212043e+09  3.000000e+00   \n",
       "75%    3.779043e+01 -1.224002e+02  1.000000e+00  1.212549e+09  5.000000e+00   \n",
       "max    5.030546e+01 -1.155622e+02  1.000000e+00  1.213090e+09  6.000000e+00   \n",
       "\n",
       "                hod  prev_latitude  prev_longitude     prev_time  \\\n",
       "count  1.118925e+07   1.118872e+07    1.118872e+07  1.118872e+07   \n",
       "mean   1.253388e+01   3.776347e+01   -1.224121e+02  1.212036e+09   \n",
       "std    6.762166e+00   5.342228e-02    3.508516e-02  5.885236e+05   \n",
       "min    0.000000e+00   3.708165e+01   -1.225041e+02  1.211018e+09   \n",
       "25%    7.000000e+00   3.775503e+01   -1.224251e+02  1.211523e+09   \n",
       "50%    1.300000e+01   3.778109e+01   -1.224110e+02  1.212043e+09   \n",
       "75%    1.800000e+01   3.779043e+01   -1.224002e+02  1.212549e+09   \n",
       "max    2.300000e+01   5.030546e+01   -1.155622e+02  1.213090e+09   \n",
       "\n",
       "           prev_dow     prev_hour      duration      distance         speed  \n",
       "count  1.118872e+07  1.118872e+07  1.118872e+07  1.118872e+07  1.118872e+07  \n",
       "mean   3.185926e+00  1.253401e+01  2.539242e-02  2.540274e-01  2.092766e+01  \n",
       "std    2.056257e+00  6.762212e+00  4.366744e-01  1.274472e+00  5.392003e+02  \n",
       "min    0.000000e+00  0.000000e+00  2.777778e-04  0.000000e+00  0.000000e+00  \n",
       "25%    1.000000e+00  7.000000e+00  1.444444e-02  2.016508e-02  1.749008e+00  \n",
       "50%    3.000000e+00  1.300000e+01  1.666667e-02  1.450966e-01  9.124998e+00  \n",
       "75%    5.000000e+00  1.800000e+01  1.722222e-02  2.856424e-01  1.712971e+01  \n",
       "max    6.000000e+00  2.300000e+01  4.135228e+02  8.764583e+02  1.554486e+06  "
      ]
     },
     "execution_count": 29,
     "metadata": {},
     "output_type": "execute_result"
    }
   ],
   "source": [
    "df.describe()"
   ]
  },
  {
   "cell_type": "code",
   "execution_count": 30,
   "metadata": {},
   "outputs": [
    {
     "data": {
      "text/plain": [
       "<AxesSubplot:xlabel='distance', ylabel='duration'>"
      ]
     },
     "execution_count": 30,
     "metadata": {},
     "output_type": "execute_result"
    },
    {
     "data": {
      "image/png": "[encoded data removed]",
      "text/plain": [
       "<Figure size 432x288 with 1 Axes>"
      ]
     },
     "metadata": {
      "needs_background": "light"
     },
     "output_type": "display_data"
    }
   ],
   "source": [
    "#plotting distance vs duration\n",
    "df.plot.scatter('distance','duration')"
   ]
  },
  {
   "cell_type": "code",
   "execution_count": 31,
   "metadata": {},
   "outputs": [
    {
     "data": {
      "text/plain": [
       "<AxesSubplot:xlabel='distance', ylabel='duration'>"
      ]
     },
     "execution_count": 31,
     "metadata": {},
     "output_type": "execute_result"
    },
    {
     "data": {
      "image/png": "[encoded data removed]",
      "text/plain": [
       "<Figure size 432x288 with 1 Axes>"
      ]
     },
     "metadata": {
      "needs_background": "light"
     },
     "output_type": "display_data"
    }
   ],
   "source": [
    "#plotting distance vs duration when rides\n",
    "df[df['occupancy']==1].plot.scatter('distance','duration')"
   ]
  },
  {
   "cell_type": "code",
   "execution_count": 32,
   "metadata": {},
   "outputs": [
    {
     "data": {
      "text/plain": [
       "<AxesSubplot:xlabel='distance', ylabel='duration'>"
      ]
     },
     "execution_count": 32,
     "metadata": {},
     "output_type": "execute_result"
    },
    {
     "data": {
      "image/png": "[encoded data removed]",
      "text/plain": [
       "<Figure size 432x288 with 1 Axes>"
      ]
     },
     "metadata": {
      "needs_background": "light"
     },
     "output_type": "display_data"
    }
   ],
   "source": [
    "#plotting distance vs duration of idle roams\n",
    "df[df['occupancy']==0].plot.scatter('distance','duration')"
   ]
  },
  {
   "cell_type": "code",
   "execution_count": 33,
   "metadata": {},
   "outputs": [
    {
     "data": {
      "text/plain": [
       "<AxesSubplot:xlabel='distance', ylabel='speed'>"
      ]
     },
     "execution_count": 33,
     "metadata": {},
     "output_type": "execute_result"
    },
    {
     "data": {
      "image/png": "[encoded data removed]",
      "text/plain": [
       "<Figure size 432x288 with 1 Axes>"
      ]
     },
     "metadata": {
      "needs_background": "light"
     },
     "output_type": "display_data"
    }
   ],
   "source": [
    "#plotting distance vs speed of idle roams\n",
    "df.plot.scatter('distance','speed')"
   ]
  },
  {
   "cell_type": "code",
   "execution_count": 34,
   "metadata": {},
   "outputs": [
    {
     "data": {
      "text/plain": [
       "<AxesSubplot:xlabel='distance', ylabel='speed'>"
      ]
     },
     "execution_count": 34,
     "metadata": {},
     "output_type": "execute_result"
    },
    {
     "data": {
      "image/png": "[encoded data removed]",
      "text/plain": [
       "<Figure size 432x288 with 1 Axes>"
      ]
     },
     "metadata": {
      "needs_background": "light"
     },
     "output_type": "display_data"
    }
   ],
   "source": [
    "#plotting distance vs speed of idle roams\n",
    "df[df['occupancy']==0].plot.scatter('distance','speed')"
   ]
  },
  {
   "cell_type": "code",
   "execution_count": 35,
   "metadata": {},
   "outputs": [
    {
     "data": {
      "text/plain": [
       "<AxesSubplot:xlabel='distance', ylabel='speed'>"
      ]
     },
     "execution_count": 35,
     "metadata": {},
     "output_type": "execute_result"
    },
    {
     "data": {
      "image/png": "[encoded data removed]",
      "text/plain": [
       "<Figure size 432x288 with 1 Axes>"
      ]
     },
     "metadata": {
      "needs_background": "light"
     },
     "output_type": "display_data"
    }
   ],
   "source": [
    "#plotting distance vs speed of rides\n",
    "df[df['occupancy']==1].plot.scatter('distance','speed')"
   ]
  },
  {
   "cell_type": "markdown",
   "metadata": {},
   "source": [
    "We can see that there are datapoints where vehicle speed is irrational. From this website, https://www.iihs.org/topics/speed/speed-limit-laws it is shown that the highest speed limit in California is 70 mph. Let's assume that people may push it to 80 mph. So we will exclude all datapoints with speed above 80 mph"
   ]
  },
  {
   "cell_type": "code",
   "execution_count": 67,
   "metadata": {},
   "outputs": [],
   "source": [
    "#removing all speed above 80mph\n",
    "df_cleaned = df[df['speed']<= 80]"
   ]
  },
  {
   "cell_type": "code",
   "execution_count": 68,
   "metadata": {},
   "outputs": [
    {
     "data": {
      "text/plain": [
       "<AxesSubplot:xlabel='distance', ylabel='speed'>"
      ]
     },
     "execution_count": 68,
     "metadata": {},
     "output_type": "execute_result"
    },
    {
     "data": {
      "image/png": "[encoded data removed]",
      "text/plain": [
       "<Figure size 432x288 with 1 Axes>"
      ]
     },
     "metadata": {
      "needs_background": "light"
     },
     "output_type": "display_data"
    }
   ],
   "source": [
    "#plotting distance vs speed of rides\n",
    "df_cleaned.plot.scatter('distance','speed')"
   ]
  },
  {
   "cell_type": "code",
   "execution_count": 69,
   "metadata": {},
   "outputs": [
    {
     "data": {
      "text/plain": [
       "<AxesSubplot:xlabel='duration', ylabel='speed'>"
      ]
     },
     "execution_count": 69,
     "metadata": {},
     "output_type": "execute_result"
    },
    {
     "data": {
      "image/png": "[encoded data removed]",
      "text/plain": [
       "<Figure size 432x288 with 1 Axes>"
      ]
     },
     "metadata": {
      "needs_background": "light"
     },
     "output_type": "display_data"
    }
   ],
   "source": [
    "#plotting duration vs speed of rides\n",
    "df_cleaned.plot.scatter('duration','speed')"
   ]
  },
  {
   "cell_type": "code",
   "execution_count": 39,
   "metadata": {},
   "outputs": [
    {
     "data": {
      "text/plain": [
       "<AxesSubplot:xlabel='distance', ylabel='speed'>"
      ]
     },
     "execution_count": 39,
     "metadata": {},
     "output_type": "execute_result"
    },
    {
     "data": {
      "image/png": "[encoded data removed]",
      "text/plain": [
       "<Figure size 432x288 with 1 Axes>"
      ]
     },
     "metadata": {
      "needs_background": "light"
     },
     "output_type": "display_data"
    }
   ],
   "source": [
    "#plotting distance vs speed of idle roams\n",
    "df_cleaned[df_cleaned['occupancy']==0].plot.scatter('distance','speed')"
   ]
  },
  {
   "cell_type": "code",
   "execution_count": 40,
   "metadata": {},
   "outputs": [
    {
     "data": {
      "text/plain": [
       "<AxesSubplot:xlabel='duration', ylabel='speed'>"
      ]
     },
     "execution_count": 40,
     "metadata": {},
     "output_type": "execute_result"
    },
    {
     "data": {
      "image/png": "[encoded data removed]",
      "text/plain": [
       "<Figure size 432x288 with 1 Axes>"
      ]
     },
     "metadata": {
      "needs_background": "light"
     },
     "output_type": "display_data"
    }
   ],
   "source": [
    "#plotting duration vs speed of idle roams\n",
    "df_cleaned[df_cleaned['occupancy']==0].plot.scatter('duration','speed')"
   ]
  },
  {
   "cell_type": "code",
   "execution_count": 41,
   "metadata": {},
   "outputs": [
    {
     "data": {
      "text/plain": [
       "<AxesSubplot:ylabel='Frequency'>"
      ]
     },
     "execution_count": 41,
     "metadata": {},
     "output_type": "execute_result"
    },
    {
     "data": {
      "image/png": "[encoded data removed]",
      "text/plain": [
       "<Figure size 432x288 with 1 Axes>"
      ]
     },
     "metadata": {
      "needs_background": "light"
     },
     "output_type": "display_data"
    }
   ],
   "source": [
    "df_cleaned['speed'].plot.hist(bins=20)"
   ]
  },
  {
   "cell_type": "code",
   "execution_count": 70,
   "metadata": {},
   "outputs": [],
   "source": [
    "from scipy import stats"
   ]
  },
  {
   "cell_type": "code",
   "execution_count": 71,
   "metadata": {},
   "outputs": [],
   "source": [
    "#cleaning outliers\n",
    "df_cleansed = df_cleaned[(np.abs(stats.zscore(df_cleaned['distance'])) < 3)]\n",
    "df_cleansed = df_cleansed[(np.abs(stats.zscore(df_cleansed['duration'])) < 3)]\n",
    "df_cleansed = df_cleansed[(np.abs(stats.zscore(df_cleansed['speed'])) < 3)]"
   ]
  },
  {
   "cell_type": "code",
   "execution_count": 72,
   "metadata": {},
   "outputs": [],
   "source": [
    "#and adding date column\n",
    "df_cleansed['date']= pd.to_datetime(df_cleansed['datetime'], format='%Y-%m-%d %H:%M:%S').dt.date"
   ]
  },
  {
   "cell_type": "code",
   "execution_count": 73,
   "metadata": {},
   "outputs": [
    {
     "data": {
      "text/plain": [
       "<AxesSubplot:xlabel='distance', ylabel='speed'>"
      ]
     },
     "execution_count": 73,
     "metadata": {},
     "output_type": "execute_result"
    },
    {
     "data": {
      "image/png": "[encoded data removed]",
      "text/plain": [
       "<Figure size 432x288 with 1 Axes>"
      ]
     },
     "metadata": {
      "needs_background": "light"
     },
     "output_type": "display_data"
    }
   ],
   "source": [
    "df_cleansed[df_cleansed['occupancy']==0].plot.scatter('distance','speed')"
   ]
  },
  {
   "cell_type": "code",
   "execution_count": 74,
   "metadata": {},
   "outputs": [
    {
     "data": {
      "text/plain": [
       "<AxesSubplot:xlabel='distance', ylabel='duration'>"
      ]
     },
     "execution_count": 74,
     "metadata": {},
     "output_type": "execute_result"
    },
    {
     "data": {
      "image/png": "[encoded data removed]",
      "text/plain": [
       "<Figure size 432x288 with 1 Axes>"
      ]
     },
     "metadata": {
      "needs_background": "light"
     },
     "output_type": "display_data"
    }
   ],
   "source": [
    "df_cleansed[df_cleansed['occupancy']==0].plot.scatter('distance','duration')"
   ]
  },
  {
   "cell_type": "code",
   "execution_count": 75,
   "metadata": {},
   "outputs": [
    {
     "data": {
      "text/plain": [
       "<AxesSubplot:xlabel='distance', ylabel='speed'>"
      ]
     },
     "execution_count": 75,
     "metadata": {},
     "output_type": "execute_result"
    },
    {
     "data": {
      "image/png": "[encoded data removed]",
      "text/plain": [
       "<Figure size 432x288 with 1 Axes>"
      ]
     },
     "metadata": {
      "needs_background": "light"
     },
     "output_type": "display_data"
    }
   ],
   "source": [
    "df_cleansed[df_cleansed['occupancy']==1].plot.scatter('distance','speed')"
   ]
  },
  {
   "cell_type": "code",
   "execution_count": 76,
   "metadata": {
    "scrolled": true
   },
   "outputs": [
    {
     "data": {
      "text/plain": [
       "<AxesSubplot:xlabel='distance', ylabel='duration'>"
      ]
     },
     "execution_count": 76,
     "metadata": {},
     "output_type": "execute_result"
    },
    {
     "data": {
      "image/png": "[encoded data removed]",
      "text/plain": [
       "<Figure size 432x288 with 1 Axes>"
      ]
     },
     "metadata": {
      "needs_background": "light"
     },
     "output_type": "display_data"
    }
   ],
   "source": [
    "df_cleansed[df_cleansed['occupancy']==1].plot.scatter('distance','duration')"
   ]
  },
  {
   "cell_type": "code",
   "execution_count": 77,
   "metadata": {},
   "outputs": [
    {
     "name": "stdout",
     "output_type": "stream",
     "text": [
      "10488299\n"
     ]
    }
   ],
   "source": [
    "print(len(df_cleansed.index))"
   ]
  },
  {
   "cell_type": "code",
   "execution_count": 78,
   "metadata": {},
   "outputs": [
    {
     "data": {
      "text/plain": [
       "<AxesSubplot:xlabel='distance', ylabel='duration'>"
      ]
     },
     "execution_count": 78,
     "metadata": {},
     "output_type": "execute_result"
    },
    {
     "data": {
      "image/png": "[encoded data removed]",
      "text/plain": [
       "<Figure size 432x288 with 1 Axes>"
      ]
     },
     "metadata": {
      "needs_background": "light"
     },
     "output_type": "display_data"
    }
   ],
   "source": [
    "df_cleansed[df_cleansed['occupancy']==1].plot.scatter('distance','duration')"
   ]
  },
  {
   "cell_type": "code",
   "execution_count": 79,
   "metadata": {},
   "outputs": [
    {
     "data": {
      "text/html": [
       "<div>\n",
       "<style scoped>\n",
       "    .dataframe tbody tr th:only-of-type {\n",
       "        vertical-align: middle;\n",
       "    }\n",
       "\n",
       "    .dataframe tbody tr th {\n",
       "        vertical-align: top;\n",
       "    }\n",
       "\n",
       "    .dataframe thead th {\n",
       "        text-align: right;\n",
       "    }\n",
       "</style>\n",
       "<table border=\"1\" class=\"dataframe\">\n",
       "  <thead>\n",
       "    <tr style=\"text-align: right;\">\n",
       "      <th></th>\n",
       "      <th>latitude</th>\n",
       "      <th>longitude</th>\n",
       "      <th>occupancy</th>\n",
       "      <th>time</th>\n",
       "      <th>cab_id</th>\n",
       "      <th>datetime</th>\n",
       "      <th>dow</th>\n",
       "      <th>hod</th>\n",
       "      <th>geohash</th>\n",
       "      <th>prev_latitude</th>\n",
       "      <th>prev_longitude</th>\n",
       "      <th>prev_time</th>\n",
       "      <th>prev_dow</th>\n",
       "      <th>prev_hour</th>\n",
       "      <th>duration</th>\n",
       "      <th>distance</th>\n",
       "      <th>speed</th>\n",
       "      <th>date</th>\n",
       "    </tr>\n",
       "  </thead>\n",
       "  <tbody>\n",
       "    <tr>\n",
       "      <th>1</th>\n",
       "      <td>37.75149</td>\n",
       "      <td>-122.39447</td>\n",
       "      <td>0</td>\n",
       "      <td>1211033614</td>\n",
       "      <td>abboip</td>\n",
       "      <td>2008-05-17 07:13:34-07:00</td>\n",
       "      <td>5</td>\n",
       "      <td>7</td>\n",
       "      <td>9q8yyb</td>\n",
       "      <td>37.75153</td>\n",
       "      <td>-122.39447</td>\n",
       "      <td>1.211034e+09</td>\n",
       "      <td>5.0</td>\n",
       "      <td>7.0</td>\n",
       "      <td>0.023333</td>\n",
       "      <td>0.002759</td>\n",
       "      <td>0.118229</td>\n",
       "      <td>2008-05-17</td>\n",
       "    </tr>\n",
       "    <tr>\n",
       "      <th>2</th>\n",
       "      <td>37.75149</td>\n",
       "      <td>-122.39447</td>\n",
       "      <td>0</td>\n",
       "      <td>1211033674</td>\n",
       "      <td>abboip</td>\n",
       "      <td>2008-05-17 07:14:34-07:00</td>\n",
       "      <td>5</td>\n",
       "      <td>7</td>\n",
       "      <td>9q8yyb</td>\n",
       "      <td>37.75149</td>\n",
       "      <td>-122.39447</td>\n",
       "      <td>1.211034e+09</td>\n",
       "      <td>5.0</td>\n",
       "      <td>7.0</td>\n",
       "      <td>0.016667</td>\n",
       "      <td>0.000000</td>\n",
       "      <td>0.000000</td>\n",
       "      <td>2008-05-17</td>\n",
       "    </tr>\n",
       "    <tr>\n",
       "      <th>3</th>\n",
       "      <td>37.75149</td>\n",
       "      <td>-122.39446</td>\n",
       "      <td>0</td>\n",
       "      <td>1211033735</td>\n",
       "      <td>abboip</td>\n",
       "      <td>2008-05-17 07:15:35-07:00</td>\n",
       "      <td>5</td>\n",
       "      <td>7</td>\n",
       "      <td>9q8yyb</td>\n",
       "      <td>37.75149</td>\n",
       "      <td>-122.39447</td>\n",
       "      <td>1.211034e+09</td>\n",
       "      <td>5.0</td>\n",
       "      <td>7.0</td>\n",
       "      <td>0.016944</td>\n",
       "      <td>0.000548</td>\n",
       "      <td>0.032318</td>\n",
       "      <td>2008-05-17</td>\n",
       "    </tr>\n",
       "    <tr>\n",
       "      <th>4</th>\n",
       "      <td>37.75144</td>\n",
       "      <td>-122.39449</td>\n",
       "      <td>0</td>\n",
       "      <td>1211035303</td>\n",
       "      <td>abboip</td>\n",
       "      <td>2008-05-17 07:41:43-07:00</td>\n",
       "      <td>5</td>\n",
       "      <td>7</td>\n",
       "      <td>9q8yyb</td>\n",
       "      <td>37.75149</td>\n",
       "      <td>-122.39446</td>\n",
       "      <td>1.211034e+09</td>\n",
       "      <td>5.0</td>\n",
       "      <td>7.0</td>\n",
       "      <td>0.435556</td>\n",
       "      <td>0.003820</td>\n",
       "      <td>0.008770</td>\n",
       "      <td>2008-05-17</td>\n",
       "    </tr>\n",
       "    <tr>\n",
       "      <th>5</th>\n",
       "      <td>37.75151</td>\n",
       "      <td>-122.39453</td>\n",
       "      <td>0</td>\n",
       "      <td>1211035374</td>\n",
       "      <td>abboip</td>\n",
       "      <td>2008-05-17 07:42:54-07:00</td>\n",
       "      <td>5</td>\n",
       "      <td>7</td>\n",
       "      <td>9q8yyb</td>\n",
       "      <td>37.75144</td>\n",
       "      <td>-122.39449</td>\n",
       "      <td>1.211035e+09</td>\n",
       "      <td>5.0</td>\n",
       "      <td>7.0</td>\n",
       "      <td>0.019722</td>\n",
       "      <td>0.005301</td>\n",
       "      <td>0.268802</td>\n",
       "      <td>2008-05-17</td>\n",
       "    </tr>\n",
       "  </tbody>\n",
       "</table>\n",
       "</div>"
      ],
      "text/plain": [
       "   latitude  longitude  occupancy        time  cab_id  \\\n",
       "1  37.75149 -122.39447          0  1211033614  abboip   \n",
       "2  37.75149 -122.39447          0  1211033674  abboip   \n",
       "3  37.75149 -122.39446          0  1211033735  abboip   \n",
       "4  37.75144 -122.39449          0  1211035303  abboip   \n",
       "5  37.75151 -122.39453          0  1211035374  abboip   \n",
       "\n",
       "                   datetime  dow  hod geohash  prev_latitude  prev_longitude  \\\n",
       "1 2008-05-17 07:13:34-07:00    5    7  9q8yyb       37.75153      -122.39447   \n",
       "2 2008-05-17 07:14:34-07:00    5    7  9q8yyb       37.75149      -122.39447   \n",
       "3 2008-05-17 07:15:35-07:00    5    7  9q8yyb       37.75149      -122.39447   \n",
       "4 2008-05-17 07:41:43-07:00    5    7  9q8yyb       37.75149      -122.39446   \n",
       "5 2008-05-17 07:42:54-07:00    5    7  9q8yyb       37.75144      -122.39449   \n",
       "\n",
       "      prev_time  prev_dow  prev_hour  duration  distance     speed        date  \n",
       "1  1.211034e+09       5.0        7.0  0.023333  0.002759  0.118229  2008-05-17  \n",
       "2  1.211034e+09       5.0        7.0  0.016667  0.000000  0.000000  2008-05-17  \n",
       "3  1.211034e+09       5.0        7.0  0.016944  0.000548  0.032318  2008-05-17  \n",
       "4  1.211034e+09       5.0        7.0  0.435556  0.003820  0.008770  2008-05-17  \n",
       "5  1.211035e+09       5.0        7.0  0.019722  0.005301  0.268802  2008-05-17  "
      ]
     },
     "execution_count": 79,
     "metadata": {},
     "output_type": "execute_result"
    }
   ],
   "source": [
    "df_cleansed.head()"
   ]
  },
  {
   "cell_type": "code",
   "execution_count": 80,
   "metadata": {},
   "outputs": [
    {
     "data": {
      "text/plain": [
       "<AxesSubplot:ylabel='Frequency'>"
      ]
     },
     "execution_count": 80,
     "metadata": {},
     "output_type": "execute_result"
    },
    {
     "data": {
      "image/png": "[encoded data removed]",
      "text/plain": [
       "<Figure size 432x288 with 1 Axes>"
      ]
     },
     "metadata": {
      "needs_background": "light"
     },
     "output_type": "display_data"
    }
   ],
   "source": [
    "df_cleansed['distance'].plot.hist()"
   ]
  },
  {
   "cell_type": "code",
   "execution_count": 81,
   "metadata": {},
   "outputs": [
    {
     "data": {
      "text/plain": [
       "<AxesSubplot:ylabel='Frequency'>"
      ]
     },
     "execution_count": 81,
     "metadata": {},
     "output_type": "execute_result"
    },
    {
     "data": {
      "image/png": "[encoded data removed]",
      "text/plain": [
       "<Figure size 432x288 with 1 Axes>"
      ]
     },
     "metadata": {
      "needs_background": "light"
     },
     "output_type": "display_data"
    }
   ],
   "source": [
    "df_cleansed['duration'].plot.hist()"
   ]
  },
  {
   "cell_type": "code",
   "execution_count": 82,
   "metadata": {},
   "outputs": [
    {
     "data": {
      "text/html": [
       "<div>\n",
       "<style scoped>\n",
       "    .dataframe tbody tr th:only-of-type {\n",
       "        vertical-align: middle;\n",
       "    }\n",
       "\n",
       "    .dataframe tbody tr th {\n",
       "        vertical-align: top;\n",
       "    }\n",
       "\n",
       "    .dataframe thead th {\n",
       "        text-align: right;\n",
       "    }\n",
       "</style>\n",
       "<table border=\"1\" class=\"dataframe\">\n",
       "  <thead>\n",
       "    <tr style=\"text-align: right;\">\n",
       "      <th></th>\n",
       "      <th>latitude</th>\n",
       "      <th>longitude</th>\n",
       "      <th>occupancy</th>\n",
       "      <th>time</th>\n",
       "      <th>dow</th>\n",
       "      <th>hod</th>\n",
       "      <th>prev_latitude</th>\n",
       "      <th>prev_longitude</th>\n",
       "      <th>prev_time</th>\n",
       "      <th>prev_dow</th>\n",
       "      <th>prev_hour</th>\n",
       "      <th>duration</th>\n",
       "      <th>distance</th>\n",
       "      <th>speed</th>\n",
       "    </tr>\n",
       "  </thead>\n",
       "  <tbody>\n",
       "    <tr>\n",
       "      <th>count</th>\n",
       "      <td>1.048830e+07</td>\n",
       "      <td>1.048830e+07</td>\n",
       "      <td>1.048830e+07</td>\n",
       "      <td>1.048830e+07</td>\n",
       "      <td>1.048830e+07</td>\n",
       "      <td>1.048830e+07</td>\n",
       "      <td>1.048830e+07</td>\n",
       "      <td>1.048830e+07</td>\n",
       "      <td>1.048830e+07</td>\n",
       "      <td>1.048830e+07</td>\n",
       "      <td>1.048830e+07</td>\n",
       "      <td>1.048830e+07</td>\n",
       "      <td>1.048830e+07</td>\n",
       "      <td>1.048830e+07</td>\n",
       "    </tr>\n",
       "    <tr>\n",
       "      <th>mean</th>\n",
       "      <td>3.776786e+01</td>\n",
       "      <td>-1.224139e+02</td>\n",
       "      <td>4.404089e-01</td>\n",
       "      <td>1.212036e+09</td>\n",
       "      <td>3.196679e+00</td>\n",
       "      <td>1.254503e+01</td>\n",
       "      <td>3.776784e+01</td>\n",
       "      <td>-1.224139e+02</td>\n",
       "      <td>1.212036e+09</td>\n",
       "      <td>3.196772e+00</td>\n",
       "      <td>1.254653e+01</td>\n",
       "      <td>1.797326e-02</td>\n",
       "      <td>1.814116e-01</td>\n",
       "      <td>1.095833e+01</td>\n",
       "    </tr>\n",
       "    <tr>\n",
       "      <th>std</th>\n",
       "      <td>4.691401e-02</td>\n",
       "      <td>3.181085e-02</td>\n",
       "      <td>4.964362e-01</td>\n",
       "      <td>5.879059e+05</td>\n",
       "      <td>2.052013e+00</td>\n",
       "      <td>6.774265e+00</td>\n",
       "      <td>4.694110e-02</td>\n",
       "      <td>3.185562e-02</td>\n",
       "      <td>5.879055e+05</td>\n",
       "      <td>2.051904e+00</td>\n",
       "      <td>6.770974e+00</td>\n",
       "      <td>2.953675e-02</td>\n",
       "      <td>2.065949e-01</td>\n",
       "      <td>1.201818e+01</td>\n",
       "    </tr>\n",
       "    <tr>\n",
       "      <th>min</th>\n",
       "      <td>3.712274e+01</td>\n",
       "      <td>-1.225041e+02</td>\n",
       "      <td>0.000000e+00</td>\n",
       "      <td>1.211018e+09</td>\n",
       "      <td>0.000000e+00</td>\n",
       "      <td>0.000000e+00</td>\n",
       "      <td>3.713487e+01</td>\n",
       "      <td>-1.225041e+02</td>\n",
       "      <td>1.211018e+09</td>\n",
       "      <td>0.000000e+00</td>\n",
       "      <td>0.000000e+00</td>\n",
       "      <td>2.777778e-04</td>\n",
       "      <td>0.000000e+00</td>\n",
       "      <td>0.000000e+00</td>\n",
       "    </tr>\n",
       "    <tr>\n",
       "      <th>25%</th>\n",
       "      <td>3.776190e+01</td>\n",
       "      <td>-1.224259e+02</td>\n",
       "      <td>0.000000e+00</td>\n",
       "      <td>1.211523e+09</td>\n",
       "      <td>1.000000e+00</td>\n",
       "      <td>7.000000e+00</td>\n",
       "      <td>3.776187e+01</td>\n",
       "      <td>-1.224259e+02</td>\n",
       "      <td>1.211523e+09</td>\n",
       "      <td>1.000000e+00</td>\n",
       "      <td>7.000000e+00</td>\n",
       "      <td>1.527778e-02</td>\n",
       "      <td>1.464706e-02</td>\n",
       "      <td>1.324028e+00</td>\n",
       "    </tr>\n",
       "    <tr>\n",
       "      <th>50%</th>\n",
       "      <td>3.778241e+01</td>\n",
       "      <td>-1.224123e+02</td>\n",
       "      <td>0.000000e+00</td>\n",
       "      <td>1.212043e+09</td>\n",
       "      <td>3.000000e+00</td>\n",
       "      <td>1.300000e+01</td>\n",
       "      <td>3.778241e+01</td>\n",
       "      <td>-1.224123e+02</td>\n",
       "      <td>1.212043e+09</td>\n",
       "      <td>3.000000e+00</td>\n",
       "      <td>1.300000e+01</td>\n",
       "      <td>1.666667e-02</td>\n",
       "      <td>1.315543e-01</td>\n",
       "      <td>8.340274e+00</td>\n",
       "    </tr>\n",
       "    <tr>\n",
       "      <th>75%</th>\n",
       "      <td>3.779083e+01</td>\n",
       "      <td>-1.224014e+02</td>\n",
       "      <td>1.000000e+00</td>\n",
       "      <td>1.212547e+09</td>\n",
       "      <td>5.000000e+00</td>\n",
       "      <td>1.800000e+01</td>\n",
       "      <td>3.779084e+01</td>\n",
       "      <td>-1.224014e+02</td>\n",
       "      <td>1.212547e+09</td>\n",
       "      <td>5.000000e+00</td>\n",
       "      <td>1.800000e+01</td>\n",
       "      <td>1.722222e-02</td>\n",
       "      <td>2.535218e-01</td>\n",
       "      <td>1.522594e+01</td>\n",
       "    </tr>\n",
       "    <tr>\n",
       "      <th>max</th>\n",
       "      <td>3.799999e+01</td>\n",
       "      <td>-1.220000e+02</td>\n",
       "      <td>1.000000e+00</td>\n",
       "      <td>1.213090e+09</td>\n",
       "      <td>6.000000e+00</td>\n",
       "      <td>2.300000e+01</td>\n",
       "      <td>3.799999e+01</td>\n",
       "      <td>-1.220000e+02</td>\n",
       "      <td>1.213090e+09</td>\n",
       "      <td>6.000000e+00</td>\n",
       "      <td>2.300000e+01</td>\n",
       "      <td>1.197500e+00</td>\n",
       "      <td>1.382620e+00</td>\n",
       "      <td>6.214469e+01</td>\n",
       "    </tr>\n",
       "  </tbody>\n",
       "</table>\n",
       "</div>"
      ],
      "text/plain": [
       "           latitude     longitude     occupancy          time           dow  \\\n",
       "count  1.048830e+07  1.048830e+07  1.048830e+07  1.048830e+07  1.048830e+07   \n",
       "mean   3.776786e+01 -1.224139e+02  4.404089e-01  1.212036e+09  3.196679e+00   \n",
       "std    4.691401e-02  3.181085e-02  4.964362e-01  5.879059e+05  2.052013e+00   \n",
       "min    3.712274e+01 -1.225041e+02  0.000000e+00  1.211018e+09  0.000000e+00   \n",
       "25%    3.776190e+01 -1.224259e+02  0.000000e+00  1.211523e+09  1.000000e+00   \n",
       "50%    3.778241e+01 -1.224123e+02  0.000000e+00  1.212043e+09  3.000000e+00   \n",
       "75%    3.779083e+01 -1.224014e+02  1.000000e+00  1.212547e+09  5.000000e+00   \n",
       "max    3.799999e+01 -1.220000e+02  1.000000e+00  1.213090e+09  6.000000e+00   \n",
       "\n",
       "                hod  prev_latitude  prev_longitude     prev_time  \\\n",
       "count  1.048830e+07   1.048830e+07    1.048830e+07  1.048830e+07   \n",
       "mean   1.254503e+01   3.776784e+01   -1.224139e+02  1.212036e+09   \n",
       "std    6.774265e+00   4.694110e-02    3.185562e-02  5.879055e+05   \n",
       "min    0.000000e+00   3.713487e+01   -1.225041e+02  1.211018e+09   \n",
       "25%    7.000000e+00   3.776187e+01   -1.224259e+02  1.211523e+09   \n",
       "50%    1.300000e+01   3.778241e+01   -1.224123e+02  1.212043e+09   \n",
       "75%    1.800000e+01   3.779084e+01   -1.224014e+02  1.212547e+09   \n",
       "max    2.300000e+01   3.799999e+01   -1.220000e+02  1.213090e+09   \n",
       "\n",
       "           prev_dow     prev_hour      duration      distance         speed  \n",
       "count  1.048830e+07  1.048830e+07  1.048830e+07  1.048830e+07  1.048830e+07  \n",
       "mean   3.196772e+00  1.254653e+01  1.797326e-02  1.814116e-01  1.095833e+01  \n",
       "std    2.051904e+00  6.770974e+00  2.953675e-02  2.065949e-01  1.201818e+01  \n",
       "min    0.000000e+00  0.000000e+00  2.777778e-04  0.000000e+00  0.000000e+00  \n",
       "25%    1.000000e+00  7.000000e+00  1.527778e-02  1.464706e-02  1.324028e+00  \n",
       "50%    3.000000e+00  1.300000e+01  1.666667e-02  1.315543e-01  8.340274e+00  \n",
       "75%    5.000000e+00  1.800000e+01  1.722222e-02  2.535218e-01  1.522594e+01  \n",
       "max    6.000000e+00  2.300000e+01  1.197500e+00  1.382620e+00  6.214469e+01  "
      ]
     },
     "execution_count": 82,
     "metadata": {},
     "output_type": "execute_result"
    }
   ],
   "source": [
    "df_cleansed.describe()"
   ]
  },
  {
   "cell_type": "code",
   "execution_count": 83,
   "metadata": {},
   "outputs": [],
   "source": [
    "df_idle = df_cleansed[df_cleansed['occupancy']==0]"
   ]
  },
  {
   "cell_type": "code",
   "execution_count": 84,
   "metadata": {},
   "outputs": [
    {
     "data": {
      "text/html": [
       "<div>\n",
       "<style scoped>\n",
       "    .dataframe tbody tr th:only-of-type {\n",
       "        vertical-align: middle;\n",
       "    }\n",
       "\n",
       "    .dataframe tbody tr th {\n",
       "        vertical-align: top;\n",
       "    }\n",
       "\n",
       "    .dataframe thead th {\n",
       "        text-align: right;\n",
       "    }\n",
       "</style>\n",
       "<table border=\"1\" class=\"dataframe\">\n",
       "  <thead>\n",
       "    <tr style=\"text-align: right;\">\n",
       "      <th></th>\n",
       "      <th>latitude</th>\n",
       "      <th>longitude</th>\n",
       "      <th>occupancy</th>\n",
       "      <th>time</th>\n",
       "      <th>cab_id</th>\n",
       "      <th>datetime</th>\n",
       "      <th>dow</th>\n",
       "      <th>hod</th>\n",
       "      <th>geohash</th>\n",
       "      <th>prev_latitude</th>\n",
       "      <th>prev_longitude</th>\n",
       "      <th>prev_time</th>\n",
       "      <th>prev_dow</th>\n",
       "      <th>prev_hour</th>\n",
       "      <th>duration</th>\n",
       "      <th>distance</th>\n",
       "      <th>speed</th>\n",
       "      <th>date</th>\n",
       "    </tr>\n",
       "  </thead>\n",
       "  <tbody>\n",
       "    <tr>\n",
       "      <th>1</th>\n",
       "      <td>37.75149</td>\n",
       "      <td>-122.39447</td>\n",
       "      <td>0</td>\n",
       "      <td>1211033614</td>\n",
       "      <td>abboip</td>\n",
       "      <td>2008-05-17 07:13:34-07:00</td>\n",
       "      <td>5</td>\n",
       "      <td>7</td>\n",
       "      <td>9q8yyb</td>\n",
       "      <td>37.75153</td>\n",
       "      <td>-122.39447</td>\n",
       "      <td>1.211034e+09</td>\n",
       "      <td>5.0</td>\n",
       "      <td>7.0</td>\n",
       "      <td>0.023333</td>\n",
       "      <td>0.002759</td>\n",
       "      <td>0.118229</td>\n",
       "      <td>2008-05-17</td>\n",
       "    </tr>\n",
       "    <tr>\n",
       "      <th>2</th>\n",
       "      <td>37.75149</td>\n",
       "      <td>-122.39447</td>\n",
       "      <td>0</td>\n",
       "      <td>1211033674</td>\n",
       "      <td>abboip</td>\n",
       "      <td>2008-05-17 07:14:34-07:00</td>\n",
       "      <td>5</td>\n",
       "      <td>7</td>\n",
       "      <td>9q8yyb</td>\n",
       "      <td>37.75149</td>\n",
       "      <td>-122.39447</td>\n",
       "      <td>1.211034e+09</td>\n",
       "      <td>5.0</td>\n",
       "      <td>7.0</td>\n",
       "      <td>0.016667</td>\n",
       "      <td>0.000000</td>\n",
       "      <td>0.000000</td>\n",
       "      <td>2008-05-17</td>\n",
       "    </tr>\n",
       "    <tr>\n",
       "      <th>3</th>\n",
       "      <td>37.75149</td>\n",
       "      <td>-122.39446</td>\n",
       "      <td>0</td>\n",
       "      <td>1211033735</td>\n",
       "      <td>abboip</td>\n",
       "      <td>2008-05-17 07:15:35-07:00</td>\n",
       "      <td>5</td>\n",
       "      <td>7</td>\n",
       "      <td>9q8yyb</td>\n",
       "      <td>37.75149</td>\n",
       "      <td>-122.39447</td>\n",
       "      <td>1.211034e+09</td>\n",
       "      <td>5.0</td>\n",
       "      <td>7.0</td>\n",
       "      <td>0.016944</td>\n",
       "      <td>0.000548</td>\n",
       "      <td>0.032318</td>\n",
       "      <td>2008-05-17</td>\n",
       "    </tr>\n",
       "    <tr>\n",
       "      <th>4</th>\n",
       "      <td>37.75144</td>\n",
       "      <td>-122.39449</td>\n",
       "      <td>0</td>\n",
       "      <td>1211035303</td>\n",
       "      <td>abboip</td>\n",
       "      <td>2008-05-17 07:41:43-07:00</td>\n",
       "      <td>5</td>\n",
       "      <td>7</td>\n",
       "      <td>9q8yyb</td>\n",
       "      <td>37.75149</td>\n",
       "      <td>-122.39446</td>\n",
       "      <td>1.211034e+09</td>\n",
       "      <td>5.0</td>\n",
       "      <td>7.0</td>\n",
       "      <td>0.435556</td>\n",
       "      <td>0.003820</td>\n",
       "      <td>0.008770</td>\n",
       "      <td>2008-05-17</td>\n",
       "    </tr>\n",
       "    <tr>\n",
       "      <th>5</th>\n",
       "      <td>37.75151</td>\n",
       "      <td>-122.39453</td>\n",
       "      <td>0</td>\n",
       "      <td>1211035374</td>\n",
       "      <td>abboip</td>\n",
       "      <td>2008-05-17 07:42:54-07:00</td>\n",
       "      <td>5</td>\n",
       "      <td>7</td>\n",
       "      <td>9q8yyb</td>\n",
       "      <td>37.75144</td>\n",
       "      <td>-122.39449</td>\n",
       "      <td>1.211035e+09</td>\n",
       "      <td>5.0</td>\n",
       "      <td>7.0</td>\n",
       "      <td>0.019722</td>\n",
       "      <td>0.005301</td>\n",
       "      <td>0.268802</td>\n",
       "      <td>2008-05-17</td>\n",
       "    </tr>\n",
       "  </tbody>\n",
       "</table>\n",
       "</div>"
      ],
      "text/plain": [
       "   latitude  longitude  occupancy        time  cab_id  \\\n",
       "1  37.75149 -122.39447          0  1211033614  abboip   \n",
       "2  37.75149 -122.39447          0  1211033674  abboip   \n",
       "3  37.75149 -122.39446          0  1211033735  abboip   \n",
       "4  37.75144 -122.39449          0  1211035303  abboip   \n",
       "5  37.75151 -122.39453          0  1211035374  abboip   \n",
       "\n",
       "                   datetime  dow  hod geohash  prev_latitude  prev_longitude  \\\n",
       "1 2008-05-17 07:13:34-07:00    5    7  9q8yyb       37.75153      -122.39447   \n",
       "2 2008-05-17 07:14:34-07:00    5    7  9q8yyb       37.75149      -122.39447   \n",
       "3 2008-05-17 07:15:35-07:00    5    7  9q8yyb       37.75149      -122.39447   \n",
       "4 2008-05-17 07:41:43-07:00    5    7  9q8yyb       37.75149      -122.39446   \n",
       "5 2008-05-17 07:42:54-07:00    5    7  9q8yyb       37.75144      -122.39449   \n",
       "\n",
       "      prev_time  prev_dow  prev_hour  duration  distance     speed        date  \n",
       "1  1.211034e+09       5.0        7.0  0.023333  0.002759  0.118229  2008-05-17  \n",
       "2  1.211034e+09       5.0        7.0  0.016667  0.000000  0.000000  2008-05-17  \n",
       "3  1.211034e+09       5.0        7.0  0.016944  0.000548  0.032318  2008-05-17  \n",
       "4  1.211034e+09       5.0        7.0  0.435556  0.003820  0.008770  2008-05-17  \n",
       "5  1.211035e+09       5.0        7.0  0.019722  0.005301  0.268802  2008-05-17  "
      ]
     },
     "execution_count": 84,
     "metadata": {},
     "output_type": "execute_result"
    }
   ],
   "source": [
    "df_idle.head()"
   ]
  },
  {
   "cell_type": "code",
   "execution_count": 85,
   "metadata": {},
   "outputs": [],
   "source": [
    "df_rides = df_cleansed[df_cleansed['occupancy']==1]"
   ]
  },
  {
   "cell_type": "code",
   "execution_count": 86,
   "metadata": {},
   "outputs": [
    {
     "data": {
      "text/html": [
       "<div>\n",
       "<style scoped>\n",
       "    .dataframe tbody tr th:only-of-type {\n",
       "        vertical-align: middle;\n",
       "    }\n",
       "\n",
       "    .dataframe tbody tr th {\n",
       "        vertical-align: top;\n",
       "    }\n",
       "\n",
       "    .dataframe thead th {\n",
       "        text-align: right;\n",
       "    }\n",
       "</style>\n",
       "<table border=\"1\" class=\"dataframe\">\n",
       "  <thead>\n",
       "    <tr style=\"text-align: right;\">\n",
       "      <th></th>\n",
       "      <th>latitude</th>\n",
       "      <th>longitude</th>\n",
       "      <th>occupancy</th>\n",
       "      <th>time</th>\n",
       "      <th>cab_id</th>\n",
       "      <th>datetime</th>\n",
       "      <th>dow</th>\n",
       "      <th>hod</th>\n",
       "      <th>geohash</th>\n",
       "      <th>prev_latitude</th>\n",
       "      <th>prev_longitude</th>\n",
       "      <th>prev_time</th>\n",
       "      <th>prev_dow</th>\n",
       "      <th>prev_hour</th>\n",
       "      <th>duration</th>\n",
       "      <th>distance</th>\n",
       "      <th>speed</th>\n",
       "      <th>date</th>\n",
       "    </tr>\n",
       "  </thead>\n",
       "  <tbody>\n",
       "    <tr>\n",
       "      <th>14</th>\n",
       "      <td>37.74977</td>\n",
       "      <td>-122.39724</td>\n",
       "      <td>1</td>\n",
       "      <td>1211035870</td>\n",
       "      <td>abboip</td>\n",
       "      <td>2008-05-17 07:51:10-07:00</td>\n",
       "      <td>5</td>\n",
       "      <td>7</td>\n",
       "      <td>9q8yyb</td>\n",
       "      <td>37.74978</td>\n",
       "      <td>-122.39709</td>\n",
       "      <td>1.211036e+09</td>\n",
       "      <td>5.0</td>\n",
       "      <td>7.0</td>\n",
       "      <td>0.007222</td>\n",
       "      <td>0.008243</td>\n",
       "      <td>1.141356</td>\n",
       "      <td>2008-05-17</td>\n",
       "    </tr>\n",
       "    <tr>\n",
       "      <th>15</th>\n",
       "      <td>37.74896</td>\n",
       "      <td>-122.40619</td>\n",
       "      <td>1</td>\n",
       "      <td>1211035931</td>\n",
       "      <td>abboip</td>\n",
       "      <td>2008-05-17 07:52:11-07:00</td>\n",
       "      <td>5</td>\n",
       "      <td>7</td>\n",
       "      <td>9q8ywx</td>\n",
       "      <td>37.74977</td>\n",
       "      <td>-122.39724</td>\n",
       "      <td>1.211036e+09</td>\n",
       "      <td>5.0</td>\n",
       "      <td>7.0</td>\n",
       "      <td>0.016944</td>\n",
       "      <td>0.493291</td>\n",
       "      <td>29.112275</td>\n",
       "      <td>2008-05-17</td>\n",
       "    </tr>\n",
       "    <tr>\n",
       "      <th>16</th>\n",
       "      <td>37.74831</td>\n",
       "      <td>-122.41335</td>\n",
       "      <td>1</td>\n",
       "      <td>1211036022</td>\n",
       "      <td>abboip</td>\n",
       "      <td>2008-05-17 07:53:42-07:00</td>\n",
       "      <td>5</td>\n",
       "      <td>7</td>\n",
       "      <td>9q8ywr</td>\n",
       "      <td>37.74896</td>\n",
       "      <td>-122.40619</td>\n",
       "      <td>1.211036e+09</td>\n",
       "      <td>5.0</td>\n",
       "      <td>7.0</td>\n",
       "      <td>0.025278</td>\n",
       "      <td>0.394653</td>\n",
       "      <td>15.612627</td>\n",
       "      <td>2008-05-17</td>\n",
       "    </tr>\n",
       "    <tr>\n",
       "      <th>17</th>\n",
       "      <td>37.75157</td>\n",
       "      <td>-122.41400</td>\n",
       "      <td>1</td>\n",
       "      <td>1211036082</td>\n",
       "      <td>abboip</td>\n",
       "      <td>2008-05-17 07:54:42-07:00</td>\n",
       "      <td>5</td>\n",
       "      <td>7</td>\n",
       "      <td>9q8yy2</td>\n",
       "      <td>37.74831</td>\n",
       "      <td>-122.41335</td>\n",
       "      <td>1.211036e+09</td>\n",
       "      <td>5.0</td>\n",
       "      <td>7.0</td>\n",
       "      <td>0.016667</td>\n",
       "      <td>0.227633</td>\n",
       "      <td>13.657972</td>\n",
       "      <td>2008-05-17</td>\n",
       "    </tr>\n",
       "    <tr>\n",
       "      <th>18</th>\n",
       "      <td>37.75552</td>\n",
       "      <td>-122.41438</td>\n",
       "      <td>1</td>\n",
       "      <td>1211036158</td>\n",
       "      <td>abboip</td>\n",
       "      <td>2008-05-17 07:55:58-07:00</td>\n",
       "      <td>5</td>\n",
       "      <td>7</td>\n",
       "      <td>9q8yy3</td>\n",
       "      <td>37.75157</td>\n",
       "      <td>-122.41400</td>\n",
       "      <td>1.211036e+09</td>\n",
       "      <td>5.0</td>\n",
       "      <td>7.0</td>\n",
       "      <td>0.021111</td>\n",
       "      <td>0.273214</td>\n",
       "      <td>12.941700</td>\n",
       "      <td>2008-05-17</td>\n",
       "    </tr>\n",
       "  </tbody>\n",
       "</table>\n",
       "</div>"
      ],
      "text/plain": [
       "    latitude  longitude  occupancy        time  cab_id  \\\n",
       "14  37.74977 -122.39724          1  1211035870  abboip   \n",
       "15  37.74896 -122.40619          1  1211035931  abboip   \n",
       "16  37.74831 -122.41335          1  1211036022  abboip   \n",
       "17  37.75157 -122.41400          1  1211036082  abboip   \n",
       "18  37.75552 -122.41438          1  1211036158  abboip   \n",
       "\n",
       "                    datetime  dow  hod geohash  prev_latitude  prev_longitude  \\\n",
       "14 2008-05-17 07:51:10-07:00    5    7  9q8yyb       37.74978      -122.39709   \n",
       "15 2008-05-17 07:52:11-07:00    5    7  9q8ywx       37.74977      -122.39724   \n",
       "16 2008-05-17 07:53:42-07:00    5    7  9q8ywr       37.74896      -122.40619   \n",
       "17 2008-05-17 07:54:42-07:00    5    7  9q8yy2       37.74831      -122.41335   \n",
       "18 2008-05-17 07:55:58-07:00    5    7  9q8yy3       37.75157      -122.41400   \n",
       "\n",
       "       prev_time  prev_dow  prev_hour  duration  distance      speed  \\\n",
       "14  1.211036e+09       5.0        7.0  0.007222  0.008243   1.141356   \n",
       "15  1.211036e+09       5.0        7.0  0.016944  0.493291  29.112275   \n",
       "16  1.211036e+09       5.0        7.0  0.025278  0.394653  15.612627   \n",
       "17  1.211036e+09       5.0        7.0  0.016667  0.227633  13.657972   \n",
       "18  1.211036e+09       5.0        7.0  0.021111  0.273214  12.941700   \n",
       "\n",
       "          date  \n",
       "14  2008-05-17  \n",
       "15  2008-05-17  \n",
       "16  2008-05-17  \n",
       "17  2008-05-17  \n",
       "18  2008-05-17  "
      ]
     },
     "execution_count": 86,
     "metadata": {},
     "output_type": "execute_result"
    }
   ],
   "source": [
    "df_rides.head()"
   ]
  },
  {
   "cell_type": "code",
   "execution_count": 87,
   "metadata": {},
   "outputs": [
    {
     "name": "stdout",
     "output_type": "stream",
     "text": [
      "2008-05-17 03:00:09-07:00 2008-06-10 02:25:34-07:00\n"
     ]
    }
   ],
   "source": [
    "print(str(min(df_cleansed['datetime']))+\" \"+str(max(df_cleansed['datetime'])))"
   ]
  },
  {
   "cell_type": "code",
   "execution_count": 88,
   "metadata": {},
   "outputs": [
    {
     "name": "stderr",
     "output_type": "stream",
     "text": [
      "<ipython-input-88-cf10af45ed96>:1: SettingWithCopyWarning: \n",
      "A value is trying to be set on a copy of a slice from a DataFrame.\n",
      "Try using .loc[row_indexer,col_indexer] = value instead\n",
      "\n",
      "See the caveats in the documentation: https://pandas.pydata.org/pandas-docs/stable/user_guide/indexing.html#returning-a-view-versus-a-copy\n",
      "  df_idle['date']= pd.to_datetime(df_idle['datetime'], format='%Y-%m-%d %H:%M:%S').dt.date\n"
     ]
    }
   ],
   "source": [
    "df_idle['date']= pd.to_datetime(df_idle['datetime'], format='%Y-%m-%d %H:%M:%S').dt.date"
   ]
  },
  {
   "cell_type": "code",
   "execution_count": 89,
   "metadata": {
    "scrolled": true
   },
   "outputs": [
    {
     "name": "stderr",
     "output_type": "stream",
     "text": [
      "<ipython-input-89-093ef8375677>:1: SettingWithCopyWarning: \n",
      "A value is trying to be set on a copy of a slice from a DataFrame.\n",
      "Try using .loc[row_indexer,col_indexer] = value instead\n",
      "\n",
      "See the caveats in the documentation: https://pandas.pydata.org/pandas-docs/stable/user_guide/indexing.html#returning-a-view-versus-a-copy\n",
      "  df_rides['date']= pd.to_datetime(df_rides['datetime'], format='%Y-%m-%d %H:%M:%S').dt.date\n"
     ]
    }
   ],
   "source": [
    "df_rides['date']= pd.to_datetime(df_rides['datetime'], format='%Y-%m-%d %H:%M:%S').dt.date"
   ]
  },
  {
   "cell_type": "code",
   "execution_count": 90,
   "metadata": {},
   "outputs": [
    {
     "name": "stderr",
     "output_type": "stream",
     "text": [
      "<ipython-input-90-4f88f45010f1>:1: SettingWithCopyWarning: \n",
      "A value is trying to be set on a copy of a slice from a DataFrame.\n",
      "Try using .loc[row_indexer,col_indexer] = value instead\n",
      "\n",
      "See the caveats in the documentation: https://pandas.pydata.org/pandas-docs/stable/user_guide/indexing.html#returning-a-view-versus-a-copy\n",
      "  df_idle['date'] = pd.to_datetime(df_idle['date'])\n"
     ]
    },
    {
     "data": {
      "text/html": [
       "<div>\n",
       "<style scoped>\n",
       "    .dataframe tbody tr th:only-of-type {\n",
       "        vertical-align: middle;\n",
       "    }\n",
       "\n",
       "    .dataframe tbody tr th {\n",
       "        vertical-align: top;\n",
       "    }\n",
       "\n",
       "    .dataframe thead th {\n",
       "        text-align: right;\n",
       "    }\n",
       "</style>\n",
       "<table border=\"1\" class=\"dataframe\">\n",
       "  <thead>\n",
       "    <tr style=\"text-align: right;\">\n",
       "      <th></th>\n",
       "      <th>latitude</th>\n",
       "      <th>longitude</th>\n",
       "      <th>occupancy</th>\n",
       "      <th>time</th>\n",
       "      <th>cab_id</th>\n",
       "      <th>datetime</th>\n",
       "      <th>dow</th>\n",
       "      <th>hod</th>\n",
       "      <th>geohash</th>\n",
       "      <th>prev_latitude</th>\n",
       "      <th>prev_longitude</th>\n",
       "      <th>prev_time</th>\n",
       "      <th>prev_dow</th>\n",
       "      <th>prev_hour</th>\n",
       "      <th>duration</th>\n",
       "      <th>distance</th>\n",
       "      <th>speed</th>\n",
       "      <th>date</th>\n",
       "    </tr>\n",
       "  </thead>\n",
       "  <tbody>\n",
       "    <tr>\n",
       "      <th>1</th>\n",
       "      <td>37.75149</td>\n",
       "      <td>-122.39447</td>\n",
       "      <td>0</td>\n",
       "      <td>1211033614</td>\n",
       "      <td>abboip</td>\n",
       "      <td>2008-05-17 07:13:34-07:00</td>\n",
       "      <td>5</td>\n",
       "      <td>7</td>\n",
       "      <td>9q8yyb</td>\n",
       "      <td>37.75153</td>\n",
       "      <td>-122.39447</td>\n",
       "      <td>1.211034e+09</td>\n",
       "      <td>5.0</td>\n",
       "      <td>7.0</td>\n",
       "      <td>0.023333</td>\n",
       "      <td>0.002759</td>\n",
       "      <td>0.118229</td>\n",
       "      <td>2008-05-17</td>\n",
       "    </tr>\n",
       "    <tr>\n",
       "      <th>2</th>\n",
       "      <td>37.75149</td>\n",
       "      <td>-122.39447</td>\n",
       "      <td>0</td>\n",
       "      <td>1211033674</td>\n",
       "      <td>abboip</td>\n",
       "      <td>2008-05-17 07:14:34-07:00</td>\n",
       "      <td>5</td>\n",
       "      <td>7</td>\n",
       "      <td>9q8yyb</td>\n",
       "      <td>37.75149</td>\n",
       "      <td>-122.39447</td>\n",
       "      <td>1.211034e+09</td>\n",
       "      <td>5.0</td>\n",
       "      <td>7.0</td>\n",
       "      <td>0.016667</td>\n",
       "      <td>0.000000</td>\n",
       "      <td>0.000000</td>\n",
       "      <td>2008-05-17</td>\n",
       "    </tr>\n",
       "    <tr>\n",
       "      <th>3</th>\n",
       "      <td>37.75149</td>\n",
       "      <td>-122.39446</td>\n",
       "      <td>0</td>\n",
       "      <td>1211033735</td>\n",
       "      <td>abboip</td>\n",
       "      <td>2008-05-17 07:15:35-07:00</td>\n",
       "      <td>5</td>\n",
       "      <td>7</td>\n",
       "      <td>9q8yyb</td>\n",
       "      <td>37.75149</td>\n",
       "      <td>-122.39447</td>\n",
       "      <td>1.211034e+09</td>\n",
       "      <td>5.0</td>\n",
       "      <td>7.0</td>\n",
       "      <td>0.016944</td>\n",
       "      <td>0.000548</td>\n",
       "      <td>0.032318</td>\n",
       "      <td>2008-05-17</td>\n",
       "    </tr>\n",
       "    <tr>\n",
       "      <th>4</th>\n",
       "      <td>37.75144</td>\n",
       "      <td>-122.39449</td>\n",
       "      <td>0</td>\n",
       "      <td>1211035303</td>\n",
       "      <td>abboip</td>\n",
       "      <td>2008-05-17 07:41:43-07:00</td>\n",
       "      <td>5</td>\n",
       "      <td>7</td>\n",
       "      <td>9q8yyb</td>\n",
       "      <td>37.75149</td>\n",
       "      <td>-122.39446</td>\n",
       "      <td>1.211034e+09</td>\n",
       "      <td>5.0</td>\n",
       "      <td>7.0</td>\n",
       "      <td>0.435556</td>\n",
       "      <td>0.003820</td>\n",
       "      <td>0.008770</td>\n",
       "      <td>2008-05-17</td>\n",
       "    </tr>\n",
       "    <tr>\n",
       "      <th>5</th>\n",
       "      <td>37.75151</td>\n",
       "      <td>-122.39453</td>\n",
       "      <td>0</td>\n",
       "      <td>1211035374</td>\n",
       "      <td>abboip</td>\n",
       "      <td>2008-05-17 07:42:54-07:00</td>\n",
       "      <td>5</td>\n",
       "      <td>7</td>\n",
       "      <td>9q8yyb</td>\n",
       "      <td>37.75144</td>\n",
       "      <td>-122.39449</td>\n",
       "      <td>1.211035e+09</td>\n",
       "      <td>5.0</td>\n",
       "      <td>7.0</td>\n",
       "      <td>0.019722</td>\n",
       "      <td>0.005301</td>\n",
       "      <td>0.268802</td>\n",
       "      <td>2008-05-17</td>\n",
       "    </tr>\n",
       "  </tbody>\n",
       "</table>\n",
       "</div>"
      ],
      "text/plain": [
       "   latitude  longitude  occupancy        time  cab_id  \\\n",
       "1  37.75149 -122.39447          0  1211033614  abboip   \n",
       "2  37.75149 -122.39447          0  1211033674  abboip   \n",
       "3  37.75149 -122.39446          0  1211033735  abboip   \n",
       "4  37.75144 -122.39449          0  1211035303  abboip   \n",
       "5  37.75151 -122.39453          0  1211035374  abboip   \n",
       "\n",
       "                   datetime  dow  hod geohash  prev_latitude  prev_longitude  \\\n",
       "1 2008-05-17 07:13:34-07:00    5    7  9q8yyb       37.75153      -122.39447   \n",
       "2 2008-05-17 07:14:34-07:00    5    7  9q8yyb       37.75149      -122.39447   \n",
       "3 2008-05-17 07:15:35-07:00    5    7  9q8yyb       37.75149      -122.39447   \n",
       "4 2008-05-17 07:41:43-07:00    5    7  9q8yyb       37.75149      -122.39446   \n",
       "5 2008-05-17 07:42:54-07:00    5    7  9q8yyb       37.75144      -122.39449   \n",
       "\n",
       "      prev_time  prev_dow  prev_hour  duration  distance     speed       date  \n",
       "1  1.211034e+09       5.0        7.0  0.023333  0.002759  0.118229 2008-05-17  \n",
       "2  1.211034e+09       5.0        7.0  0.016667  0.000000  0.000000 2008-05-17  \n",
       "3  1.211034e+09       5.0        7.0  0.016944  0.000548  0.032318 2008-05-17  \n",
       "4  1.211034e+09       5.0        7.0  0.435556  0.003820  0.008770 2008-05-17  \n",
       "5  1.211035e+09       5.0        7.0  0.019722  0.005301  0.268802 2008-05-17  "
      ]
     },
     "execution_count": 90,
     "metadata": {},
     "output_type": "execute_result"
    }
   ],
   "source": [
    "df_idle['date'] = pd.to_datetime(df_idle['date'])\n",
    "df_idle.head()"
   ]
  },
  {
   "cell_type": "code",
   "execution_count": 91,
   "metadata": {},
   "outputs": [
    {
     "name": "stderr",
     "output_type": "stream",
     "text": [
      "<ipython-input-91-ca774426a742>:1: SettingWithCopyWarning: \n",
      "A value is trying to be set on a copy of a slice from a DataFrame.\n",
      "Try using .loc[row_indexer,col_indexer] = value instead\n",
      "\n",
      "See the caveats in the documentation: https://pandas.pydata.org/pandas-docs/stable/user_guide/indexing.html#returning-a-view-versus-a-copy\n",
      "  df_rides['date'] = pd.to_datetime(df_rides['date'])\n"
     ]
    },
    {
     "data": {
      "text/html": [
       "<div>\n",
       "<style scoped>\n",
       "    .dataframe tbody tr th:only-of-type {\n",
       "        vertical-align: middle;\n",
       "    }\n",
       "\n",
       "    .dataframe tbody tr th {\n",
       "        vertical-align: top;\n",
       "    }\n",
       "\n",
       "    .dataframe thead th {\n",
       "        text-align: right;\n",
       "    }\n",
       "</style>\n",
       "<table border=\"1\" class=\"dataframe\">\n",
       "  <thead>\n",
       "    <tr style=\"text-align: right;\">\n",
       "      <th></th>\n",
       "      <th>latitude</th>\n",
       "      <th>longitude</th>\n",
       "      <th>occupancy</th>\n",
       "      <th>time</th>\n",
       "      <th>cab_id</th>\n",
       "      <th>datetime</th>\n",
       "      <th>dow</th>\n",
       "      <th>hod</th>\n",
       "      <th>geohash</th>\n",
       "      <th>prev_latitude</th>\n",
       "      <th>prev_longitude</th>\n",
       "      <th>prev_time</th>\n",
       "      <th>prev_dow</th>\n",
       "      <th>prev_hour</th>\n",
       "      <th>duration</th>\n",
       "      <th>distance</th>\n",
       "      <th>speed</th>\n",
       "      <th>date</th>\n",
       "    </tr>\n",
       "  </thead>\n",
       "  <tbody>\n",
       "    <tr>\n",
       "      <th>14</th>\n",
       "      <td>37.74977</td>\n",
       "      <td>-122.39724</td>\n",
       "      <td>1</td>\n",
       "      <td>1211035870</td>\n",
       "      <td>abboip</td>\n",
       "      <td>2008-05-17 07:51:10-07:00</td>\n",
       "      <td>5</td>\n",
       "      <td>7</td>\n",
       "      <td>9q8yyb</td>\n",
       "      <td>37.74978</td>\n",
       "      <td>-122.39709</td>\n",
       "      <td>1.211036e+09</td>\n",
       "      <td>5.0</td>\n",
       "      <td>7.0</td>\n",
       "      <td>0.007222</td>\n",
       "      <td>0.008243</td>\n",
       "      <td>1.141356</td>\n",
       "      <td>2008-05-17</td>\n",
       "    </tr>\n",
       "    <tr>\n",
       "      <th>15</th>\n",
       "      <td>37.74896</td>\n",
       "      <td>-122.40619</td>\n",
       "      <td>1</td>\n",
       "      <td>1211035931</td>\n",
       "      <td>abboip</td>\n",
       "      <td>2008-05-17 07:52:11-07:00</td>\n",
       "      <td>5</td>\n",
       "      <td>7</td>\n",
       "      <td>9q8ywx</td>\n",
       "      <td>37.74977</td>\n",
       "      <td>-122.39724</td>\n",
       "      <td>1.211036e+09</td>\n",
       "      <td>5.0</td>\n",
       "      <td>7.0</td>\n",
       "      <td>0.016944</td>\n",
       "      <td>0.493291</td>\n",
       "      <td>29.112275</td>\n",
       "      <td>2008-05-17</td>\n",
       "    </tr>\n",
       "    <tr>\n",
       "      <th>16</th>\n",
       "      <td>37.74831</td>\n",
       "      <td>-122.41335</td>\n",
       "      <td>1</td>\n",
       "      <td>1211036022</td>\n",
       "      <td>abboip</td>\n",
       "      <td>2008-05-17 07:53:42-07:00</td>\n",
       "      <td>5</td>\n",
       "      <td>7</td>\n",
       "      <td>9q8ywr</td>\n",
       "      <td>37.74896</td>\n",
       "      <td>-122.40619</td>\n",
       "      <td>1.211036e+09</td>\n",
       "      <td>5.0</td>\n",
       "      <td>7.0</td>\n",
       "      <td>0.025278</td>\n",
       "      <td>0.394653</td>\n",
       "      <td>15.612627</td>\n",
       "      <td>2008-05-17</td>\n",
       "    </tr>\n",
       "    <tr>\n",
       "      <th>17</th>\n",
       "      <td>37.75157</td>\n",
       "      <td>-122.41400</td>\n",
       "      <td>1</td>\n",
       "      <td>1211036082</td>\n",
       "      <td>abboip</td>\n",
       "      <td>2008-05-17 07:54:42-07:00</td>\n",
       "      <td>5</td>\n",
       "      <td>7</td>\n",
       "      <td>9q8yy2</td>\n",
       "      <td>37.74831</td>\n",
       "      <td>-122.41335</td>\n",
       "      <td>1.211036e+09</td>\n",
       "      <td>5.0</td>\n",
       "      <td>7.0</td>\n",
       "      <td>0.016667</td>\n",
       "      <td>0.227633</td>\n",
       "      <td>13.657972</td>\n",
       "      <td>2008-05-17</td>\n",
       "    </tr>\n",
       "    <tr>\n",
       "      <th>18</th>\n",
       "      <td>37.75552</td>\n",
       "      <td>-122.41438</td>\n",
       "      <td>1</td>\n",
       "      <td>1211036158</td>\n",
       "      <td>abboip</td>\n",
       "      <td>2008-05-17 07:55:58-07:00</td>\n",
       "      <td>5</td>\n",
       "      <td>7</td>\n",
       "      <td>9q8yy3</td>\n",
       "      <td>37.75157</td>\n",
       "      <td>-122.41400</td>\n",
       "      <td>1.211036e+09</td>\n",
       "      <td>5.0</td>\n",
       "      <td>7.0</td>\n",
       "      <td>0.021111</td>\n",
       "      <td>0.273214</td>\n",
       "      <td>12.941700</td>\n",
       "      <td>2008-05-17</td>\n",
       "    </tr>\n",
       "  </tbody>\n",
       "</table>\n",
       "</div>"
      ],
      "text/plain": [
       "    latitude  longitude  occupancy        time  cab_id  \\\n",
       "14  37.74977 -122.39724          1  1211035870  abboip   \n",
       "15  37.74896 -122.40619          1  1211035931  abboip   \n",
       "16  37.74831 -122.41335          1  1211036022  abboip   \n",
       "17  37.75157 -122.41400          1  1211036082  abboip   \n",
       "18  37.75552 -122.41438          1  1211036158  abboip   \n",
       "\n",
       "                    datetime  dow  hod geohash  prev_latitude  prev_longitude  \\\n",
       "14 2008-05-17 07:51:10-07:00    5    7  9q8yyb       37.74978      -122.39709   \n",
       "15 2008-05-17 07:52:11-07:00    5    7  9q8ywx       37.74977      -122.39724   \n",
       "16 2008-05-17 07:53:42-07:00    5    7  9q8ywr       37.74896      -122.40619   \n",
       "17 2008-05-17 07:54:42-07:00    5    7  9q8yy2       37.74831      -122.41335   \n",
       "18 2008-05-17 07:55:58-07:00    5    7  9q8yy3       37.75157      -122.41400   \n",
       "\n",
       "       prev_time  prev_dow  prev_hour  duration  distance      speed  \\\n",
       "14  1.211036e+09       5.0        7.0  0.007222  0.008243   1.141356   \n",
       "15  1.211036e+09       5.0        7.0  0.016944  0.493291  29.112275   \n",
       "16  1.211036e+09       5.0        7.0  0.025278  0.394653  15.612627   \n",
       "17  1.211036e+09       5.0        7.0  0.016667  0.227633  13.657972   \n",
       "18  1.211036e+09       5.0        7.0  0.021111  0.273214  12.941700   \n",
       "\n",
       "         date  \n",
       "14 2008-05-17  \n",
       "15 2008-05-17  \n",
       "16 2008-05-17  \n",
       "17 2008-05-17  \n",
       "18 2008-05-17  "
      ]
     },
     "execution_count": 91,
     "metadata": {},
     "output_type": "execute_result"
    }
   ],
   "source": [
    "df_rides['date'] = pd.to_datetime(df_rides['date'])\n",
    "df_rides.head()"
   ]
  },
  {
   "cell_type": "code",
   "execution_count": 92,
   "metadata": {},
   "outputs": [],
   "source": [
    "alert()"
   ]
  },
  {
   "cell_type": "markdown",
   "metadata": {},
   "source": [
    "# Analysis"
   ]
  },
  {
   "cell_type": "code",
   "execution_count": 93,
   "metadata": {},
   "outputs": [],
   "source": [
    "idle_miles = df_idle[['date','distance']].groupby(['date']).sum().reset_index().set_index('date')"
   ]
  },
  {
   "cell_type": "code",
   "execution_count": 94,
   "metadata": {},
   "outputs": [
    {
     "data": {
      "text/plain": [
       "distance    float64\n",
       "dtype: object"
      ]
     },
     "execution_count": 94,
     "metadata": {},
     "output_type": "execute_result"
    }
   ],
   "source": [
    "idle_miles.dtypes"
   ]
  },
  {
   "cell_type": "code",
   "execution_count": 95,
   "metadata": {},
   "outputs": [
    {
     "data": {
      "text/plain": [
       "<AxesSubplot:xlabel='date'>"
      ]
     },
     "execution_count": 95,
     "metadata": {},
     "output_type": "execute_result"
    },
    {
     "data": {
      "image/png": "[encoded data removed]",
      "text/plain": [
       "<Figure size 432x288 with 1 Axes>"
      ]
     },
     "metadata": {
      "needs_background": "light"
     },
     "output_type": "display_data"
    }
   ],
   "source": [
    "idle_miles.plot.line()"
   ]
  },
  {
   "cell_type": "code",
   "execution_count": 96,
   "metadata": {},
   "outputs": [],
   "source": [
    "#removing 2008-05-17 and 2008-06-10 because they are not full days\n",
    "idle_miles = idle_miles[idle_miles.index>datetime(2008,5,17)]\n",
    "idle_miles = idle_miles[idle_miles.index<datetime(2008,6,10)]"
   ]
  },
  {
   "cell_type": "code",
   "execution_count": 97,
   "metadata": {},
   "outputs": [
    {
     "data": {
      "text/plain": [
       "<AxesSubplot:xlabel='date'>"
      ]
     },
     "execution_count": 97,
     "metadata": {},
     "output_type": "execute_result"
    },
    {
     "data": {
      "image/png": "[encoded data removed]",
      "text/plain": [
       "<Figure size 432x288 with 1 Axes>"
      ]
     },
     "metadata": {
      "needs_background": "light"
     },
     "output_type": "display_data"
    }
   ],
   "source": [
    "idle_miles.plot.line()"
   ]
  },
  {
   "cell_type": "code",
   "execution_count": 98,
   "metadata": {},
   "outputs": [],
   "source": [
    "from statsmodels.tsa.seasonal import seasonal_decompose\n",
    "from matplotlib import pyplot"
   ]
  },
  {
   "cell_type": "code",
   "execution_count": 99,
   "metadata": {},
   "outputs": [
    {
     "data": {
      "image/png": "[encoded data removed]",
      "text/plain": [
       "<Figure size 432x288 with 4 Axes>"
      ]
     },
     "metadata": {
      "needs_background": "light"
     },
     "output_type": "display_data"
    }
   ],
   "source": [
    "result = seasonal_decompose(idle_miles, model='additive')\n",
    "result.plot()\n",
    "pyplot.show()"
   ]
  },
  {
   "cell_type": "markdown",
   "metadata": {},
   "source": [
    "There are seasonal/cyclical and up-trend in the data. However the time frame coverage of the data is limited only less than a month. So if we are to analyze into one year timeframe, the trend maybe inacurate to be projected to a longer timeframe like one year. However the seasonal which is weekly, is an insight for predictive model: day of week should be considered."
   ]
  },
  {
   "cell_type": "code",
   "execution_count": 100,
   "metadata": {},
   "outputs": [],
   "source": [
    "rides_miles = df_rides[['date','distance']].groupby(['date']).sum().reset_index().set_index('date')"
   ]
  },
  {
   "cell_type": "code",
   "execution_count": 101,
   "metadata": {},
   "outputs": [
    {
     "data": {
      "text/plain": [
       "distance    float64\n",
       "dtype: object"
      ]
     },
     "execution_count": 101,
     "metadata": {},
     "output_type": "execute_result"
    }
   ],
   "source": [
    "rides_miles.dtypes"
   ]
  },
  {
   "cell_type": "code",
   "execution_count": 102,
   "metadata": {},
   "outputs": [
    {
     "data": {
      "text/plain": [
       "<AxesSubplot:xlabel='date'>"
      ]
     },
     "execution_count": 102,
     "metadata": {},
     "output_type": "execute_result"
    },
    {
     "data": {
      "image/png": "[encoded data removed]",
      "text/plain": [
       "<Figure size 432x288 with 1 Axes>"
      ]
     },
     "metadata": {
      "needs_background": "light"
     },
     "output_type": "display_data"
    }
   ],
   "source": [
    "rides_miles.plot.line()"
   ]
  },
  {
   "cell_type": "code",
   "execution_count": 103,
   "metadata": {},
   "outputs": [],
   "source": [
    "#removing 2008-05-17 and 2008-06-10 because they are not full days\n",
    "rides_miles = rides_miles[rides_miles.index>datetime(2008,5,17)]\n",
    "rides_miles = rides_miles[rides_miles.index<datetime(2008,6,10)]"
   ]
  },
  {
   "cell_type": "code",
   "execution_count": 104,
   "metadata": {},
   "outputs": [
    {
     "data": {
      "text/plain": [
       "<AxesSubplot:xlabel='date'>"
      ]
     },
     "execution_count": 104,
     "metadata": {},
     "output_type": "execute_result"
    },
    {
     "data": {
      "image/png": "[encoded data removed]",
      "text/plain": [
       "<Figure size 432x288 with 1 Axes>"
      ]
     },
     "metadata": {
      "needs_background": "light"
     },
     "output_type": "display_data"
    }
   ],
   "source": [
    "rides_miles.plot.line()"
   ]
  },
  {
   "cell_type": "code",
   "execution_count": 105,
   "metadata": {},
   "outputs": [
    {
     "data": {
      "image/png": "[encoded data removed]",
      "text/plain": [
       "<Figure size 432x288 with 4 Axes>"
      ]
     },
     "metadata": {
      "needs_background": "light"
     },
     "output_type": "display_data"
    }
   ],
   "source": [
    "result = seasonal_decompose(rides_miles, model='additive')\n",
    "result.plot()\n",
    "pyplot.show()"
   ]
  },
  {
   "cell_type": "code",
   "execution_count": 106,
   "metadata": {},
   "outputs": [
    {
     "name": "stderr",
     "output_type": "stream",
     "text": [
      "<ipython-input-106-6a4b7ec96455>:1: UserWarning: Boolean Series key will be reindexed to match DataFrame index.\n",
      "  cab_rides = df_cleansed[['cab_id','date','distance']][df['occupancy']==1].groupby(['cab_id','date']).sum().reset_index().set_index(['cab_id','date'])\n"
     ]
    }
   ],
   "source": [
    "cab_rides = df_cleansed[['cab_id','date','distance']][df['occupancy']==1].groupby(['cab_id','date']).sum().reset_index().set_index(['cab_id','date'])"
   ]
  },
  {
   "cell_type": "code",
   "execution_count": 107,
   "metadata": {},
   "outputs": [
    {
     "data": {
      "text/html": [
       "<div>\n",
       "<style scoped>\n",
       "    .dataframe tbody tr th:only-of-type {\n",
       "        vertical-align: middle;\n",
       "    }\n",
       "\n",
       "    .dataframe tbody tr th {\n",
       "        vertical-align: top;\n",
       "    }\n",
       "\n",
       "    .dataframe thead th {\n",
       "        text-align: right;\n",
       "    }\n",
       "</style>\n",
       "<table border=\"1\" class=\"dataframe\">\n",
       "  <thead>\n",
       "    <tr style=\"text-align: right;\">\n",
       "      <th></th>\n",
       "      <th></th>\n",
       "      <th>distance</th>\n",
       "    </tr>\n",
       "    <tr>\n",
       "      <th>cab_id</th>\n",
       "      <th>date</th>\n",
       "      <th></th>\n",
       "    </tr>\n",
       "  </thead>\n",
       "  <tbody>\n",
       "    <tr>\n",
       "      <th rowspan=\"5\" valign=\"top\">abboip</th>\n",
       "      <th>2008-05-17</th>\n",
       "      <td>100.501729</td>\n",
       "    </tr>\n",
       "    <tr>\n",
       "      <th>2008-05-18</th>\n",
       "      <td>75.164261</td>\n",
       "    </tr>\n",
       "    <tr>\n",
       "      <th>2008-05-19</th>\n",
       "      <td>99.338733</td>\n",
       "    </tr>\n",
       "    <tr>\n",
       "      <th>2008-05-20</th>\n",
       "      <td>119.588223</td>\n",
       "    </tr>\n",
       "    <tr>\n",
       "      <th>2008-05-21</th>\n",
       "      <td>13.778886</td>\n",
       "    </tr>\n",
       "  </tbody>\n",
       "</table>\n",
       "</div>"
      ],
      "text/plain": [
       "                     distance\n",
       "cab_id date                  \n",
       "abboip 2008-05-17  100.501729\n",
       "       2008-05-18   75.164261\n",
       "       2008-05-19   99.338733\n",
       "       2008-05-20  119.588223\n",
       "       2008-05-21   13.778886"
      ]
     },
     "execution_count": 107,
     "metadata": {},
     "output_type": "execute_result"
    }
   ],
   "source": [
    "cab_rides.head()"
   ]
  },
  {
   "cell_type": "code",
   "execution_count": 108,
   "metadata": {},
   "outputs": [
    {
     "name": "stderr",
     "output_type": "stream",
     "text": [
      "<ipython-input-108-fbb936c2449d>:1: UserWarning: Boolean Series key will be reindexed to match DataFrame index.\n",
      "  cab_idles = df_cleansed[['cab_id','date','distance']][df['occupancy']==0].groupby(['cab_id','date']).sum().reset_index().set_index(['cab_id','date'])\n"
     ]
    }
   ],
   "source": [
    "cab_idles = df_cleansed[['cab_id','date','distance']][df['occupancy']==0].groupby(['cab_id','date']).sum().reset_index().set_index(['cab_id','date'])"
   ]
  },
  {
   "cell_type": "code",
   "execution_count": 109,
   "metadata": {},
   "outputs": [
    {
     "data": {
      "text/html": [
       "<div>\n",
       "<style scoped>\n",
       "    .dataframe tbody tr th:only-of-type {\n",
       "        vertical-align: middle;\n",
       "    }\n",
       "\n",
       "    .dataframe tbody tr th {\n",
       "        vertical-align: top;\n",
       "    }\n",
       "\n",
       "    .dataframe thead th {\n",
       "        text-align: right;\n",
       "    }\n",
       "</style>\n",
       "<table border=\"1\" class=\"dataframe\">\n",
       "  <thead>\n",
       "    <tr style=\"text-align: right;\">\n",
       "      <th></th>\n",
       "      <th></th>\n",
       "      <th>distance</th>\n",
       "    </tr>\n",
       "    <tr>\n",
       "      <th>cab_id</th>\n",
       "      <th>date</th>\n",
       "      <th></th>\n",
       "    </tr>\n",
       "  </thead>\n",
       "  <tbody>\n",
       "    <tr>\n",
       "      <th rowspan=\"5\" valign=\"top\">uvreoipy</th>\n",
       "      <th>2008-06-05</th>\n",
       "      <td>93.411747</td>\n",
       "    </tr>\n",
       "    <tr>\n",
       "      <th>2008-06-06</th>\n",
       "      <td>87.803069</td>\n",
       "    </tr>\n",
       "    <tr>\n",
       "      <th>2008-06-07</th>\n",
       "      <td>69.601399</td>\n",
       "    </tr>\n",
       "    <tr>\n",
       "      <th>2008-06-08</th>\n",
       "      <td>138.657739</td>\n",
       "    </tr>\n",
       "    <tr>\n",
       "      <th>2008-06-09</th>\n",
       "      <td>39.140974</td>\n",
       "    </tr>\n",
       "  </tbody>\n",
       "</table>\n",
       "</div>"
      ],
      "text/plain": [
       "                       distance\n",
       "cab_id   date                  \n",
       "uvreoipy 2008-06-05   93.411747\n",
       "         2008-06-06   87.803069\n",
       "         2008-06-07   69.601399\n",
       "         2008-06-08  138.657739\n",
       "         2008-06-09   39.140974"
      ]
     },
     "execution_count": 109,
     "metadata": {},
     "output_type": "execute_result"
    }
   ],
   "source": [
    "cab_idles.tail()"
   ]
  },
  {
   "cell_type": "code",
   "execution_count": 110,
   "metadata": {},
   "outputs": [
    {
     "data": {
      "text/html": [
       "<div>\n",
       "<style scoped>\n",
       "    .dataframe tbody tr th:only-of-type {\n",
       "        vertical-align: middle;\n",
       "    }\n",
       "\n",
       "    .dataframe tbody tr th {\n",
       "        vertical-align: top;\n",
       "    }\n",
       "\n",
       "    .dataframe thead th {\n",
       "        text-align: right;\n",
       "    }\n",
       "</style>\n",
       "<table border=\"1\" class=\"dataframe\">\n",
       "  <thead>\n",
       "    <tr style=\"text-align: right;\">\n",
       "      <th></th>\n",
       "      <th>distance</th>\n",
       "    </tr>\n",
       "  </thead>\n",
       "  <tbody>\n",
       "    <tr>\n",
       "      <th>count</th>\n",
       "      <td>11832.000000</td>\n",
       "    </tr>\n",
       "    <tr>\n",
       "      <th>mean</th>\n",
       "      <td>90.431401</td>\n",
       "    </tr>\n",
       "    <tr>\n",
       "      <th>std</th>\n",
       "      <td>31.862285</td>\n",
       "    </tr>\n",
       "    <tr>\n",
       "      <th>min</th>\n",
       "      <td>0.000000</td>\n",
       "    </tr>\n",
       "    <tr>\n",
       "      <th>25%</th>\n",
       "      <td>71.538267</td>\n",
       "    </tr>\n",
       "    <tr>\n",
       "      <th>50%</th>\n",
       "      <td>93.438843</td>\n",
       "    </tr>\n",
       "    <tr>\n",
       "      <th>75%</th>\n",
       "      <td>112.109282</td>\n",
       "    </tr>\n",
       "    <tr>\n",
       "      <th>max</th>\n",
       "      <td>192.943036</td>\n",
       "    </tr>\n",
       "  </tbody>\n",
       "</table>\n",
       "</div>"
      ],
      "text/plain": [
       "           distance\n",
       "count  11832.000000\n",
       "mean      90.431401\n",
       "std       31.862285\n",
       "min        0.000000\n",
       "25%       71.538267\n",
       "50%       93.438843\n",
       "75%      112.109282\n",
       "max      192.943036"
      ]
     },
     "execution_count": 110,
     "metadata": {},
     "output_type": "execute_result"
    }
   ],
   "source": [
    "cab_rides.describe()"
   ]
  },
  {
   "cell_type": "code",
   "execution_count": 111,
   "metadata": {},
   "outputs": [
    {
     "data": {
      "text/html": [
       "<div>\n",
       "<style scoped>\n",
       "    .dataframe tbody tr th:only-of-type {\n",
       "        vertical-align: middle;\n",
       "    }\n",
       "\n",
       "    .dataframe tbody tr th {\n",
       "        vertical-align: top;\n",
       "    }\n",
       "\n",
       "    .dataframe thead th {\n",
       "        text-align: right;\n",
       "    }\n",
       "</style>\n",
       "<table border=\"1\" class=\"dataframe\">\n",
       "  <thead>\n",
       "    <tr style=\"text-align: right;\">\n",
       "      <th></th>\n",
       "      <th>distance</th>\n",
       "    </tr>\n",
       "  </thead>\n",
       "  <tbody>\n",
       "    <tr>\n",
       "      <th>count</th>\n",
       "      <td>11920.000000</td>\n",
       "    </tr>\n",
       "    <tr>\n",
       "      <th>mean</th>\n",
       "      <td>69.858595</td>\n",
       "    </tr>\n",
       "    <tr>\n",
       "      <th>std</th>\n",
       "      <td>26.001069</td>\n",
       "    </tr>\n",
       "    <tr>\n",
       "      <th>min</th>\n",
       "      <td>0.000000</td>\n",
       "    </tr>\n",
       "    <tr>\n",
       "      <th>25%</th>\n",
       "      <td>53.855384</td>\n",
       "    </tr>\n",
       "    <tr>\n",
       "      <th>50%</th>\n",
       "      <td>71.503395</td>\n",
       "    </tr>\n",
       "    <tr>\n",
       "      <th>75%</th>\n",
       "      <td>87.898291</td>\n",
       "    </tr>\n",
       "    <tr>\n",
       "      <th>max</th>\n",
       "      <td>160.730261</td>\n",
       "    </tr>\n",
       "  </tbody>\n",
       "</table>\n",
       "</div>"
      ],
      "text/plain": [
       "           distance\n",
       "count  11920.000000\n",
       "mean      69.858595\n",
       "std       26.001069\n",
       "min        0.000000\n",
       "25%       53.855384\n",
       "50%       71.503395\n",
       "75%       87.898291\n",
       "max      160.730261"
      ]
     },
     "execution_count": 111,
     "metadata": {},
     "output_type": "execute_result"
    }
   ],
   "source": [
    "cab_idles.describe()"
   ]
  },
  {
   "cell_type": "markdown",
   "metadata": {},
   "source": [
    "Need to find miles per cab per day (rides, idle, and total)"
   ]
  },
  {
   "cell_type": "code",
   "execution_count": 112,
   "metadata": {},
   "outputs": [],
   "source": [
    "#concatenating cab dataframes\n",
    "cab_rides.rename(columns={'distance':'rides_miles'},inplace=True)\n",
    "cab_idles.rename(columns={'distance':'idle_miles'},inplace=True)\n",
    "cab_df = pd.concat([cab_rides,cab_idles],axis=1)"
   ]
  },
  {
   "cell_type": "code",
   "execution_count": 113,
   "metadata": {},
   "outputs": [
    {
     "data": {
      "text/html": [
       "<div>\n",
       "<style scoped>\n",
       "    .dataframe tbody tr th:only-of-type {\n",
       "        vertical-align: middle;\n",
       "    }\n",
       "\n",
       "    .dataframe tbody tr th {\n",
       "        vertical-align: top;\n",
       "    }\n",
       "\n",
       "    .dataframe thead th {\n",
       "        text-align: right;\n",
       "    }\n",
       "</style>\n",
       "<table border=\"1\" class=\"dataframe\">\n",
       "  <thead>\n",
       "    <tr style=\"text-align: right;\">\n",
       "      <th></th>\n",
       "      <th></th>\n",
       "      <th>rides_miles</th>\n",
       "      <th>idle_miles</th>\n",
       "    </tr>\n",
       "    <tr>\n",
       "      <th>cab_id</th>\n",
       "      <th>date</th>\n",
       "      <th></th>\n",
       "      <th></th>\n",
       "    </tr>\n",
       "  </thead>\n",
       "  <tbody>\n",
       "    <tr>\n",
       "      <th rowspan=\"6\" valign=\"top\">uvjeahot</th>\n",
       "      <th>2008-06-04</th>\n",
       "      <td>76.168823</td>\n",
       "      <td>82.798511</td>\n",
       "    </tr>\n",
       "    <tr>\n",
       "      <th>2008-06-05</th>\n",
       "      <td>116.156517</td>\n",
       "      <td>86.788768</td>\n",
       "    </tr>\n",
       "    <tr>\n",
       "      <th>2008-06-06</th>\n",
       "      <td>107.682875</td>\n",
       "      <td>65.900696</td>\n",
       "    </tr>\n",
       "    <tr>\n",
       "      <th>2008-06-07</th>\n",
       "      <td>89.872418</td>\n",
       "      <td>75.981890</td>\n",
       "    </tr>\n",
       "    <tr>\n",
       "      <th>2008-06-08</th>\n",
       "      <td>51.587194</td>\n",
       "      <td>73.461647</td>\n",
       "    </tr>\n",
       "    <tr>\n",
       "      <th>2008-06-09</th>\n",
       "      <td>20.963350</td>\n",
       "      <td>17.959768</td>\n",
       "    </tr>\n",
       "    <tr>\n",
       "      <th rowspan=\"20\" valign=\"top\">uvjova</th>\n",
       "      <th>2008-05-17</th>\n",
       "      <td>51.096964</td>\n",
       "      <td>12.980811</td>\n",
       "    </tr>\n",
       "    <tr>\n",
       "      <th>2008-05-18</th>\n",
       "      <td>121.119319</td>\n",
       "      <td>53.206775</td>\n",
       "    </tr>\n",
       "    <tr>\n",
       "      <th>2008-05-19</th>\n",
       "      <td>58.360256</td>\n",
       "      <td>66.484677</td>\n",
       "    </tr>\n",
       "    <tr>\n",
       "      <th>2008-05-20</th>\n",
       "      <td>78.761910</td>\n",
       "      <td>67.653436</td>\n",
       "    </tr>\n",
       "    <tr>\n",
       "      <th>2008-05-21</th>\n",
       "      <td>109.147648</td>\n",
       "      <td>84.499685</td>\n",
       "    </tr>\n",
       "    <tr>\n",
       "      <th>2008-05-22</th>\n",
       "      <td>134.027873</td>\n",
       "      <td>87.759958</td>\n",
       "    </tr>\n",
       "    <tr>\n",
       "      <th>2008-05-23</th>\n",
       "      <td>78.612944</td>\n",
       "      <td>55.005081</td>\n",
       "    </tr>\n",
       "    <tr>\n",
       "      <th>2008-05-24</th>\n",
       "      <td>22.325958</td>\n",
       "      <td>27.345788</td>\n",
       "    </tr>\n",
       "    <tr>\n",
       "      <th>2008-05-25</th>\n",
       "      <td>15.889845</td>\n",
       "      <td>9.585784</td>\n",
       "    </tr>\n",
       "    <tr>\n",
       "      <th>2008-05-26</th>\n",
       "      <td>50.953806</td>\n",
       "      <td>70.229999</td>\n",
       "    </tr>\n",
       "    <tr>\n",
       "      <th>2008-05-28</th>\n",
       "      <td>67.790499</td>\n",
       "      <td>119.507201</td>\n",
       "    </tr>\n",
       "    <tr>\n",
       "      <th>2008-05-29</th>\n",
       "      <td>13.077595</td>\n",
       "      <td>26.507151</td>\n",
       "    </tr>\n",
       "    <tr>\n",
       "      <th>2008-05-30</th>\n",
       "      <td>92.270579</td>\n",
       "      <td>62.209240</td>\n",
       "    </tr>\n",
       "    <tr>\n",
       "      <th>2008-05-31</th>\n",
       "      <td>105.968453</td>\n",
       "      <td>95.663117</td>\n",
       "    </tr>\n",
       "    <tr>\n",
       "      <th>2008-06-01</th>\n",
       "      <td>106.145784</td>\n",
       "      <td>59.482393</td>\n",
       "    </tr>\n",
       "    <tr>\n",
       "      <th>2008-06-02</th>\n",
       "      <td>101.836253</td>\n",
       "      <td>114.337601</td>\n",
       "    </tr>\n",
       "    <tr>\n",
       "      <th>2008-06-03</th>\n",
       "      <td>7.782208</td>\n",
       "      <td>10.443919</td>\n",
       "    </tr>\n",
       "    <tr>\n",
       "      <th>2008-06-06</th>\n",
       "      <td>119.962146</td>\n",
       "      <td>101.072968</td>\n",
       "    </tr>\n",
       "    <tr>\n",
       "      <th>2008-06-07</th>\n",
       "      <td>96.963211</td>\n",
       "      <td>85.394579</td>\n",
       "    </tr>\n",
       "    <tr>\n",
       "      <th>2008-06-08</th>\n",
       "      <td>57.626675</td>\n",
       "      <td>6.416297</td>\n",
       "    </tr>\n",
       "    <tr>\n",
       "      <th rowspan=\"24\" valign=\"top\">uvreoipy</th>\n",
       "      <th>2008-05-17</th>\n",
       "      <td>84.224048</td>\n",
       "      <td>60.103019</td>\n",
       "    </tr>\n",
       "    <tr>\n",
       "      <th>2008-05-18</th>\n",
       "      <td>86.241368</td>\n",
       "      <td>53.509756</td>\n",
       "    </tr>\n",
       "    <tr>\n",
       "      <th>2008-05-19</th>\n",
       "      <td>103.728500</td>\n",
       "      <td>92.844463</td>\n",
       "    </tr>\n",
       "    <tr>\n",
       "      <th>2008-05-20</th>\n",
       "      <td>80.676706</td>\n",
       "      <td>82.039634</td>\n",
       "    </tr>\n",
       "    <tr>\n",
       "      <th>2008-05-21</th>\n",
       "      <td>88.229574</td>\n",
       "      <td>81.442495</td>\n",
       "    </tr>\n",
       "    <tr>\n",
       "      <th>2008-05-22</th>\n",
       "      <td>116.892576</td>\n",
       "      <td>97.549968</td>\n",
       "    </tr>\n",
       "    <tr>\n",
       "      <th>2008-05-23</th>\n",
       "      <td>91.245490</td>\n",
       "      <td>75.156234</td>\n",
       "    </tr>\n",
       "    <tr>\n",
       "      <th>2008-05-24</th>\n",
       "      <td>77.540544</td>\n",
       "      <td>51.196455</td>\n",
       "    </tr>\n",
       "    <tr>\n",
       "      <th>2008-05-25</th>\n",
       "      <td>61.811691</td>\n",
       "      <td>55.942962</td>\n",
       "    </tr>\n",
       "    <tr>\n",
       "      <th>2008-05-26</th>\n",
       "      <td>59.146876</td>\n",
       "      <td>62.222839</td>\n",
       "    </tr>\n",
       "    <tr>\n",
       "      <th>2008-05-27</th>\n",
       "      <td>89.994573</td>\n",
       "      <td>79.611931</td>\n",
       "    </tr>\n",
       "    <tr>\n",
       "      <th>2008-05-28</th>\n",
       "      <td>72.663033</td>\n",
       "      <td>77.316301</td>\n",
       "    </tr>\n",
       "    <tr>\n",
       "      <th>2008-05-29</th>\n",
       "      <td>91.428262</td>\n",
       "      <td>79.704540</td>\n",
       "    </tr>\n",
       "    <tr>\n",
       "      <th>2008-05-30</th>\n",
       "      <td>89.952210</td>\n",
       "      <td>62.184776</td>\n",
       "    </tr>\n",
       "    <tr>\n",
       "      <th>2008-05-31</th>\n",
       "      <td>110.168937</td>\n",
       "      <td>67.668939</td>\n",
       "    </tr>\n",
       "    <tr>\n",
       "      <th>2008-06-01</th>\n",
       "      <td>62.996061</td>\n",
       "      <td>55.004348</td>\n",
       "    </tr>\n",
       "    <tr>\n",
       "      <th>2008-06-02</th>\n",
       "      <td>97.972564</td>\n",
       "      <td>89.773190</td>\n",
       "    </tr>\n",
       "    <tr>\n",
       "      <th>2008-06-03</th>\n",
       "      <td>90.070644</td>\n",
       "      <td>61.490240</td>\n",
       "    </tr>\n",
       "    <tr>\n",
       "      <th>2008-06-04</th>\n",
       "      <td>97.065917</td>\n",
       "      <td>78.590225</td>\n",
       "    </tr>\n",
       "    <tr>\n",
       "      <th>2008-06-05</th>\n",
       "      <td>100.802007</td>\n",
       "      <td>93.411747</td>\n",
       "    </tr>\n",
       "    <tr>\n",
       "      <th>2008-06-06</th>\n",
       "      <td>104.687131</td>\n",
       "      <td>87.803069</td>\n",
       "    </tr>\n",
       "    <tr>\n",
       "      <th>2008-06-07</th>\n",
       "      <td>100.395500</td>\n",
       "      <td>69.601399</td>\n",
       "    </tr>\n",
       "    <tr>\n",
       "      <th>2008-06-08</th>\n",
       "      <td>101.692716</td>\n",
       "      <td>138.657739</td>\n",
       "    </tr>\n",
       "    <tr>\n",
       "      <th>2008-06-09</th>\n",
       "      <td>17.646211</td>\n",
       "      <td>39.140974</td>\n",
       "    </tr>\n",
       "  </tbody>\n",
       "</table>\n",
       "</div>"
      ],
      "text/plain": [
       "                     rides_miles  idle_miles\n",
       "cab_id   date                               \n",
       "uvjeahot 2008-06-04    76.168823   82.798511\n",
       "         2008-06-05   116.156517   86.788768\n",
       "         2008-06-06   107.682875   65.900696\n",
       "         2008-06-07    89.872418   75.981890\n",
       "         2008-06-08    51.587194   73.461647\n",
       "         2008-06-09    20.963350   17.959768\n",
       "uvjova   2008-05-17    51.096964   12.980811\n",
       "         2008-05-18   121.119319   53.206775\n",
       "         2008-05-19    58.360256   66.484677\n",
       "         2008-05-20    78.761910   67.653436\n",
       "         2008-05-21   109.147648   84.499685\n",
       "         2008-05-22   134.027873   87.759958\n",
       "         2008-05-23    78.612944   55.005081\n",
       "         2008-05-24    22.325958   27.345788\n",
       "         2008-05-25    15.889845    9.585784\n",
       "         2008-05-26    50.953806   70.229999\n",
       "         2008-05-28    67.790499  119.507201\n",
       "         2008-05-29    13.077595   26.507151\n",
       "         2008-05-30    92.270579   62.209240\n",
       "         2008-05-31   105.968453   95.663117\n",
       "         2008-06-01   106.145784   59.482393\n",
       "         2008-06-02   101.836253  114.337601\n",
       "         2008-06-03     7.782208   10.443919\n",
       "         2008-06-06   119.962146  101.072968\n",
       "         2008-06-07    96.963211   85.394579\n",
       "         2008-06-08    57.626675    6.416297\n",
       "uvreoipy 2008-05-17    84.224048   60.103019\n",
       "         2008-05-18    86.241368   53.509756\n",
       "         2008-05-19   103.728500   92.844463\n",
       "         2008-05-20    80.676706   82.039634\n",
       "         2008-05-21    88.229574   81.442495\n",
       "         2008-05-22   116.892576   97.549968\n",
       "         2008-05-23    91.245490   75.156234\n",
       "         2008-05-24    77.540544   51.196455\n",
       "         2008-05-25    61.811691   55.942962\n",
       "         2008-05-26    59.146876   62.222839\n",
       "         2008-05-27    89.994573   79.611931\n",
       "         2008-05-28    72.663033   77.316301\n",
       "         2008-05-29    91.428262   79.704540\n",
       "         2008-05-30    89.952210   62.184776\n",
       "         2008-05-31   110.168937   67.668939\n",
       "         2008-06-01    62.996061   55.004348\n",
       "         2008-06-02    97.972564   89.773190\n",
       "         2008-06-03    90.070644   61.490240\n",
       "         2008-06-04    97.065917   78.590225\n",
       "         2008-06-05   100.802007   93.411747\n",
       "         2008-06-06   104.687131   87.803069\n",
       "         2008-06-07   100.395500   69.601399\n",
       "         2008-06-08   101.692716  138.657739\n",
       "         2008-06-09    17.646211   39.140974"
      ]
     },
     "execution_count": 113,
     "metadata": {},
     "output_type": "execute_result"
    }
   ],
   "source": [
    "cab_df.tail(50)"
   ]
  },
  {
   "cell_type": "code",
   "execution_count": 114,
   "metadata": {},
   "outputs": [],
   "source": [
    "daily_miles = cab_df.reset_index().drop(columns=['date','cab_id'])"
   ]
  },
  {
   "cell_type": "code",
   "execution_count": 115,
   "metadata": {},
   "outputs": [
    {
     "data": {
      "text/html": [
       "<div>\n",
       "<style scoped>\n",
       "    .dataframe tbody tr th:only-of-type {\n",
       "        vertical-align: middle;\n",
       "    }\n",
       "\n",
       "    .dataframe tbody tr th {\n",
       "        vertical-align: top;\n",
       "    }\n",
       "\n",
       "    .dataframe thead th {\n",
       "        text-align: right;\n",
       "    }\n",
       "</style>\n",
       "<table border=\"1\" class=\"dataframe\">\n",
       "  <thead>\n",
       "    <tr style=\"text-align: right;\">\n",
       "      <th></th>\n",
       "      <th>rides_miles</th>\n",
       "      <th>idle_miles</th>\n",
       "      <th>total_miles</th>\n",
       "    </tr>\n",
       "  </thead>\n",
       "  <tbody>\n",
       "    <tr>\n",
       "      <th>0</th>\n",
       "      <td>100.501729</td>\n",
       "      <td>53.500660</td>\n",
       "      <td>154.002389</td>\n",
       "    </tr>\n",
       "    <tr>\n",
       "      <th>1</th>\n",
       "      <td>75.164261</td>\n",
       "      <td>40.359098</td>\n",
       "      <td>115.523360</td>\n",
       "    </tr>\n",
       "    <tr>\n",
       "      <th>2</th>\n",
       "      <td>99.338733</td>\n",
       "      <td>71.942030</td>\n",
       "      <td>171.280763</td>\n",
       "    </tr>\n",
       "    <tr>\n",
       "      <th>3</th>\n",
       "      <td>119.588223</td>\n",
       "      <td>147.831569</td>\n",
       "      <td>267.419792</td>\n",
       "    </tr>\n",
       "    <tr>\n",
       "      <th>4</th>\n",
       "      <td>13.778886</td>\n",
       "      <td>29.178797</td>\n",
       "      <td>42.957682</td>\n",
       "    </tr>\n",
       "    <tr>\n",
       "      <th>...</th>\n",
       "      <td>...</td>\n",
       "      <td>...</td>\n",
       "      <td>...</td>\n",
       "    </tr>\n",
       "    <tr>\n",
       "      <th>11915</th>\n",
       "      <td>100.802007</td>\n",
       "      <td>93.411747</td>\n",
       "      <td>194.213754</td>\n",
       "    </tr>\n",
       "    <tr>\n",
       "      <th>11916</th>\n",
       "      <td>104.687131</td>\n",
       "      <td>87.803069</td>\n",
       "      <td>192.490201</td>\n",
       "    </tr>\n",
       "    <tr>\n",
       "      <th>11917</th>\n",
       "      <td>100.395500</td>\n",
       "      <td>69.601399</td>\n",
       "      <td>169.996899</td>\n",
       "    </tr>\n",
       "    <tr>\n",
       "      <th>11918</th>\n",
       "      <td>101.692716</td>\n",
       "      <td>138.657739</td>\n",
       "      <td>240.350455</td>\n",
       "    </tr>\n",
       "    <tr>\n",
       "      <th>11919</th>\n",
       "      <td>17.646211</td>\n",
       "      <td>39.140974</td>\n",
       "      <td>56.787186</td>\n",
       "    </tr>\n",
       "  </tbody>\n",
       "</table>\n",
       "<p>11920 rows × 3 columns</p>\n",
       "</div>"
      ],
      "text/plain": [
       "       rides_miles  idle_miles  total_miles\n",
       "0       100.501729   53.500660   154.002389\n",
       "1        75.164261   40.359098   115.523360\n",
       "2        99.338733   71.942030   171.280763\n",
       "3       119.588223  147.831569   267.419792\n",
       "4        13.778886   29.178797    42.957682\n",
       "...            ...         ...          ...\n",
       "11915   100.802007   93.411747   194.213754\n",
       "11916   104.687131   87.803069   192.490201\n",
       "11917   100.395500   69.601399   169.996899\n",
       "11918   101.692716  138.657739   240.350455\n",
       "11919    17.646211   39.140974    56.787186\n",
       "\n",
       "[11920 rows x 3 columns]"
      ]
     },
     "execution_count": 115,
     "metadata": {},
     "output_type": "execute_result"
    }
   ],
   "source": [
    "daily_miles['total_miles'] = daily_miles.apply(lambda x: (x.rides_miles if ~np.isnan(x.rides_miles) else 0) + (x.idle_miles if ~np.isnan(x.idle_miles) else 0), axis=1)\n",
    "daily_miles"
   ]
  },
  {
   "cell_type": "code",
   "execution_count": 116,
   "metadata": {},
   "outputs": [
    {
     "data": {
      "text/html": [
       "<div>\n",
       "<style scoped>\n",
       "    .dataframe tbody tr th:only-of-type {\n",
       "        vertical-align: middle;\n",
       "    }\n",
       "\n",
       "    .dataframe tbody tr th {\n",
       "        vertical-align: top;\n",
       "    }\n",
       "\n",
       "    .dataframe thead th {\n",
       "        text-align: right;\n",
       "    }\n",
       "</style>\n",
       "<table border=\"1\" class=\"dataframe\">\n",
       "  <thead>\n",
       "    <tr style=\"text-align: right;\">\n",
       "      <th></th>\n",
       "      <th>rides_miles</th>\n",
       "      <th>idle_miles</th>\n",
       "      <th>total_miles</th>\n",
       "    </tr>\n",
       "  </thead>\n",
       "  <tbody>\n",
       "    <tr>\n",
       "      <th>count</th>\n",
       "      <td>11832.000000</td>\n",
       "      <td>11920.000000</td>\n",
       "      <td>11920.000000</td>\n",
       "    </tr>\n",
       "    <tr>\n",
       "      <th>mean</th>\n",
       "      <td>90.431401</td>\n",
       "      <td>69.858595</td>\n",
       "      <td>159.622381</td>\n",
       "    </tr>\n",
       "    <tr>\n",
       "      <th>std</th>\n",
       "      <td>31.862285</td>\n",
       "      <td>26.001069</td>\n",
       "      <td>53.870859</td>\n",
       "    </tr>\n",
       "    <tr>\n",
       "      <th>min</th>\n",
       "      <td>0.000000</td>\n",
       "      <td>0.000000</td>\n",
       "      <td>0.002145</td>\n",
       "    </tr>\n",
       "    <tr>\n",
       "      <th>25%</th>\n",
       "      <td>71.538267</td>\n",
       "      <td>53.855384</td>\n",
       "      <td>130.214231</td>\n",
       "    </tr>\n",
       "    <tr>\n",
       "      <th>50%</th>\n",
       "      <td>93.438843</td>\n",
       "      <td>71.503395</td>\n",
       "      <td>167.738532</td>\n",
       "    </tr>\n",
       "    <tr>\n",
       "      <th>75%</th>\n",
       "      <td>112.109282</td>\n",
       "      <td>87.898291</td>\n",
       "      <td>196.691006</td>\n",
       "    </tr>\n",
       "    <tr>\n",
       "      <th>max</th>\n",
       "      <td>192.943036</td>\n",
       "      <td>160.730261</td>\n",
       "      <td>316.933200</td>\n",
       "    </tr>\n",
       "  </tbody>\n",
       "</table>\n",
       "</div>"
      ],
      "text/plain": [
       "        rides_miles    idle_miles   total_miles\n",
       "count  11832.000000  11920.000000  11920.000000\n",
       "mean      90.431401     69.858595    159.622381\n",
       "std       31.862285     26.001069     53.870859\n",
       "min        0.000000      0.000000      0.002145\n",
       "25%       71.538267     53.855384    130.214231\n",
       "50%       93.438843     71.503395    167.738532\n",
       "75%      112.109282     87.898291    196.691006\n",
       "max      192.943036    160.730261    316.933200"
      ]
     },
     "execution_count": 116,
     "metadata": {},
     "output_type": "execute_result"
    }
   ],
   "source": [
    "daily_miles.describe()"
   ]
  },
  {
   "cell_type": "code",
   "execution_count": 117,
   "metadata": {},
   "outputs": [
    {
     "data": {
      "text/plain": [
       "<AxesSubplot:ylabel='Frequency'>"
      ]
     },
     "execution_count": 117,
     "metadata": {},
     "output_type": "execute_result"
    },
    {
     "data": {
      "image/png": "[encoded data removed]",
      "text/plain": [
       "<Figure size 432x288 with 1 Axes>"
      ]
     },
     "metadata": {
      "needs_background": "light"
     },
     "output_type": "display_data"
    }
   ],
   "source": [
    "daily_miles['rides_miles'].plot.hist()"
   ]
  },
  {
   "cell_type": "code",
   "execution_count": 118,
   "metadata": {},
   "outputs": [
    {
     "data": {
      "text/plain": [
       "<AxesSubplot:ylabel='Frequency'>"
      ]
     },
     "execution_count": 118,
     "metadata": {},
     "output_type": "execute_result"
    },
    {
     "data": {
      "image/png": "[encoded data removed]",
      "text/plain": [
       "<Figure size 432x288 with 1 Axes>"
      ]
     },
     "metadata": {
      "needs_background": "light"
     },
     "output_type": "display_data"
    }
   ],
   "source": [
    "daily_miles['idle_miles'].plot.hist()"
   ]
  },
  {
   "cell_type": "code",
   "execution_count": 119,
   "metadata": {},
   "outputs": [
    {
     "data": {
      "text/plain": [
       "<AxesSubplot:ylabel='Frequency'>"
      ]
     },
     "execution_count": 119,
     "metadata": {},
     "output_type": "execute_result"
    },
    {
     "data": {
      "image/png": "[encoded data removed]",
      "text/plain": [
       "<Figure size 432x288 with 1 Axes>"
      ]
     },
     "metadata": {
      "needs_background": "light"
     },
     "output_type": "display_data"
    }
   ],
   "source": [
    "(daily_miles['rides_miles']+daily_miles['idle_miles']).plot.hist()"
   ]
  },
  {
   "cell_type": "code",
   "execution_count": 120,
   "metadata": {},
   "outputs": [
    {
     "data": {
      "text/plain": [
       "rides_miles     90.431401\n",
       "idle_miles      69.858595\n",
       "total_miles    159.622381\n",
       "dtype: float64"
      ]
     },
     "execution_count": 120,
     "metadata": {},
     "output_type": "execute_result"
    }
   ],
   "source": [
    "daily_miles.mean()"
   ]
  },
  {
   "cell_type": "code",
   "execution_count": 121,
   "metadata": {},
   "outputs": [
    {
     "data": {
      "text/plain": [
       "(158.35121504429497, 160.8935478710647)"
      ]
     },
     "execution_count": 121,
     "metadata": {},
     "output_type": "execute_result"
    }
   ],
   "source": [
    "#create 99% confidence interval for population total miles\n",
    "stats.t.interval(alpha=0.99, df=len(daily_miles['total_miles'])-1, loc=np.mean(daily_miles['total_miles']), scale=stats.sem(daily_miles['total_miles']))"
   ]
  },
  {
   "cell_type": "code",
   "execution_count": 122,
   "metadata": {},
   "outputs": [
    {
     "data": {
      "text/plain": [
       "(69.24505924390381, 70.47213025979069)"
      ]
     },
     "execution_count": 122,
     "metadata": {},
     "output_type": "execute_result"
    }
   ],
   "source": [
    "#create 99% confidence interval for population rides miles\n",
    "stats.t.interval(alpha=0.99, df=len(daily_miles['idle_miles'])-1, loc=np.mean(daily_miles['idle_miles']), scale=stats.sem(daily_miles['idle_miles']))"
   ]
  },
  {
   "cell_type": "code",
   "execution_count": 123,
   "metadata": {},
   "outputs": [],
   "source": [
    "alert()"
   ]
  },
  {
   "cell_type": "markdown",
   "metadata": {},
   "source": [
    "## Prediction Model\n",
    "Prediction model data structure: hour of day, day of week, geohash, rides (continuous label)"
   ]
  },
  {
   "cell_type": "code",
   "execution_count": 124,
   "metadata": {},
   "outputs": [],
   "source": [
    "model_df = df_cleansed[['date','hod','dow','geohash','occupancy','duration','cab_id']]"
   ]
  },
  {
   "cell_type": "code",
   "execution_count": 125,
   "metadata": {},
   "outputs": [
    {
     "name": "stderr",
     "output_type": "stream",
     "text": [
      "<ipython-input-125-3c5c6a386f90>:1: SettingWithCopyWarning: \n",
      "A value is trying to be set on a copy of a slice from a DataFrame.\n",
      "Try using .loc[row_indexer,col_indexer] = value instead\n",
      "\n",
      "See the caveats in the documentation: https://pandas.pydata.org/pandas-docs/stable/user_guide/indexing.html#returning-a-view-versus-a-copy\n",
      "  model_df['idle_shifter'] = model_df['occupancy'].astype('str')+model_df['cab_id'].astype('str')+model_df['geohash'].astype('str')\n",
      "<ipython-input-125-3c5c6a386f90>:2: SettingWithCopyWarning: \n",
      "A value is trying to be set on a copy of a slice from a DataFrame.\n",
      "Try using .loc[row_indexer,col_indexer] = value instead\n",
      "\n",
      "See the caveats in the documentation: https://pandas.pydata.org/pandas-docs/stable/user_guide/indexing.html#returning-a-view-versus-a-copy\n",
      "  model_df['rides_shifter'] = model_df['occupancy'].astype('str')+model_df['cab_id'].astype('str')\n"
     ]
    }
   ],
   "source": [
    "model_df['idle_shifter'] = model_df['occupancy'].astype('str')+model_df['cab_id'].astype('str')+model_df['geohash'].astype('str')\n",
    "model_df['rides_shifter'] = model_df['occupancy'].astype('str')+model_df['cab_id'].astype('str')"
   ]
  },
  {
   "cell_type": "code",
   "execution_count": 126,
   "metadata": {},
   "outputs": [
    {
     "data": {
      "text/html": [
       "<div>\n",
       "<style scoped>\n",
       "    .dataframe tbody tr th:only-of-type {\n",
       "        vertical-align: middle;\n",
       "    }\n",
       "\n",
       "    .dataframe tbody tr th {\n",
       "        vertical-align: top;\n",
       "    }\n",
       "\n",
       "    .dataframe thead th {\n",
       "        text-align: right;\n",
       "    }\n",
       "</style>\n",
       "<table border=\"1\" class=\"dataframe\">\n",
       "  <thead>\n",
       "    <tr style=\"text-align: right;\">\n",
       "      <th></th>\n",
       "      <th>date</th>\n",
       "      <th>hod</th>\n",
       "      <th>dow</th>\n",
       "      <th>geohash</th>\n",
       "      <th>occupancy</th>\n",
       "      <th>duration</th>\n",
       "      <th>cab_id</th>\n",
       "      <th>idle_shifter</th>\n",
       "      <th>rides_shifter</th>\n",
       "    </tr>\n",
       "  </thead>\n",
       "  <tbody>\n",
       "    <tr>\n",
       "      <th>11189249</th>\n",
       "      <td>2008-06-09</td>\n",
       "      <td>11</td>\n",
       "      <td>0</td>\n",
       "      <td>9q8ytx</td>\n",
       "      <td>1</td>\n",
       "      <td>0.016111</td>\n",
       "      <td>uvreoipy</td>\n",
       "      <td>1uvreoipy9q8ytx</td>\n",
       "      <td>1uvreoipy</td>\n",
       "    </tr>\n",
       "    <tr>\n",
       "      <th>11189250</th>\n",
       "      <td>2008-06-09</td>\n",
       "      <td>11</td>\n",
       "      <td>0</td>\n",
       "      <td>9q8yv8</td>\n",
       "      <td>1</td>\n",
       "      <td>0.015833</td>\n",
       "      <td>uvreoipy</td>\n",
       "      <td>1uvreoipy9q8yv8</td>\n",
       "      <td>1uvreoipy</td>\n",
       "    </tr>\n",
       "    <tr>\n",
       "      <th>11189251</th>\n",
       "      <td>2008-06-09</td>\n",
       "      <td>11</td>\n",
       "      <td>0</td>\n",
       "      <td>9q8yvc</td>\n",
       "      <td>1</td>\n",
       "      <td>0.017778</td>\n",
       "      <td>uvreoipy</td>\n",
       "      <td>1uvreoipy9q8yvc</td>\n",
       "      <td>1uvreoipy</td>\n",
       "    </tr>\n",
       "    <tr>\n",
       "      <th>11189252</th>\n",
       "      <td>2008-06-09</td>\n",
       "      <td>11</td>\n",
       "      <td>0</td>\n",
       "      <td>9q8yvf</td>\n",
       "      <td>1</td>\n",
       "      <td>0.015556</td>\n",
       "      <td>uvreoipy</td>\n",
       "      <td>1uvreoipy9q8yvf</td>\n",
       "      <td>1uvreoipy</td>\n",
       "    </tr>\n",
       "    <tr>\n",
       "      <th>11189253</th>\n",
       "      <td>2008-06-09</td>\n",
       "      <td>11</td>\n",
       "      <td>0</td>\n",
       "      <td>9q8yvf</td>\n",
       "      <td>1</td>\n",
       "      <td>0.016944</td>\n",
       "      <td>uvreoipy</td>\n",
       "      <td>1uvreoipy9q8yvf</td>\n",
       "      <td>1uvreoipy</td>\n",
       "    </tr>\n",
       "  </tbody>\n",
       "</table>\n",
       "</div>"
      ],
      "text/plain": [
       "                date  hod  dow geohash  occupancy  duration    cab_id  \\\n",
       "11189249  2008-06-09   11    0  9q8ytx          1  0.016111  uvreoipy   \n",
       "11189250  2008-06-09   11    0  9q8yv8          1  0.015833  uvreoipy   \n",
       "11189251  2008-06-09   11    0  9q8yvc          1  0.017778  uvreoipy   \n",
       "11189252  2008-06-09   11    0  9q8yvf          1  0.015556  uvreoipy   \n",
       "11189253  2008-06-09   11    0  9q8yvf          1  0.016944  uvreoipy   \n",
       "\n",
       "             idle_shifter rides_shifter  \n",
       "11189249  1uvreoipy9q8ytx     1uvreoipy  \n",
       "11189250  1uvreoipy9q8yv8     1uvreoipy  \n",
       "11189251  1uvreoipy9q8yvc     1uvreoipy  \n",
       "11189252  1uvreoipy9q8yvf     1uvreoipy  \n",
       "11189253  1uvreoipy9q8yvf     1uvreoipy  "
      ]
     },
     "execution_count": 126,
     "metadata": {},
     "output_type": "execute_result"
    }
   ],
   "source": [
    "model_df.tail()"
   ]
  },
  {
   "cell_type": "code",
   "execution_count": 127,
   "metadata": {},
   "outputs": [],
   "source": [
    "model_df_rides = model_df.groupby((model_df['rides_shifter']!=model_df['rides_shifter'].shift()).cumsum()).first().reset_index(drop=True)\n",
    "model_df_rides = model_df_rides[['hod','dow','geohash','occupancy']][model_df_rides['occupancy']==1].reset_index(drop=True)\n",
    "# model_df_rides = model_df_rides.groupby(['hod','dow','geohash']).sum('occupancy').reset_index()"
   ]
  },
  {
   "cell_type": "code",
   "execution_count": 128,
   "metadata": {},
   "outputs": [
    {
     "data": {
      "text/html": [
       "<div>\n",
       "<style scoped>\n",
       "    .dataframe tbody tr th:only-of-type {\n",
       "        vertical-align: middle;\n",
       "    }\n",
       "\n",
       "    .dataframe tbody tr th {\n",
       "        vertical-align: top;\n",
       "    }\n",
       "\n",
       "    .dataframe thead th {\n",
       "        text-align: right;\n",
       "    }\n",
       "</style>\n",
       "<table border=\"1\" class=\"dataframe\">\n",
       "  <thead>\n",
       "    <tr style=\"text-align: right;\">\n",
       "      <th></th>\n",
       "      <th>hod</th>\n",
       "      <th>dow</th>\n",
       "      <th>geohash</th>\n",
       "      <th>occupancy</th>\n",
       "    </tr>\n",
       "  </thead>\n",
       "  <tbody>\n",
       "    <tr>\n",
       "      <th>0</th>\n",
       "      <td>7</td>\n",
       "      <td>5</td>\n",
       "      <td>9q8yyb</td>\n",
       "      <td>1</td>\n",
       "    </tr>\n",
       "    <tr>\n",
       "      <th>1</th>\n",
       "      <td>8</td>\n",
       "      <td>5</td>\n",
       "      <td>9q8yy0</td>\n",
       "      <td>1</td>\n",
       "    </tr>\n",
       "    <tr>\n",
       "      <th>2</th>\n",
       "      <td>8</td>\n",
       "      <td>5</td>\n",
       "      <td>9q8yyk</td>\n",
       "      <td>1</td>\n",
       "    </tr>\n",
       "    <tr>\n",
       "      <th>3</th>\n",
       "      <td>8</td>\n",
       "      <td>5</td>\n",
       "      <td>9q8yyk</td>\n",
       "      <td>1</td>\n",
       "    </tr>\n",
       "    <tr>\n",
       "      <th>4</th>\n",
       "      <td>9</td>\n",
       "      <td>5</td>\n",
       "      <td>9q8yy2</td>\n",
       "      <td>1</td>\n",
       "    </tr>\n",
       "  </tbody>\n",
       "</table>\n",
       "</div>"
      ],
      "text/plain": [
       "   hod  dow geohash  occupancy\n",
       "0    7    5  9q8yyb          1\n",
       "1    8    5  9q8yy0          1\n",
       "2    8    5  9q8yyk          1\n",
       "3    8    5  9q8yyk          1\n",
       "4    9    5  9q8yy2          1"
      ]
     },
     "execution_count": 128,
     "metadata": {},
     "output_type": "execute_result"
    }
   ],
   "source": [
    "model_df_rides.head()"
   ]
  },
  {
   "cell_type": "code",
   "execution_count": 129,
   "metadata": {},
   "outputs": [
    {
     "data": {
      "text/html": [
       "<div>\n",
       "<style scoped>\n",
       "    .dataframe tbody tr th:only-of-type {\n",
       "        vertical-align: middle;\n",
       "    }\n",
       "\n",
       "    .dataframe tbody tr th {\n",
       "        vertical-align: top;\n",
       "    }\n",
       "\n",
       "    .dataframe thead th {\n",
       "        text-align: right;\n",
       "    }\n",
       "</style>\n",
       "<table border=\"1\" class=\"dataframe\">\n",
       "  <thead>\n",
       "    <tr style=\"text-align: right;\">\n",
       "      <th></th>\n",
       "      <th>hod</th>\n",
       "      <th>dow</th>\n",
       "      <th>occupancy</th>\n",
       "    </tr>\n",
       "  </thead>\n",
       "  <tbody>\n",
       "    <tr>\n",
       "      <th>count</th>\n",
       "      <td>458794.000000</td>\n",
       "      <td>458794.000000</td>\n",
       "      <td>458794.0</td>\n",
       "    </tr>\n",
       "    <tr>\n",
       "      <th>mean</th>\n",
       "      <td>13.464505</td>\n",
       "      <td>3.354717</td>\n",
       "      <td>1.0</td>\n",
       "    </tr>\n",
       "    <tr>\n",
       "      <th>std</th>\n",
       "      <td>6.994589</td>\n",
       "      <td>2.028128</td>\n",
       "      <td>0.0</td>\n",
       "    </tr>\n",
       "    <tr>\n",
       "      <th>min</th>\n",
       "      <td>0.000000</td>\n",
       "      <td>0.000000</td>\n",
       "      <td>1.0</td>\n",
       "    </tr>\n",
       "    <tr>\n",
       "      <th>25%</th>\n",
       "      <td>9.000000</td>\n",
       "      <td>2.000000</td>\n",
       "      <td>1.0</td>\n",
       "    </tr>\n",
       "    <tr>\n",
       "      <th>50%</th>\n",
       "      <td>14.000000</td>\n",
       "      <td>4.000000</td>\n",
       "      <td>1.0</td>\n",
       "    </tr>\n",
       "    <tr>\n",
       "      <th>75%</th>\n",
       "      <td>20.000000</td>\n",
       "      <td>5.000000</td>\n",
       "      <td>1.0</td>\n",
       "    </tr>\n",
       "    <tr>\n",
       "      <th>max</th>\n",
       "      <td>23.000000</td>\n",
       "      <td>6.000000</td>\n",
       "      <td>1.0</td>\n",
       "    </tr>\n",
       "  </tbody>\n",
       "</table>\n",
       "</div>"
      ],
      "text/plain": [
       "                 hod            dow  occupancy\n",
       "count  458794.000000  458794.000000   458794.0\n",
       "mean       13.464505       3.354717        1.0\n",
       "std         6.994589       2.028128        0.0\n",
       "min         0.000000       0.000000        1.0\n",
       "25%         9.000000       2.000000        1.0\n",
       "50%        14.000000       4.000000        1.0\n",
       "75%        20.000000       5.000000        1.0\n",
       "max        23.000000       6.000000        1.0"
      ]
     },
     "execution_count": 129,
     "metadata": {},
     "output_type": "execute_result"
    }
   ],
   "source": [
    "model_df_rides.describe()"
   ]
  },
  {
   "cell_type": "code",
   "execution_count": 130,
   "metadata": {},
   "outputs": [],
   "source": [
    "model_df_idle = model_df.groupby((model_df['idle_shifter']!=model_df['idle_shifter'].shift()).cumsum()).first().reset_index(drop=True)\n",
    "model_df_idle = model_df_idle[['hod','dow','geohash','occupancy']][model_df_idle['occupancy']==0].reset_index(drop=True)"
   ]
  },
  {
   "cell_type": "code",
   "execution_count": 131,
   "metadata": {},
   "outputs": [],
   "source": [
    "# model_df_idle = model_df[model_df['occupancy']==0].groupby(['hod','dow','geohash','cab_id','occupancy']).sum('duration').reset_index()\n",
    "# # model_df_idle = model_df_idle.groupby(['hod','dow','geohash','cab_id','occupancy'], sort=False)['duration'].max().reset_index()\n",
    "# model_df_idle = model_df_idle.groupby(['hod','dow','geohash','occupancy'], sort=False)['duration'].max().reset_index()\n",
    "# model_df_idle = model_df_idle[['hod','dow','geohash','occupancy']]"
   ]
  },
  {
   "cell_type": "code",
   "execution_count": 132,
   "metadata": {},
   "outputs": [
    {
     "data": {
      "text/html": [
       "<div>\n",
       "<style scoped>\n",
       "    .dataframe tbody tr th:only-of-type {\n",
       "        vertical-align: middle;\n",
       "    }\n",
       "\n",
       "    .dataframe tbody tr th {\n",
       "        vertical-align: top;\n",
       "    }\n",
       "\n",
       "    .dataframe thead th {\n",
       "        text-align: right;\n",
       "    }\n",
       "</style>\n",
       "<table border=\"1\" class=\"dataframe\">\n",
       "  <thead>\n",
       "    <tr style=\"text-align: right;\">\n",
       "      <th></th>\n",
       "      <th>hod</th>\n",
       "      <th>dow</th>\n",
       "      <th>geohash</th>\n",
       "      <th>occupancy</th>\n",
       "    </tr>\n",
       "  </thead>\n",
       "  <tbody>\n",
       "    <tr>\n",
       "      <th>2148804</th>\n",
       "      <td>10</td>\n",
       "      <td>0</td>\n",
       "      <td>9q8yvc</td>\n",
       "      <td>0</td>\n",
       "    </tr>\n",
       "    <tr>\n",
       "      <th>2148805</th>\n",
       "      <td>10</td>\n",
       "      <td>0</td>\n",
       "      <td>9q8yvf</td>\n",
       "      <td>0</td>\n",
       "    </tr>\n",
       "    <tr>\n",
       "      <th>2148806</th>\n",
       "      <td>11</td>\n",
       "      <td>0</td>\n",
       "      <td>9q8yvc</td>\n",
       "      <td>0</td>\n",
       "    </tr>\n",
       "    <tr>\n",
       "      <th>2148807</th>\n",
       "      <td>11</td>\n",
       "      <td>0</td>\n",
       "      <td>9q8yv8</td>\n",
       "      <td>0</td>\n",
       "    </tr>\n",
       "    <tr>\n",
       "      <th>2148808</th>\n",
       "      <td>11</td>\n",
       "      <td>0</td>\n",
       "      <td>9q8ytx</td>\n",
       "      <td>0</td>\n",
       "    </tr>\n",
       "  </tbody>\n",
       "</table>\n",
       "</div>"
      ],
      "text/plain": [
       "         hod  dow geohash  occupancy\n",
       "2148804   10    0  9q8yvc          0\n",
       "2148805   10    0  9q8yvf          0\n",
       "2148806   11    0  9q8yvc          0\n",
       "2148807   11    0  9q8yv8          0\n",
       "2148808   11    0  9q8ytx          0"
      ]
     },
     "execution_count": 132,
     "metadata": {},
     "output_type": "execute_result"
    }
   ],
   "source": [
    "model_df_idle.tail()"
   ]
  },
  {
   "cell_type": "code",
   "execution_count": 133,
   "metadata": {},
   "outputs": [
    {
     "data": {
      "text/html": [
       "<div>\n",
       "<style scoped>\n",
       "    .dataframe tbody tr th:only-of-type {\n",
       "        vertical-align: middle;\n",
       "    }\n",
       "\n",
       "    .dataframe tbody tr th {\n",
       "        vertical-align: top;\n",
       "    }\n",
       "\n",
       "    .dataframe thead th {\n",
       "        text-align: right;\n",
       "    }\n",
       "</style>\n",
       "<table border=\"1\" class=\"dataframe\">\n",
       "  <thead>\n",
       "    <tr style=\"text-align: right;\">\n",
       "      <th></th>\n",
       "      <th>hod</th>\n",
       "      <th>dow</th>\n",
       "      <th>occupancy</th>\n",
       "    </tr>\n",
       "  </thead>\n",
       "  <tbody>\n",
       "    <tr>\n",
       "      <th>count</th>\n",
       "      <td>2.148809e+06</td>\n",
       "      <td>2.148809e+06</td>\n",
       "      <td>2148809.0</td>\n",
       "    </tr>\n",
       "    <tr>\n",
       "      <th>mean</th>\n",
       "      <td>1.203736e+01</td>\n",
       "      <td>3.120670e+00</td>\n",
       "      <td>0.0</td>\n",
       "    </tr>\n",
       "    <tr>\n",
       "      <th>std</th>\n",
       "      <td>7.005726e+00</td>\n",
       "      <td>2.061690e+00</td>\n",
       "      <td>0.0</td>\n",
       "    </tr>\n",
       "    <tr>\n",
       "      <th>min</th>\n",
       "      <td>0.000000e+00</td>\n",
       "      <td>0.000000e+00</td>\n",
       "      <td>0.0</td>\n",
       "    </tr>\n",
       "    <tr>\n",
       "      <th>25%</th>\n",
       "      <td>6.000000e+00</td>\n",
       "      <td>1.000000e+00</td>\n",
       "      <td>0.0</td>\n",
       "    </tr>\n",
       "    <tr>\n",
       "      <th>50%</th>\n",
       "      <td>1.200000e+01</td>\n",
       "      <td>3.000000e+00</td>\n",
       "      <td>0.0</td>\n",
       "    </tr>\n",
       "    <tr>\n",
       "      <th>75%</th>\n",
       "      <td>1.800000e+01</td>\n",
       "      <td>5.000000e+00</td>\n",
       "      <td>0.0</td>\n",
       "    </tr>\n",
       "    <tr>\n",
       "      <th>max</th>\n",
       "      <td>2.300000e+01</td>\n",
       "      <td>6.000000e+00</td>\n",
       "      <td>0.0</td>\n",
       "    </tr>\n",
       "  </tbody>\n",
       "</table>\n",
       "</div>"
      ],
      "text/plain": [
       "                hod           dow  occupancy\n",
       "count  2.148809e+06  2.148809e+06  2148809.0\n",
       "mean   1.203736e+01  3.120670e+00        0.0\n",
       "std    7.005726e+00  2.061690e+00        0.0\n",
       "min    0.000000e+00  0.000000e+00        0.0\n",
       "25%    6.000000e+00  1.000000e+00        0.0\n",
       "50%    1.200000e+01  3.000000e+00        0.0\n",
       "75%    1.800000e+01  5.000000e+00        0.0\n",
       "max    2.300000e+01  6.000000e+00        0.0"
      ]
     },
     "execution_count": 133,
     "metadata": {},
     "output_type": "execute_result"
    }
   ],
   "source": [
    "model_df_idle.describe()"
   ]
  },
  {
   "cell_type": "code",
   "execution_count": 134,
   "metadata": {},
   "outputs": [],
   "source": [
    "# model_df = model_df.groupby((model_df['rides_shifter']!=model_df['rides_shifter'].shift()).cumsum()).first().reset_index(drop=True)\n",
    "model_df_final = model_df_rides.append(model_df_idle).sample(frac=1).reset_index(drop=True)\n",
    "#making geohash numerical categories\n",
    "model_df_final['geohash_cat'] = pd.Categorical(model_df_final['geohash'])\n",
    "model_df_final['geohash_cat'] = model_df_final['geohash_cat'].cat.codes"
   ]
  },
  {
   "cell_type": "code",
   "execution_count": 135,
   "metadata": {},
   "outputs": [
    {
     "data": {
      "text/html": [
       "<div>\n",
       "<style scoped>\n",
       "    .dataframe tbody tr th:only-of-type {\n",
       "        vertical-align: middle;\n",
       "    }\n",
       "\n",
       "    .dataframe tbody tr th {\n",
       "        vertical-align: top;\n",
       "    }\n",
       "\n",
       "    .dataframe thead th {\n",
       "        text-align: right;\n",
       "    }\n",
       "</style>\n",
       "<table border=\"1\" class=\"dataframe\">\n",
       "  <thead>\n",
       "    <tr style=\"text-align: right;\">\n",
       "      <th></th>\n",
       "      <th>hod</th>\n",
       "      <th>dow</th>\n",
       "      <th>geohash</th>\n",
       "      <th>occupancy</th>\n",
       "      <th>geohash_cat</th>\n",
       "    </tr>\n",
       "  </thead>\n",
       "  <tbody>\n",
       "    <tr>\n",
       "      <th>2607583</th>\n",
       "      <td>19</td>\n",
       "      <td>5</td>\n",
       "      <td>9q8zn3</td>\n",
       "      <td>0</td>\n",
       "      <td>548</td>\n",
       "    </tr>\n",
       "    <tr>\n",
       "      <th>2607584</th>\n",
       "      <td>20</td>\n",
       "      <td>6</td>\n",
       "      <td>9q8zn0</td>\n",
       "      <td>1</td>\n",
       "      <td>545</td>\n",
       "    </tr>\n",
       "    <tr>\n",
       "      <th>2607585</th>\n",
       "      <td>4</td>\n",
       "      <td>0</td>\n",
       "      <td>9q8yy5</td>\n",
       "      <td>1</td>\n",
       "      <td>456</td>\n",
       "    </tr>\n",
       "    <tr>\n",
       "      <th>2607586</th>\n",
       "      <td>15</td>\n",
       "      <td>6</td>\n",
       "      <td>9q8yvf</td>\n",
       "      <td>1</td>\n",
       "      <td>388</td>\n",
       "    </tr>\n",
       "    <tr>\n",
       "      <th>2607587</th>\n",
       "      <td>15</td>\n",
       "      <td>0</td>\n",
       "      <td>9q8yyb</td>\n",
       "      <td>0</td>\n",
       "      <td>461</td>\n",
       "    </tr>\n",
       "    <tr>\n",
       "      <th>2607588</th>\n",
       "      <td>15</td>\n",
       "      <td>5</td>\n",
       "      <td>9q8yyw</td>\n",
       "      <td>0</td>\n",
       "      <td>479</td>\n",
       "    </tr>\n",
       "    <tr>\n",
       "      <th>2607589</th>\n",
       "      <td>4</td>\n",
       "      <td>6</td>\n",
       "      <td>9q8yyr</td>\n",
       "      <td>0</td>\n",
       "      <td>474</td>\n",
       "    </tr>\n",
       "    <tr>\n",
       "      <th>2607590</th>\n",
       "      <td>17</td>\n",
       "      <td>5</td>\n",
       "      <td>9q8yye</td>\n",
       "      <td>0</td>\n",
       "      <td>464</td>\n",
       "    </tr>\n",
       "    <tr>\n",
       "      <th>2607591</th>\n",
       "      <td>10</td>\n",
       "      <td>5</td>\n",
       "      <td>9q8zjc</td>\n",
       "      <td>0</td>\n",
       "      <td>512</td>\n",
       "    </tr>\n",
       "    <tr>\n",
       "      <th>2607592</th>\n",
       "      <td>14</td>\n",
       "      <td>5</td>\n",
       "      <td>9q8yyr</td>\n",
       "      <td>0</td>\n",
       "      <td>474</td>\n",
       "    </tr>\n",
       "    <tr>\n",
       "      <th>2607593</th>\n",
       "      <td>17</td>\n",
       "      <td>1</td>\n",
       "      <td>9q8yyh</td>\n",
       "      <td>0</td>\n",
       "      <td>467</td>\n",
       "    </tr>\n",
       "    <tr>\n",
       "      <th>2607594</th>\n",
       "      <td>4</td>\n",
       "      <td>1</td>\n",
       "      <td>9q8yy8</td>\n",
       "      <td>0</td>\n",
       "      <td>459</td>\n",
       "    </tr>\n",
       "    <tr>\n",
       "      <th>2607595</th>\n",
       "      <td>23</td>\n",
       "      <td>3</td>\n",
       "      <td>9q8yvf</td>\n",
       "      <td>0</td>\n",
       "      <td>388</td>\n",
       "    </tr>\n",
       "    <tr>\n",
       "      <th>2607596</th>\n",
       "      <td>12</td>\n",
       "      <td>2</td>\n",
       "      <td>9q8yyv</td>\n",
       "      <td>0</td>\n",
       "      <td>478</td>\n",
       "    </tr>\n",
       "    <tr>\n",
       "      <th>2607597</th>\n",
       "      <td>10</td>\n",
       "      <td>5</td>\n",
       "      <td>9q8yyw</td>\n",
       "      <td>1</td>\n",
       "      <td>479</td>\n",
       "    </tr>\n",
       "    <tr>\n",
       "      <th>2607598</th>\n",
       "      <td>8</td>\n",
       "      <td>1</td>\n",
       "      <td>9q8yyk</td>\n",
       "      <td>0</td>\n",
       "      <td>469</td>\n",
       "    </tr>\n",
       "    <tr>\n",
       "      <th>2607599</th>\n",
       "      <td>2</td>\n",
       "      <td>6</td>\n",
       "      <td>9q8yvd</td>\n",
       "      <td>0</td>\n",
       "      <td>386</td>\n",
       "    </tr>\n",
       "    <tr>\n",
       "      <th>2607600</th>\n",
       "      <td>2</td>\n",
       "      <td>5</td>\n",
       "      <td>9q8zjb</td>\n",
       "      <td>0</td>\n",
       "      <td>511</td>\n",
       "    </tr>\n",
       "    <tr>\n",
       "      <th>2607601</th>\n",
       "      <td>2</td>\n",
       "      <td>0</td>\n",
       "      <td>9q8yy6</td>\n",
       "      <td>0</td>\n",
       "      <td>457</td>\n",
       "    </tr>\n",
       "    <tr>\n",
       "      <th>2607602</th>\n",
       "      <td>10</td>\n",
       "      <td>4</td>\n",
       "      <td>9q8yyr</td>\n",
       "      <td>1</td>\n",
       "      <td>474</td>\n",
       "    </tr>\n",
       "  </tbody>\n",
       "</table>\n",
       "</div>"
      ],
      "text/plain": [
       "         hod  dow geohash  occupancy  geohash_cat\n",
       "2607583   19    5  9q8zn3          0          548\n",
       "2607584   20    6  9q8zn0          1          545\n",
       "2607585    4    0  9q8yy5          1          456\n",
       "2607586   15    6  9q8yvf          1          388\n",
       "2607587   15    0  9q8yyb          0          461\n",
       "2607588   15    5  9q8yyw          0          479\n",
       "2607589    4    6  9q8yyr          0          474\n",
       "2607590   17    5  9q8yye          0          464\n",
       "2607591   10    5  9q8zjc          0          512\n",
       "2607592   14    5  9q8yyr          0          474\n",
       "2607593   17    1  9q8yyh          0          467\n",
       "2607594    4    1  9q8yy8          0          459\n",
       "2607595   23    3  9q8yvf          0          388\n",
       "2607596   12    2  9q8yyv          0          478\n",
       "2607597   10    5  9q8yyw          1          479\n",
       "2607598    8    1  9q8yyk          0          469\n",
       "2607599    2    6  9q8yvd          0          386\n",
       "2607600    2    5  9q8zjb          0          511\n",
       "2607601    2    0  9q8yy6          0          457\n",
       "2607602   10    4  9q8yyr          1          474"
      ]
     },
     "execution_count": 135,
     "metadata": {},
     "output_type": "execute_result"
    }
   ],
   "source": [
    "model_df_final.tail(20)"
   ]
  },
  {
   "cell_type": "code",
   "execution_count": 136,
   "metadata": {
    "scrolled": true
   },
   "outputs": [
    {
     "name": "stdout",
     "output_type": "stream",
     "text": [
      "Counter({0: 2148809, 1: 458794})\n"
     ]
    }
   ],
   "source": [
    "from collections import Counter\n",
    "print(Counter(model_df_final['occupancy']))"
   ]
  },
  {
   "cell_type": "code",
   "execution_count": 137,
   "metadata": {},
   "outputs": [],
   "source": [
    "#we have imbalanced data. Let's undersample the idles\n",
    "from imblearn.under_sampling import RandomUnderSampler"
   ]
  },
  {
   "cell_type": "code",
   "execution_count": 138,
   "metadata": {},
   "outputs": [],
   "source": [
    "undersample = RandomUnderSampler(sampling_strategy = 'majority')"
   ]
  },
  {
   "cell_type": "code",
   "execution_count": 139,
   "metadata": {},
   "outputs": [],
   "source": [
    "x_under, y_under = undersample.fit_resample(model_df_final[['hod','dow','geohash_cat']],model_df_final['occupancy'])"
   ]
  },
  {
   "cell_type": "code",
   "execution_count": 140,
   "metadata": {},
   "outputs": [
    {
     "name": "stdout",
     "output_type": "stream",
     "text": [
      "Counter({0: 458794, 1: 458794})\n"
     ]
    }
   ],
   "source": [
    "print(Counter(y_under))"
   ]
  },
  {
   "cell_type": "code",
   "execution_count": 157,
   "metadata": {},
   "outputs": [],
   "source": [
    "train_samples = x_under\n",
    "# train_samples = np.array(train_samples)\n",
    "train_labels = y_under\n",
    "# train_labels = np.array(train_labels)"
   ]
  },
  {
   "cell_type": "code",
   "execution_count": 158,
   "metadata": {},
   "outputs": [],
   "source": [
    "from sklearn.naive_bayes import CategoricalNB\n",
    "from sklearn.linear_model import LogisticRegression\n",
    "from sklearn.linear_model import LinearRegression\n",
    "from sklearn.model_selection import train_test_split"
   ]
  },
  {
   "cell_type": "code",
   "execution_count": 159,
   "metadata": {},
   "outputs": [
    {
     "data": {
      "text/html": [
       "<div>\n",
       "<style scoped>\n",
       "    .dataframe tbody tr th:only-of-type {\n",
       "        vertical-align: middle;\n",
       "    }\n",
       "\n",
       "    .dataframe tbody tr th {\n",
       "        vertical-align: top;\n",
       "    }\n",
       "\n",
       "    .dataframe thead th {\n",
       "        text-align: right;\n",
       "    }\n",
       "</style>\n",
       "<table border=\"1\" class=\"dataframe\">\n",
       "  <thead>\n",
       "    <tr style=\"text-align: right;\">\n",
       "      <th></th>\n",
       "      <th>hod</th>\n",
       "      <th>dow</th>\n",
       "      <th>geohash_cat</th>\n",
       "    </tr>\n",
       "  </thead>\n",
       "  <tbody>\n",
       "    <tr>\n",
       "      <th>219508</th>\n",
       "      <td>21</td>\n",
       "      <td>2</td>\n",
       "      <td>424</td>\n",
       "    </tr>\n",
       "    <tr>\n",
       "      <th>60563</th>\n",
       "      <td>20</td>\n",
       "      <td>3</td>\n",
       "      <td>550</td>\n",
       "    </tr>\n",
       "    <tr>\n",
       "      <th>311938</th>\n",
       "      <td>18</td>\n",
       "      <td>6</td>\n",
       "      <td>470</td>\n",
       "    </tr>\n",
       "    <tr>\n",
       "      <th>856561</th>\n",
       "      <td>11</td>\n",
       "      <td>2</td>\n",
       "      <td>554</td>\n",
       "    </tr>\n",
       "    <tr>\n",
       "      <th>358048</th>\n",
       "      <td>18</td>\n",
       "      <td>4</td>\n",
       "      <td>451</td>\n",
       "    </tr>\n",
       "    <tr>\n",
       "      <th>...</th>\n",
       "      <td>...</td>\n",
       "      <td>...</td>\n",
       "      <td>...</td>\n",
       "    </tr>\n",
       "    <tr>\n",
       "      <th>284699</th>\n",
       "      <td>23</td>\n",
       "      <td>2</td>\n",
       "      <td>511</td>\n",
       "    </tr>\n",
       "    <tr>\n",
       "      <th>819070</th>\n",
       "      <td>17</td>\n",
       "      <td>6</td>\n",
       "      <td>479</td>\n",
       "    </tr>\n",
       "    <tr>\n",
       "      <th>722469</th>\n",
       "      <td>17</td>\n",
       "      <td>4</td>\n",
       "      <td>480</td>\n",
       "    </tr>\n",
       "    <tr>\n",
       "      <th>598460</th>\n",
       "      <td>19</td>\n",
       "      <td>3</td>\n",
       "      <td>482</td>\n",
       "    </tr>\n",
       "    <tr>\n",
       "      <th>74302</th>\n",
       "      <td>2</td>\n",
       "      <td>5</td>\n",
       "      <td>400</td>\n",
       "    </tr>\n",
       "  </tbody>\n",
       "</table>\n",
       "<p>734070 rows × 3 columns</p>\n",
       "</div>"
      ],
      "text/plain": [
       "        hod  dow  geohash_cat\n",
       "219508   21    2          424\n",
       "60563    20    3          550\n",
       "311938   18    6          470\n",
       "856561   11    2          554\n",
       "358048   18    4          451\n",
       "...     ...  ...          ...\n",
       "284699   23    2          511\n",
       "819070   17    6          479\n",
       "722469   17    4          480\n",
       "598460   19    3          482\n",
       "74302     2    5          400\n",
       "\n",
       "[734070 rows x 3 columns]"
      ]
     },
     "execution_count": 159,
     "metadata": {},
     "output_type": "execute_result"
    }
   ],
   "source": [
    "x_train, x_test, y_train, y_test = train_test_split(train_samples,train_labels,test_size =0.2)\n",
    "x_train"
   ]
  },
  {
   "cell_type": "code",
   "execution_count": 160,
   "metadata": {},
   "outputs": [],
   "source": [
    "model_nb = CategoricalNB()"
   ]
  },
  {
   "cell_type": "code",
   "execution_count": 161,
   "metadata": {},
   "outputs": [
    {
     "name": "stdout",
     "output_type": "stream",
     "text": [
      "Wall time: 165 ms\n"
     ]
    },
    {
     "data": {
      "text/plain": [
       "CategoricalNB()"
      ]
     },
     "execution_count": 161,
     "metadata": {},
     "output_type": "execute_result"
    }
   ],
   "source": [
    "%%time\n",
    "model_nb.fit(x_train, y_train)"
   ]
  },
  {
   "cell_type": "code",
   "execution_count": 162,
   "metadata": {},
   "outputs": [
    {
     "name": "stdout",
     "output_type": "stream",
     "text": [
      "[1 1 1 ... 0 1 1]\n",
      "0.6233012565524908\n",
      "Wall time: 46.8 ms\n"
     ]
    }
   ],
   "source": [
    "%%time\n",
    "y_pred_nb = model_nb.predict(x_test)\n",
    "print(y_pred_nb)\n",
    "print(model_nb.score(x_test,y_test))"
   ]
  },
  {
   "cell_type": "code",
   "execution_count": 163,
   "metadata": {},
   "outputs": [],
   "source": [
    "model_lr = LogisticRegression()"
   ]
  },
  {
   "cell_type": "code",
   "execution_count": 164,
   "metadata": {},
   "outputs": [
    {
     "name": "stdout",
     "output_type": "stream",
     "text": [
      "Wall time: 1.95 s\n"
     ]
    },
    {
     "data": {
      "text/plain": [
       "LogisticRegression()"
      ]
     },
     "execution_count": 164,
     "metadata": {},
     "output_type": "execute_result"
    }
   ],
   "source": [
    "%%time\n",
    "model_lr.fit(x_train, y_train)"
   ]
  },
  {
   "cell_type": "code",
   "execution_count": 165,
   "metadata": {},
   "outputs": [
    {
     "name": "stdout",
     "output_type": "stream",
     "text": [
      "[1 1 1 ... 0 1 1]\n",
      "0.5463006353600192\n",
      "Wall time: 26.9 ms\n"
     ]
    }
   ],
   "source": [
    "%%time\n",
    "y_pred_lr = model_lr.predict(x_test)\n",
    "print(y_pred_lr)\n",
    "print(model_lr.score(x_test,y_test))"
   ]
  },
  {
   "cell_type": "code",
   "execution_count": 166,
   "metadata": {},
   "outputs": [],
   "source": [
    "from sklearn import metrics\n",
    "from sklearn.metrics import confusion_matrix, ConfusionMatrixDisplay\n",
    "import matplotlib.pyplot as plt"
   ]
  },
  {
   "cell_type": "code",
   "execution_count": 167,
   "metadata": {},
   "outputs": [
    {
     "data": {
      "image/png": "[encoded data removed]",
      "text/plain": [
       "<Figure size 432x288 with 2 Axes>"
      ]
     },
     "metadata": {
      "needs_background": "light"
     },
     "output_type": "display_data"
    }
   ],
   "source": [
    "cm_nb = confusion_matrix(y_test,y_pred_nb)\n",
    "cm_disp = ConfusionMatrixDisplay(confusion_matrix = cm_nb,\n",
    "                                 display_labels=model_nb.classes_)\n",
    "cm_disp.plot()\n",
    "plt.show()"
   ]
  },
  {
   "cell_type": "code",
   "execution_count": 168,
   "metadata": {},
   "outputs": [
    {
     "name": "stdout",
     "output_type": "stream",
     "text": [
      "TP: 67359 TN: 47028 FP: 44567 FN: 24564\n",
      "Accuracy: 0.6233012565524908\n",
      "Recall: 0.732776345419536\n",
      "Specificity: 0.5134341394180905\n"
     ]
    }
   ],
   "source": [
    "TP = cm_nb[1, 1]\n",
    "TN = cm_nb[0, 0]\n",
    "FP = cm_nb[0, 1]\n",
    "FN = cm_nb[1, 0]\n",
    "print(\"TP: \"+str(TP)+\" TN: \"+str(TN)+\" FP: \"+str(FP)+\" FN: \"+str(FN))\n",
    "print(\"Accuracy: \"+str(metrics.accuracy_score(y_test,y_pred_nb)))\n",
    "print(\"Recall: \"+str(metrics.recall_score(y_test,y_pred_nb)))\n",
    "print(\"Specificity: \"+str(TN/(TN+FP)))"
   ]
  },
  {
   "cell_type": "code",
   "execution_count": 169,
   "metadata": {},
   "outputs": [
    {
     "data": {
      "image/png": "[encoded data removed]",
      "text/plain": [
       "<Figure size 432x288 with 2 Axes>"
      ]
     },
     "metadata": {
      "needs_background": "light"
     },
     "output_type": "display_data"
    }
   ],
   "source": [
    "cm_lr = confusion_matrix(y_test,y_pred_lr)\n",
    "cm_disp = ConfusionMatrixDisplay(confusion_matrix = cm_lr,\n",
    "                                 display_labels=model_lr.classes_)\n",
    "cm_disp.plot()\n",
    "plt.show()"
   ]
  },
  {
   "cell_type": "code",
   "execution_count": 170,
   "metadata": {},
   "outputs": [
    {
     "name": "stdout",
     "output_type": "stream",
     "text": [
      "TP: 51697 TN: 48559 FP: 43036 FN: 40226\n",
      "Accuracy: 0.5463006353600192\n",
      "Recall: 0.5623946128825212\n",
      "Specificity: 0.5301490256018342\n"
     ]
    }
   ],
   "source": [
    "TP = cm_lr[1, 1]\n",
    "TN = cm_lr[0, 0]\n",
    "FP = cm_lr[0, 1]\n",
    "FN = cm_lr[1, 0]\n",
    "print(\"TP: \"+str(TP)+\" TN: \"+str(TN)+\" FP: \"+str(FP)+\" FN: \"+str(FN))\n",
    "print(\"Accuracy: \"+str(metrics.accuracy_score(y_test,y_pred_lr)))\n",
    "print(\"Recall: \"+str(metrics.recall_score(y_test,y_pred_lr)))\n",
    "print(\"Specificity: \"+str(TN/(TN+FP)))"
   ]
  },
  {
   "cell_type": "code",
   "execution_count": 171,
   "metadata": {},
   "outputs": [],
   "source": [
    "alert()"
   ]
  },
  {
   "cell_type": "markdown",
   "metadata": {},
   "source": [
    "## Codes below for problem no 3: clustering cabs\n",
    "The cabs will be clustered by total rides miles vs idle miles"
   ]
  },
  {
   "cell_type": "code",
   "execution_count": 172,
   "metadata": {},
   "outputs": [],
   "source": [
    "from sklearn.cluster import KMeans\n",
    "from sklearn.preprocessing import MinMaxScaler\n",
    "from k_means_constrained import KMeansConstrained"
   ]
  },
  {
   "cell_type": "code",
   "execution_count": 173,
   "metadata": {},
   "outputs": [],
   "source": [
    "cluster_data = cab_rides.append(cab_idles).groupby('cab_id').mean()"
   ]
  },
  {
   "cell_type": "code",
   "execution_count": 174,
   "metadata": {},
   "outputs": [
    {
     "data": {
      "text/html": [
       "<div>\n",
       "<style scoped>\n",
       "    .dataframe tbody tr th:only-of-type {\n",
       "        vertical-align: middle;\n",
       "    }\n",
       "\n",
       "    .dataframe tbody tr th {\n",
       "        vertical-align: top;\n",
       "    }\n",
       "\n",
       "    .dataframe thead th {\n",
       "        text-align: right;\n",
       "    }\n",
       "</style>\n",
       "<table border=\"1\" class=\"dataframe\">\n",
       "  <thead>\n",
       "    <tr style=\"text-align: right;\">\n",
       "      <th></th>\n",
       "      <th>rides_miles</th>\n",
       "      <th>idle_miles</th>\n",
       "    </tr>\n",
       "    <tr>\n",
       "      <th>cab_id</th>\n",
       "      <th></th>\n",
       "      <th></th>\n",
       "    </tr>\n",
       "  </thead>\n",
       "  <tbody>\n",
       "    <tr>\n",
       "      <th>uvburki</th>\n",
       "      <td>84.572329</td>\n",
       "      <td>67.828332</td>\n",
       "    </tr>\n",
       "    <tr>\n",
       "      <th>uvigcho</th>\n",
       "      <td>103.222959</td>\n",
       "      <td>75.913279</td>\n",
       "    </tr>\n",
       "    <tr>\n",
       "      <th>uvjeahot</th>\n",
       "      <td>82.311077</td>\n",
       "      <td>73.248251</td>\n",
       "    </tr>\n",
       "    <tr>\n",
       "      <th>uvjova</th>\n",
       "      <td>74.485996</td>\n",
       "      <td>60.789323</td>\n",
       "    </tr>\n",
       "    <tr>\n",
       "      <th>uvreoipy</th>\n",
       "      <td>86.553048</td>\n",
       "      <td>74.665302</td>\n",
       "    </tr>\n",
       "  </tbody>\n",
       "</table>\n",
       "</div>"
      ],
      "text/plain": [
       "          rides_miles  idle_miles\n",
       "cab_id                           \n",
       "uvburki     84.572329   67.828332\n",
       "uvigcho    103.222959   75.913279\n",
       "uvjeahot    82.311077   73.248251\n",
       "uvjova      74.485996   60.789323\n",
       "uvreoipy    86.553048   74.665302"
      ]
     },
     "execution_count": 174,
     "metadata": {},
     "output_type": "execute_result"
    }
   ],
   "source": [
    "cluster_data.tail()"
   ]
  },
  {
   "cell_type": "code",
   "execution_count": 175,
   "metadata": {},
   "outputs": [
    {
     "data": {
      "text/plain": [
       "<AxesSubplot:xlabel='rides_miles', ylabel='idle_miles'>"
      ]
     },
     "execution_count": 175,
     "metadata": {},
     "output_type": "execute_result"
    },
    {
     "data": {
      "image/png": "[encoded data removed]",
      "text/plain": [
       "<Figure size 432x288 with 1 Axes>"
      ]
     },
     "metadata": {
      "needs_background": "light"
     },
     "output_type": "display_data"
    }
   ],
   "source": [
    "cluster_data.plot.scatter(x='rides_miles',y='idle_miles')"
   ]
  },
  {
   "cell_type": "code",
   "execution_count": 176,
   "metadata": {},
   "outputs": [],
   "source": [
    "import matplotlib.pyplot as plt"
   ]
  },
  {
   "cell_type": "code",
   "execution_count": 177,
   "metadata": {},
   "outputs": [],
   "source": [
    "cluster_array = np.array(cluster_data)"
   ]
  },
  {
   "cell_type": "code",
   "execution_count": 178,
   "metadata": {},
   "outputs": [
    {
     "name": "stdout",
     "output_type": "stream",
     "text": [
      "[[ 81.93266763  63.24774793]\n",
      " [  6.28953653   5.07955327]\n",
      " [104.55233507  91.92900974]\n",
      " ...\n",
      " [ 82.31107723  73.24825141]\n",
      " [ 74.48599628  60.789323  ]\n",
      " [ 86.55304755  74.66530178]]\n"
     ]
    }
   ],
   "source": [
    "print(cluster_array)"
   ]
  },
  {
   "cell_type": "code",
   "execution_count": 179,
   "metadata": {},
   "outputs": [],
   "source": [
    "scaler = MinMaxScaler()"
   ]
  },
  {
   "cell_type": "code",
   "execution_count": 180,
   "metadata": {},
   "outputs": [
    {
     "data": {
      "text/plain": [
       "array([[0.65594365, 0.5950626 ],\n",
       "       [0.04796198, 0.03663522],\n",
       "       [0.83774923, 0.87040899],\n",
       "       ...,\n",
       "       [0.65898512, 0.69106962],\n",
       "       [0.59609103, 0.57146119],\n",
       "       [0.69307996, 0.70467362]])"
      ]
     },
     "execution_count": 180,
     "metadata": {},
     "output_type": "execute_result"
    }
   ],
   "source": [
    "cluster_array_scaled = scaler.fit_transform(cluster_array)\n",
    "cluster_array_scaled"
   ]
  },
  {
   "cell_type": "code",
   "execution_count": 181,
   "metadata": {},
   "outputs": [
    {
     "data": {
      "text/plain": [
       "537"
      ]
     },
     "execution_count": 181,
     "metadata": {},
     "output_type": "execute_result"
    }
   ],
   "source": [
    "len(cluster_array)"
   ]
  },
  {
   "cell_type": "code",
   "execution_count": 182,
   "metadata": {},
   "outputs": [],
   "source": [
    "kmeans = KMeansConstrained(n_clusters=7, size_min=76, size_max=90, random_state=0)"
   ]
  },
  {
   "cell_type": "code",
   "execution_count": 183,
   "metadata": {},
   "outputs": [
    {
     "data": {
      "text/plain": [
       "array([2, 5, 0, 3, 6, 1, 0, 1, 4, 3, 2, 5, 6, 2, 2, 2, 0, 1, 1, 0, 6, 6,\n",
       "       2, 4, 4, 1, 1, 6, 4, 3, 3, 4, 4, 5, 2, 5, 6, 3, 6, 4, 6, 2, 4, 4,\n",
       "       1, 2, 3, 6, 1, 5, 3, 0, 1, 6, 5, 2, 3, 1, 4, 4, 3, 3, 3, 4, 2, 4,\n",
       "       5, 6, 5, 1, 6, 0, 1, 3, 0, 3, 6, 0, 4, 3, 0, 4, 4, 6, 6, 5, 4, 3,\n",
       "       1, 4, 1, 5, 3, 5, 6, 1, 2, 1, 2, 1, 3, 1, 6, 6, 2, 6, 6, 0, 1, 5,\n",
       "       3, 4, 4, 5, 0, 2, 1, 3, 1, 0, 1, 2, 5, 3, 3, 0, 4, 3, 4, 2, 6, 2,\n",
       "       6, 3, 6, 0, 1, 3, 0, 1, 1, 0, 3, 1, 4, 5, 4, 0, 3, 1, 0, 1, 6, 5,\n",
       "       0, 1, 6, 4, 1, 3, 5, 5, 2, 5, 4, 5, 1, 5, 5, 1, 5, 1, 5, 0, 0, 0,\n",
       "       2, 3, 5, 0, 3, 0, 6, 5, 1, 3, 5, 2, 6, 6, 2, 4, 0, 5, 0, 0, 3, 2,\n",
       "       6, 2, 3, 5, 4, 2, 0, 3, 6, 0, 1, 6, 4, 2, 3, 3, 3, 2, 0, 3, 2, 0,\n",
       "       5, 0, 2, 0, 3, 5, 5, 0, 5, 0, 4, 5, 4, 1, 0, 3, 4, 6, 1, 5, 3, 2,\n",
       "       6, 2, 2, 2, 4, 5, 1, 4, 0, 2, 2, 3, 1, 6, 5, 0, 5, 1, 2, 1, 4, 1,\n",
       "       6, 2, 5, 5, 0, 1, 5, 3, 3, 5, 5, 1, 0, 3, 2, 6, 1, 0, 5, 1, 1, 5,\n",
       "       2, 6, 4, 3, 3, 0, 4, 4, 4, 4, 3, 2, 3, 2, 3, 1, 4, 1, 2, 0, 5, 6,\n",
       "       3, 2, 0, 3, 2, 3, 6, 2, 5, 4, 6, 5, 2, 0, 2, 4, 3, 1, 4, 0, 6, 3,\n",
       "       3, 5, 1, 2, 2, 1, 5, 0, 0, 3, 4, 0, 5, 3, 5, 6, 1, 1, 4, 5, 2, 3,\n",
       "       4, 4, 6, 5, 5, 6, 4, 6, 5, 6, 5, 6, 4, 4, 2, 6, 6, 1, 6, 5, 4, 3,\n",
       "       4, 2, 0, 4, 2, 4, 0, 3, 2, 2, 1, 0, 6, 0, 1, 6, 5, 4, 3, 3, 4, 0,\n",
       "       3, 6, 6, 6, 2, 6, 6, 0, 4, 6, 3, 2, 4, 1, 0, 6, 4, 0, 3, 0, 1, 2,\n",
       "       6, 0, 2, 1, 5, 0, 1, 6, 4, 2, 2, 4, 6, 4, 2, 4, 3, 4, 6, 6, 6, 3,\n",
       "       5, 0, 5, 2, 1, 3, 2, 3, 5, 0, 4, 1, 1, 6, 1, 2, 0, 0, 0, 0, 5, 5,\n",
       "       0, 0, 3, 6, 3, 1, 1, 0, 6, 5, 5, 0, 5, 0, 2, 5, 4, 3, 1, 4, 1, 4,\n",
       "       5, 3, 1, 3, 2, 6, 2, 6, 4, 1, 5, 3, 4, 0, 5, 6, 1, 2, 6, 6, 3, 2,\n",
       "       3, 6, 0, 6, 2, 0, 3, 4, 5, 3, 6, 1, 0, 5, 4, 4, 2, 1, 5, 3, 5, 4,\n",
       "       2, 2, 2, 0, 1, 3, 1, 2, 4])"
      ]
     },
     "execution_count": 183,
     "metadata": {},
     "output_type": "execute_result"
    }
   ],
   "source": [
    "kmeans.fit_predict(cluster_array_scaled)"
   ]
  },
  {
   "cell_type": "code",
   "execution_count": 184,
   "metadata": {},
   "outputs": [
    {
     "name": "stdout",
     "output_type": "stream",
     "text": [
      "[[0.87766216 0.81649024]\n",
      " [0.68919976 0.63685755]\n",
      " [0.62776844 0.55320734]\n",
      " [0.80950158 0.7218099 ]\n",
      " [0.72232567 0.76050394]\n",
      " [0.46330345 0.38565242]\n",
      " [0.77994622 0.6244596 ]]\n"
     ]
    }
   ],
   "source": [
    "print(kmeans.cluster_centers_)"
   ]
  },
  {
   "cell_type": "code",
   "execution_count": 185,
   "metadata": {},
   "outputs": [],
   "source": [
    "cluster_data['cluster'] = kmeans.labels_"
   ]
  },
  {
   "cell_type": "code",
   "execution_count": 186,
   "metadata": {},
   "outputs": [
    {
     "data": {
      "image/png": "[encoded data removed]",
      "text/plain": [
       "<Figure size 432x288 with 2 Axes>"
      ]
     },
     "metadata": {
      "needs_background": "light"
     },
     "output_type": "display_data"
    }
   ],
   "source": [
    "output = plt.scatter(cluster_array_scaled[:,0], cluster_array_scaled[:,1], s = 5, c = cluster_data.cluster, marker = \"o\", alpha = 1)\n",
    "centers = kmeans.cluster_centers_\n",
    "plt.scatter(centers[:,0], centers[:,1], c='red', s=10, alpha=1 , marker='o')\n",
    "plt.title('K-means Clustering')\n",
    "plt.xlabel('Rides Miles Normalized')\n",
    "plt.ylabel('Idle Miles Normalized')\n",
    "plt.colorbar(output)\n",
    "plt.show()"
   ]
  },
  {
   "cell_type": "code",
   "execution_count": 187,
   "metadata": {},
   "outputs": [],
   "source": [
    "cluster_map = pd.DataFrame()\n",
    "cluster_map['cab_id'] = cluster_data.index.values\n",
    "cluster_map['cluster'] = kmeans.labels_"
   ]
  },
  {
   "cell_type": "code",
   "execution_count": 188,
   "metadata": {},
   "outputs": [
    {
     "data": {
      "text/plain": [
       "cluster\n",
       "0    76\n",
       "1    76\n",
       "2    76\n",
       "3    81\n",
       "4    76\n",
       "5    76\n",
       "6    76\n",
       "Name: cab_id, dtype: int64"
      ]
     },
     "execution_count": 188,
     "metadata": {},
     "output_type": "execute_result"
    }
   ],
   "source": [
    "cluster_map.groupby('cluster')['cab_id'].count()"
   ]
  },
  {
   "cell_type": "markdown",
   "metadata": {},
   "source": [
    "# End of code"
   ]
  }
 ],
 "metadata": {
  "kernelspec": {
   "display_name": "Python 3",
   "language": "python",
   "name": "python3"
  },
  "language_info": {
   "codemirror_mode": {
    "name": "ipython",
    "version": 3
   },
   "file_extension": ".py",
   "mimetype": "text/x-python",
   "name": "python",
   "nbconvert_exporter": "python",
   "pygments_lexer": "ipython3",
   "version": "3.8.5"
  }
 },
 "nbformat": 4,
 "nbformat_minor": 4
}
